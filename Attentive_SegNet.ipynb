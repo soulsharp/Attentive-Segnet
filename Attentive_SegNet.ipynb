{
  "cells": [
    {
      "cell_type": "markdown",
      "metadata": {
        "id": "view-in-github",
        "colab_type": "text"
      },
      "source": [
        "<a href=\"https://colab.research.google.com/github/soulsharp/Attentive-Segnet/blob/main/Attentive_SegNet.ipynb\" target=\"_parent\"><img src=\"https://colab.research.google.com/assets/colab-badge.svg\" alt=\"Open In Colab\"/></a>"
      ]
    },
    {
      "cell_type": "code",
      "execution_count": 128,
      "metadata": {
        "id": "vrIycxsQ1hT6"
      },
      "outputs": [],
      "source": [
        "import torch\n",
        "import torch.nn as nn\n",
        "import torch.nn.functional as F\n",
        "import numpy as np\n",
        "import matplotlib.pyplot as plt\n",
        "import cv2 as cv\n",
        "import os\n",
        "from torch.utils.data import DataLoader, random_split\n",
        "from torch.utils.data.dataset import Dataset\n",
        "from torch.optim import Adam\n",
        "from torch.optim.lr_scheduler import ReduceLROnPlateau\n",
        "from tqdm import tqdm\n",
        "import math\n",
        "import random\n",
        "import seaborn as sns"
      ]
    },
    {
      "cell_type": "code",
      "source": [
        "device = torch.device('cuda' if torch.cuda.is_available() else 'cpu')"
      ],
      "metadata": {
        "id": "NLfQ5e01TkW1"
      },
      "execution_count": 129,
      "outputs": []
    },
    {
      "cell_type": "markdown",
      "source": [
        "**Config dictionary** contains the configuration parameters for training and constructing the model"
      ],
      "metadata": {
        "id": "9ubBedZscBXp"
      }
    },
    {
      "cell_type": "code",
      "source": [
        "config = {\n",
        "\n",
        "    \"embed_dim\":64,\n",
        "    \"patch_size\":32,\n",
        "    \"in_channels\":3,\n",
        "    \"weight_bce\": 0.01,\n",
        "    \"weight_dice\": 0.99,\n",
        "    \"epsilon_loss_fn\": 1e6,\n",
        "    \"train_batch_size\": 32,\n",
        "    \"train_epochs\": 50,\n",
        "    \"lr\": 1e-4,\n",
        "    \"ckpt_name\": 'att_segnet.pth',\n",
        "    \"model_save_path\":\"/content/saved_models\"\n",
        "\n",
        "}"
      ],
      "metadata": {
        "id": "7V59zsQYUNDd"
      },
      "execution_count": 130,
      "outputs": []
    },
    {
      "cell_type": "markdown",
      "source": [
        "**CrackDataset** derived from torch.utils.data.Dataset contains logic to load the dataset from certain directories and apply transformations/ augmentations to it, if provided\n",
        "\n",
        "\n"
      ],
      "metadata": {
        "id": "8S3qOzNKcJ7d"
      }
    },
    {
      "cell_type": "code",
      "source": [
        "class CrackDataset(Dataset):\n",
        "    def __init__(self, image_dir, mask_dir, transform=None):\n",
        "        \"\"\"\n",
        "        Custom Concrete Failure Detection(Crack) dataset\n",
        "\n",
        "        Args:\n",
        "            image_dir (str): Path to the directory containing RGB images.\n",
        "            mask_dir (str): Path to the directory containing mask images.\n",
        "            transform (callable, optional): A function/transform to apply to both images and masks.\n",
        "        \"\"\"\n",
        "        self.image_paths = sorted([os.path.join(image_dir, fname) for fname in os.listdir(image_dir) if fname.endswith(('.jpg', '.png', '.jpeg'))])\n",
        "        self.mask_paths = sorted([os.path.join(mask_dir, fname) for fname in os.listdir(mask_dir) if fname.endswith(('.jpg', '.png', '.jpeg'))])\n",
        "\n",
        "        if len(self.image_paths) != len(self.mask_paths):\n",
        "            raise ValueError(\"Number of images and masks must be the same!\")\n",
        "\n",
        "        self.transform = transform\n",
        "\n",
        "    def __len__(self):\n",
        "        return len(self.image_paths)\n",
        "\n",
        "    def __getitem__(self, idx):\n",
        "        # Loads image and mask\n",
        "        image_path = self.image_paths[idx]\n",
        "        mask_path = self.mask_paths[idx]\n",
        "\n",
        "        image = cv.imread(image_path)\n",
        "        mask = cv.imread(mask_path, cv.IMREAD_GRAYSCALE)\n",
        "\n",
        "        if image is None:\n",
        "            raise ValueError(f\"Failed to load image: {image_path}\")\n",
        "        if mask is None:\n",
        "            raise ValueError(f\"Failed to load mask: {mask_path}\")\n",
        "\n",
        "        # Applies transformations\n",
        "        if self.transform:\n",
        "            image, mask = self.transform(image, mask)\n",
        "\n",
        "        # Convert to tensors\n",
        "        image = torch.as_tensor(image, dtype=torch.float32).permute(2, 0, 1)\n",
        "        mask = torch.as_tensor(mask, dtype=torch.float32)\n",
        "\n",
        "        return image, mask\n",
        "\n",
        "# Simple preprocessing function\n",
        "def transform_image_and_mask(image, mask, size=512):\n",
        "    # Resize image and mask\n",
        "    image = cv.resize(image, (size, size), interpolation=cv.INTER_NEAREST)\n",
        "    mask = cv.resize(mask, (size, size), interpolation=cv.INTER_NEAREST)\n",
        "    mask = mask/255.0\n",
        "    return image, mask"
      ],
      "metadata": {
        "id": "_ti1LYG7irdA"
      },
      "execution_count": 131,
      "outputs": []
    },
    {
      "cell_type": "markdown",
      "source": [
        "This function creates the train data loader and the validation data loader from given image directories using the CrackDataset class"
      ],
      "metadata": {
        "id": "G9snxrGwc7J_"
      }
    },
    {
      "cell_type": "code",
      "source": [
        "def make_train_val_loaders(image_directory, mask_directory):\n",
        "  # Instantiates dataset\n",
        "  dataset = CrackDataset(image_dir=image_directory, mask_dir=mask_directory, transform=transform_image_and_mask)\n",
        "\n",
        "  # Train-validation split\n",
        "  train_ratio = 0.8\n",
        "  train_size = int(len(dataset) * train_ratio)\n",
        "  val_size = len(dataset) - train_size\n",
        "  train_dataset, val_dataset = random_split(dataset, [train_size, val_size])\n",
        "\n",
        "  # Creates DataLoaders\n",
        "  train_loader = DataLoader(train_dataset, batch_size=32, shuffle=True, num_workers=2)\n",
        "  val_loader = DataLoader(val_dataset, batch_size=32, shuffle=False, num_workers=2)\n",
        "\n",
        "  return train_loader, val_loader"
      ],
      "metadata": {
        "id": "gZ3cdLrOCtua"
      },
      "execution_count": 132,
      "outputs": []
    },
    {
      "cell_type": "markdown",
      "source": [
        "**Patch_Embedding**\n",
        "\n",
        "This class derived from nn.Module forms a core transformation included in the Attentive Segnet model.It takes an image batch of shape **(Batch_size, channels, height, width)** and divides the input images into equal sized patches resulting in a tensor of the shape **(Batch_size, num_patches, embed_dim)**.\n",
        "\n",
        "Each patch contains encoded information about a section of the image"
      ],
      "metadata": {
        "id": "kLXC-bP9dX0A"
      }
    },
    {
      "cell_type": "code",
      "execution_count": 133,
      "metadata": {
        "id": "5K-5mDs8sat9"
      },
      "outputs": [],
      "source": [
        "# Encodes patch representation of an image batch\n",
        "class Patch_Embedding(nn.Module):\n",
        "    def __init__(self, embed_dim=64, patch_size=32, in_channels=3):\n",
        "        super(Patch_Embedding, self).__init__()\n",
        "        self.patch_size = patch_size\n",
        "        self.embed_dim = embed_dim\n",
        "        self.convolution = nn.Conv2d(in_channels, embed_dim, kernel_size=patch_size, stride=patch_size)\n",
        "\n",
        "    def forward(self, x):\n",
        "        # Expects x to be of shape (batch_size, channels, height, width)\n",
        "        h, w = x.shape[2], x.shape[3]\n",
        "        if h % self.patch_size != 0 or w % self.patch_size != 0:\n",
        "          raise ValueError(\"Input dimensions must be divisible by the patch size.\")\n",
        "        # Applies convolution to create patches\n",
        "        patches = self.convolution(x)\n",
        "\n",
        "        return patches"
      ]
    },
    {
      "cell_type": "code",
      "execution_count": 134,
      "metadata": {
        "id": "-tro-lDSES7x"
      },
      "outputs": [],
      "source": [
        "# returns a tensor after applying maxpool2d\n",
        "# also returns the indices used up in the max pool\n",
        "class MaxPoolWithIndices(nn.Module):\n",
        "    def __init__(self, kernel_size, stride):\n",
        "        super(MaxPoolWithIndices, self).__init__()\n",
        "        self.kernel_size = kernel_size\n",
        "        self.stride = stride\n",
        "        self.maxpool = nn.MaxPool2d(kernel_size=self.kernel_size, stride=self.stride, return_indices=True)\n",
        "\n",
        "    def forward(self, x):\n",
        "        output, indices = self.maxpool(x)\n",
        "        return output, indices"
      ]
    },
    {
      "cell_type": "code",
      "execution_count": 135,
      "metadata": {
        "id": "OodSqmZql7Ck"
      },
      "outputs": [],
      "source": [
        "# basic convblock with conv2d-->batchnorm-->relu-->maxpool(optional)\n",
        "class ConvBlock(nn.Module):\n",
        "    def __init__(self, in_channels, out_channels, kernel_size, stride, padding, maxpool_flag=True):\n",
        "        super(ConvBlock, self).__init__()\n",
        "        self.maxpool_flag = maxpool_flag\n",
        "        self.operation_seq = nn.Sequential(\n",
        "            nn.Conv2d(in_channels, out_channels, kernel_size=kernel_size, stride=stride, padding=padding),\n",
        "            nn.BatchNorm2d(out_channels),\n",
        "            nn.ReLU()\n",
        "        )\n",
        "        if self.maxpool_flag:\n",
        "            self.maxpool = MaxPoolWithIndices(kernel_size=2, stride=2)\n",
        "\n",
        "    def forward(self, x):\n",
        "        x = self.operation_seq(x)\n",
        "\n",
        "        if self.maxpool_flag:\n",
        "            pooled, indices = self.maxpool(x)\n",
        "            return pooled, indices\n",
        "        else:\n",
        "            return x, None"
      ]
    },
    {
      "cell_type": "code",
      "source": [
        "class Downsample(nn.Module):\n",
        "    def __init__(self):\n",
        "        super(Downsample, self).__init__()\n",
        "\n",
        "        # Initializes the conv blocks\n",
        "        self.conv_blocks = nn.ModuleList([\n",
        "            ConvBlock(3, 8, 3, 1, 1),\n",
        "            ConvBlock(8, 16, 3, 1, 1),\n",
        "            ConvBlock(16, 32, 3, 1, 1),\n",
        "            ConvBlock(32, 64, 3, 4, 1, False)  # block4 (no maxpool)\n",
        "        ])\n",
        "\n",
        "    def forward(self, input_tensor):\n",
        "        max_indices = {}\n",
        "        bottleneck_input = None\n",
        "\n",
        "        # Ensures that input dimensions are divisible by 4\n",
        "        assert input_tensor.shape[-2] % 4 == 0 and input_tensor.shape[-1] % 4 == 0, \\\n",
        "            \"Input dimensions must be divisible by 4 for this downsampling pipeline.\"\n",
        "\n",
        "        # Goes through all blocks in conv blocks sequentially\n",
        "        for idx, conv_block in enumerate(self.conv_blocks):\n",
        "            input_tensor, indices = conv_block(input_tensor)\n",
        "\n",
        "            # Saves max indices for each block\n",
        "            block_name = f\"block{idx + 1}\"\n",
        "\n",
        "            # The last block ie block4 gives the output to be used as bottleneck\n",
        "            if block_name == \"block4\":\n",
        "                bottleneck_input = input_tensor\n",
        "            else:\n",
        "                max_indices[block_name] = indices\n",
        "\n",
        "        return max_indices, bottleneck_input"
      ],
      "metadata": {
        "id": "LWOimefk6wsX"
      },
      "execution_count": 136,
      "outputs": []
    },
    {
      "cell_type": "code",
      "execution_count": 137,
      "metadata": {
        "id": "Kzwfjl1MWO4o"
      },
      "outputs": [],
      "source": [
        "# Attention weights to scale the patch embed representation\n",
        "class AttentionWeights(nn.Module):\n",
        "    def __init__(self, output_dim):\n",
        "        super(AttentionWeights, self).__init__()\n",
        "        self.alphas = nn.Parameter(torch.randn(output_dim))\n",
        "        self.layer_norm = nn.LayerNorm([256, 64])\n",
        "\n",
        "    def forward(self, patch_emb_tensor):\n",
        "\n",
        "        # adding a dimension ie making alphas (256, 1) for proper broadcasting\n",
        "        scaled_input = self.alphas.unsqueeze(1) * patch_emb_tensor\n",
        "\n",
        "        # Normalizes input for stability\n",
        "        normalized_scaled_input = self.layer_norm(scaled_input)\n",
        "\n",
        "        return normalized_scaled_input\n"
      ]
    },
    {
      "cell_type": "code",
      "execution_count": 138,
      "metadata": {
        "id": "3xPWxsxOGx-H"
      },
      "outputs": [],
      "source": [
        "# Takes in the bottleneck tensor and adds patch embeddings to it\n",
        "def add_bottleneck_and_patch_embeddings(bottleneck, patch_embedding):\n",
        "\n",
        "  num_batches, num_channels, h, w = bottleneck.shape\n",
        "  patch_embedding = patch_embedding.permute(0, 2, 1)\n",
        "  patch_embedding = patch_embedding.view(num_batches, num_channels, h, w)\n",
        "\n",
        "  return bottleneck + patch_embedding"
      ]
    },
    {
      "cell_type": "code",
      "source": [
        "class UpBlock(nn.Module):\n",
        "    def __init__(self, in_channels, out_channels, kernel_size, stride, padding):\n",
        "        super(UpBlock, self).__init__()\n",
        "        self.operation_sequence = nn.Sequential(\n",
        "            nn.ConvTranspose2d(in_channels, out_channels, kernel_size, stride, padding, bias=False),\n",
        "            nn.BatchNorm2d(out_channels),\n",
        "            nn.ReLU(),\n",
        "        )\n",
        "\n",
        "    def forward(self, x):\n",
        "        output = self.operation_sequence(x)\n",
        "        return output"
      ],
      "metadata": {
        "id": "C_93qBvHHGAH"
      },
      "execution_count": 139,
      "outputs": []
    },
    {
      "cell_type": "code",
      "source": [
        "class Unpool2d(nn.Module):\n",
        "  def __init__(self, k_sz, stride):\n",
        "    super(Unpool2d, self).__init__()\n",
        "    self.unpool2d = nn.MaxUnpool2d(k_sz, stride)\n",
        "\n",
        "  def forward(self, pooled, indices):\n",
        "    return self.unpool2d(pooled, indices)"
      ],
      "metadata": {
        "id": "zWAizrIRfQdS"
      },
      "execution_count": 140,
      "outputs": []
    },
    {
      "cell_type": "code",
      "source": [
        "class Upsample(nn.Module):\n",
        "    def __init__(self):\n",
        "        super(Upsample, self).__init__()\n",
        "\n",
        "        # Defines the sequence of UpBlocks and Unpool2d layers\n",
        "        self.up_blocks = nn.ModuleList([\n",
        "            UpBlock(64, 32, kernel_size=4, stride=4, padding=0),\n",
        "            Unpool2d(2, 2),\n",
        "            UpBlock(32, 16, kernel_size=3, stride=1, padding=1),\n",
        "            Unpool2d(2, 2),\n",
        "            UpBlock(16, 8, kernel_size=3, stride=1, padding=1),\n",
        "            Unpool2d(2, 2),\n",
        "            UpBlock(8, 1, kernel_size=3, stride=1, padding=1),\n",
        "        ])\n",
        "\n",
        "    def forward(self, input_tensor, max_indices):\n",
        "        count = 0\n",
        "        for idx, layer in enumerate(self.up_blocks):\n",
        "\n",
        "            # Upblock layer\n",
        "            if idx % 2 == 0:\n",
        "                input_tensor = layer(input_tensor)\n",
        "\n",
        "            # Unpool layer\n",
        "            else:\n",
        "                max_index_key = \"block\" + str(3 - count)\n",
        "                input_tensor = layer(input_tensor, max_indices[max_index_key])\n",
        "                count += 1\n",
        "        return input_tensor"
      ],
      "metadata": {
        "id": "5WL-YOtJ1Bjm"
      },
      "execution_count": 141,
      "outputs": []
    },
    {
      "cell_type": "code",
      "source": [
        "class weightedBCEDiceLoss(nn.Module):\n",
        "  def __init__(self, weight_BCE, weight_Dice, epsilon):\n",
        "    super(weightedBCEDiceLoss, self).__init__()\n",
        "    self.alpha = weight_BCE\n",
        "    self.beta = weight_Dice\n",
        "    self.eps = epsilon\n",
        "    assert math.isclose(self.alpha + self.beta, 1.0, rel_tol=1e-6), \"Weights of BCE and Dice Loss must sum to 1\"\n",
        "\n",
        "  def forward(self, preds, targets):\n",
        "    preds = preds.view(-1)\n",
        "    targets = targets.view(-1)\n",
        "    print(f\"Shape of prds is {preds.shape}, shape of targets is {targets.shape}\")\n",
        "\n",
        "    bce_criterion = nn.BCELoss()\n",
        "    bce_loss = bce_criterion(preds, targets)\n",
        "\n",
        "    intersection = torch.sum(preds * targets)\n",
        "    union = torch.sum(preds) + torch.sum(targets)\n",
        "    dice_coeff = (2 * intersection + self.eps) / (union + self.eps)\n",
        "    dice_loss = 1 - dice_coeff\n",
        "\n",
        "    total_loss = self.alpha * bce_loss + self.beta * dice_loss\n",
        "\n",
        "    return total_loss\n"
      ],
      "metadata": {
        "id": "rTXxl7Noivj1"
      },
      "execution_count": 142,
      "outputs": []
    },
    {
      "cell_type": "code",
      "source": [
        "class AttentiveSegnet(nn.Module):\n",
        "  def __init__(self, config):\n",
        "    super(AttentiveSegnet, self).__init__()\n",
        "    self.patch_embedding = Patch_Embedding(config[\"embed_dim\"], config[\"patch_size\"], config[\"in_channels\"])\n",
        "    self.downsample_block = Downsample()\n",
        "    self.upsample_block = Upsample()\n",
        "    self.attention_weights = AttentionWeights(256)\n",
        "    self.embed_dim = config['embed_dim']\n",
        "    self.sigmoid = nn.Sigmoid()\n",
        "\n",
        "  def forward(self, x):\n",
        "    # Computes patch encodings for the input tensor x and scales the representations\n",
        "    patched_encodings = self.patch_embedding(x)\n",
        "    patched_encodings = patched_encodings.view(patched_encodings.size(0), -1, self.embed_dim)\n",
        "    attention_dim = patched_encodings.size(1)\n",
        "\n",
        "    # # Dynamically initialize attention weights if not already initialized\n",
        "    # if self.attention_weights is None:\n",
        "    #   self.attention_weights = AttentionWeights(attention_dim)\n",
        "    #   self.add_module(\"Attention_weights\", self.attention_weights)\n",
        "\n",
        "    # self.attention_weights = self.attention_weights.to(patched_encodings.device)\n",
        "\n",
        "    scaled_embeddings = self.attention_weights(patched_encodings)\n",
        "\n",
        "    # Downsample, combine embeddings and upscale\n",
        "    max_indices, bottleneck_input = self.downsample_block(x)\n",
        "\n",
        "    print(f\"Max val of bneck input is {torch.max(bottleneck_input)}, Min val of bneck input is {torch.min(bottleneck_input)}\")\n",
        "\n",
        "    bottleneck_plus_emb = add_bottleneck_and_patch_embeddings(bottleneck_input, scaled_embeddings)\n",
        "\n",
        "    print(f\"Max val of bottleneck_plus_emb {torch.max(bottleneck_plus_emb)}, Min val of bneckplusemb is {torch.min(bottleneck_plus_emb)}\")\n",
        "    output_mask = self.upsample_block(bottleneck_plus_emb, max_indices)\n",
        "\n",
        "    # Debugging\n",
        "    print(f\"Max val before sigmoid is {torch.max(output_mask)}, Min val before sigmoid is {torch.min(output_mask)}\")\n",
        "    output_mask = self.sigmoid(output_mask)\n",
        "\n",
        "    return output_mask\n"
      ],
      "metadata": {
        "id": "XLxaHDIT6F5o"
      },
      "execution_count": 143,
      "outputs": []
    },
    {
      "cell_type": "code",
      "source": [
        "def train_for_one_epoch(epoch_idx, model, train_loader, optimizer, config):\n",
        "\n",
        "    r\"\"\"\n",
        "    Method to run the training for one epoch.\n",
        "    :param epoch_idx: iteration number of current epoch\n",
        "    :param model: Attentive SegNet model\n",
        "    :param train_loader: Dataloader for the training set\n",
        "    :param optimizer: optimizer to be used\n",
        "    :param config: config dictionary that contains model information\n",
        "    :return: loss value for the epoch\n",
        "    \"\"\"\n",
        "\n",
        "    losses = []\n",
        "    criterion = weightedBCEDiceLoss(config[\"weight_bce\"], config[\"weight_dice\"], config[\"epsilon_loss_fn\"])\n",
        "\n",
        "    # Iterates through the dataloader in form of batches\n",
        "    for batch in tqdm(train_loader):\n",
        "        im, mask = batch\n",
        "        im = im.to(device)\n",
        "        mask = mask.to(device)\n",
        "        optimizer.zero_grad()\n",
        "        model_output = model(im)\n",
        "        loss = criterion(model_output, mask)\n",
        "        losses.append(loss.item())\n",
        "        loss.backward()\n",
        "        optimizer.step()\n",
        "\n",
        "    # Prints epoch and loss info\n",
        "    print('Finished epoch: {} | Number Loss : {:.4f}'.\n",
        "          format(epoch_idx + 1,\n",
        "                 np.mean(losses)))\n",
        "    return np.mean(losses)\n",
        "\n",
        "def train(train_loader, config):\n",
        "    model = AttentiveSegnet(config).to(device)\n",
        "    num_epochs = config['train_epochs']\n",
        "    optimizer = Adam(model.parameters(), lr=config['lr'])\n",
        "    scheduler = ReduceLROnPlateau(optimizer, factor=0.5, patience=2, verbose=True)\n",
        "\n",
        "    # Creates output directories\n",
        "    if not os.path.exists(config['model_save_path']):\n",
        "        os.mkdir(config['model_save_path'])\n",
        "\n",
        "    # Loads checkpoint if found\n",
        "    if os.path.exists(os.path.join(config['model_save_path'], config['ckpt_name'])):\n",
        "        print('Loading checkpoint')\n",
        "        model.load_state_dict(torch.load(os.path.join(config['model_save_path'],\n",
        "                                    config['ckpt_name']), map_location=device))\n",
        "    best_loss = np.inf\n",
        "\n",
        "    for epoch_idx in range(num_epochs):\n",
        "        mean_loss = train_for_one_epoch(epoch_idx, model, train_loader, optimizer, config)\n",
        "        scheduler.step(mean_loss)\n",
        "\n",
        "        # Updates checkpoint if better model params found\n",
        "        if mean_loss < best_loss:\n",
        "            print('Improved Loss to {:.4f} .... Saving Model'.format(mean_loss))\n",
        "            torch.save(model.state_dict(), os.path.join(config['model_save_path'],\n",
        "                                            config['ckpt_name']))\n",
        "            best_loss = mean_loss\n",
        "        else:\n",
        "            print('No Loss Improvement')"
      ],
      "metadata": {
        "id": "Esj0UYB0GIEx"
      },
      "execution_count": 144,
      "outputs": []
    },
    {
      "cell_type": "code",
      "source": [
        "def get_segmentation_accuracy(preds, targets):\n",
        "  preds = preds.view(-1)\n",
        "  targets = targets.view(-1)\n",
        "\n",
        "  matches = (preds == targets).sum().item()\n",
        "  accuracy = matches / preds.size(0)\n",
        "  return accuracy\n",
        "\n",
        "def post_process(preds):\n",
        "  result = torch.where(preds>0.505, 255.0 , 0.0)\n",
        "  return result\n",
        "\n",
        "def visualize_preds(preds, masks):\n",
        "   fig, axes = plt.subplots(4, 2, figsize=(10, 20))\n",
        "\n",
        "   for i in range(4):\n",
        "      axes[i, 0].imshow(masks[i].squeeze(1).cpu().detach().numpy(), cmap='gray')\n",
        "      axes[i, 0].set_title(f\"Ground Truth {i+1}\")\n",
        "      axes[i, 0].axis('off')\n",
        "\n",
        "      axes[i, 1].imshow(preds[i].squeeze().cpu().detach().numpy(), cmap='gray')\n",
        "      axes[i, 1].set_title(f\"Prediction {i+1}\")\n",
        "      axes[i, 1].axis('off')\n",
        "\n",
        "   plt.tight_layout()\n",
        "   plt.show()\n",
        "\n",
        "\n",
        "def inference(val_loader, config):\n",
        "   model = AttentiveSegnet(config).to(device)\n",
        "   model.eval()\n",
        "\n",
        "   # Loads checkpoint if found\n",
        "   if os.path.exists(os.path.join(config['model_save_path'], config['ckpt_name'])):\n",
        "        print('Loading checkpoint')\n",
        "        model.load_state_dict(torch.load(os.path.join(config['model_save_path'],\n",
        "                                     config['ckpt_name']), map_location=device))\n",
        "   else:\n",
        "        print('No checkpoint found at {}'.format(os.path.join(config['model_save_path'],\n",
        "                                        config['ckpt_name'])))\n",
        "\n",
        "   for idx, batch in enumerate(tqdm(val_loader)):\n",
        "        im, mask = batch\n",
        "        im = im.to(device)\n",
        "        mask = mask.to(device)\n",
        "        preds = model(im)\n",
        "        preds = preds.to(device)\n",
        "\n",
        "        preds = post_process(preds)\n",
        "\n",
        "        # Randomly picks any 4 images of the 1st batch for viz\n",
        "        if idx == 0:\n",
        "            random_indices = random.sample(range(im.size(0)), 4)\n",
        "            selected_images = im[random_indices]\n",
        "            selected_preds = preds[random_indices]\n",
        "            selected_masks = mask[random_indices]\n",
        "            visualize_preds(selected_preds, selected_masks)\n",
        "\n",
        "            print(torch.max(selected_preds), torch.min(selected_preds))\n",
        "\n",
        "            sns.histplot(selected_preds.cpu().detach().numpy().flatten(), bins=255)\n",
        "            plt.title(\"Distribution of Selected Predictions\")\n",
        "            plt.xlabel(\"Prediction Values\")\n",
        "            plt.ylabel(\"Frequency\")\n",
        "            plt.show()\n",
        "\n",
        "\n",
        "\n",
        "        accuracy = get_segmentation_accuracy(preds, mask)\n",
        "        print(f\"Accuracy in batch {idx} during validation is: {accuracy:.4f}\")"
      ],
      "metadata": {
        "id": "zo5uJJi5KFW2"
      },
      "execution_count": 145,
      "outputs": []
    },
    {
      "cell_type": "code",
      "source": [
        "image_directory = \"/content/images\"\n",
        "mask_directory = \"/content/masks\"\n",
        "train_loader, val_loader = make_train_val_loaders(image_directory, mask_directory)"
      ],
      "metadata": {
        "id": "pgUivfFuQnx9"
      },
      "execution_count": 146,
      "outputs": []
    },
    {
      "cell_type": "code",
      "source": [
        "model = AttentiveSegnet(config).to(device)\n",
        "print(type(model.parameters()))"
      ],
      "metadata": {
        "colab": {
          "base_uri": "https://localhost:8080/"
        },
        "id": "WvdiUp8FqARh",
        "outputId": "c9606c0a-c1bd-4823-b3dc-ea2d817b11c6"
      },
      "execution_count": 147,
      "outputs": [
        {
          "output_type": "stream",
          "name": "stdout",
          "text": [
            "<class 'generator'>\n"
          ]
        }
      ]
    },
    {
      "cell_type": "code",
      "source": [
        "for param in model.parameters():\n",
        "    print(param.device)"
      ],
      "metadata": {
        "id": "RjYoRygDrCfd",
        "colab": {
          "base_uri": "https://localhost:8080/"
        },
        "outputId": "9b8ad9bc-36a3-4589-af45-2fcb572bcd97"
      },
      "execution_count": 148,
      "outputs": [
        {
          "output_type": "stream",
          "name": "stdout",
          "text": [
            "cuda:0\n",
            "cuda:0\n",
            "cuda:0\n",
            "cuda:0\n",
            "cuda:0\n",
            "cuda:0\n",
            "cuda:0\n",
            "cuda:0\n",
            "cuda:0\n",
            "cuda:0\n",
            "cuda:0\n",
            "cuda:0\n",
            "cuda:0\n",
            "cuda:0\n",
            "cuda:0\n",
            "cuda:0\n",
            "cuda:0\n",
            "cuda:0\n",
            "cuda:0\n",
            "cuda:0\n",
            "cuda:0\n",
            "cuda:0\n",
            "cuda:0\n",
            "cuda:0\n",
            "cuda:0\n",
            "cuda:0\n",
            "cuda:0\n",
            "cuda:0\n",
            "cuda:0\n",
            "cuda:0\n",
            "cuda:0\n",
            "cuda:0\n",
            "cuda:0\n"
          ]
        }
      ]
    },
    {
      "cell_type": "code",
      "source": [
        "for name, param in model.named_parameters():\n",
        "    print(name, param.size(), param.device)"
      ],
      "metadata": {
        "id": "qEnqUh2Rruux",
        "colab": {
          "base_uri": "https://localhost:8080/"
        },
        "outputId": "352a955c-99af-4fb6-e4c6-68078a336001"
      },
      "execution_count": 149,
      "outputs": [
        {
          "output_type": "stream",
          "name": "stdout",
          "text": [
            "patch_embedding.convolution.weight torch.Size([64, 3, 32, 32]) cuda:0\n",
            "patch_embedding.convolution.bias torch.Size([64]) cuda:0\n",
            "downsample_block.conv_blocks.0.operation_seq.0.weight torch.Size([8, 3, 3, 3]) cuda:0\n",
            "downsample_block.conv_blocks.0.operation_seq.0.bias torch.Size([8]) cuda:0\n",
            "downsample_block.conv_blocks.0.operation_seq.1.weight torch.Size([8]) cuda:0\n",
            "downsample_block.conv_blocks.0.operation_seq.1.bias torch.Size([8]) cuda:0\n",
            "downsample_block.conv_blocks.1.operation_seq.0.weight torch.Size([16, 8, 3, 3]) cuda:0\n",
            "downsample_block.conv_blocks.1.operation_seq.0.bias torch.Size([16]) cuda:0\n",
            "downsample_block.conv_blocks.1.operation_seq.1.weight torch.Size([16]) cuda:0\n",
            "downsample_block.conv_blocks.1.operation_seq.1.bias torch.Size([16]) cuda:0\n",
            "downsample_block.conv_blocks.2.operation_seq.0.weight torch.Size([32, 16, 3, 3]) cuda:0\n",
            "downsample_block.conv_blocks.2.operation_seq.0.bias torch.Size([32]) cuda:0\n",
            "downsample_block.conv_blocks.2.operation_seq.1.weight torch.Size([32]) cuda:0\n",
            "downsample_block.conv_blocks.2.operation_seq.1.bias torch.Size([32]) cuda:0\n",
            "downsample_block.conv_blocks.3.operation_seq.0.weight torch.Size([64, 32, 3, 3]) cuda:0\n",
            "downsample_block.conv_blocks.3.operation_seq.0.bias torch.Size([64]) cuda:0\n",
            "downsample_block.conv_blocks.3.operation_seq.1.weight torch.Size([64]) cuda:0\n",
            "downsample_block.conv_blocks.3.operation_seq.1.bias torch.Size([64]) cuda:0\n",
            "upsample_block.up_blocks.0.operation_sequence.0.weight torch.Size([64, 32, 4, 4]) cuda:0\n",
            "upsample_block.up_blocks.0.operation_sequence.1.weight torch.Size([32]) cuda:0\n",
            "upsample_block.up_blocks.0.operation_sequence.1.bias torch.Size([32]) cuda:0\n",
            "upsample_block.up_blocks.2.operation_sequence.0.weight torch.Size([32, 16, 3, 3]) cuda:0\n",
            "upsample_block.up_blocks.2.operation_sequence.1.weight torch.Size([16]) cuda:0\n",
            "upsample_block.up_blocks.2.operation_sequence.1.bias torch.Size([16]) cuda:0\n",
            "upsample_block.up_blocks.4.operation_sequence.0.weight torch.Size([16, 8, 3, 3]) cuda:0\n",
            "upsample_block.up_blocks.4.operation_sequence.1.weight torch.Size([8]) cuda:0\n",
            "upsample_block.up_blocks.4.operation_sequence.1.bias torch.Size([8]) cuda:0\n",
            "upsample_block.up_blocks.6.operation_sequence.0.weight torch.Size([8, 1, 3, 3]) cuda:0\n",
            "upsample_block.up_blocks.6.operation_sequence.1.weight torch.Size([1]) cuda:0\n",
            "upsample_block.up_blocks.6.operation_sequence.1.bias torch.Size([1]) cuda:0\n",
            "attention_weights.alphas torch.Size([256]) cuda:0\n",
            "attention_weights.layer_norm.weight torch.Size([256, 64]) cuda:0\n",
            "attention_weights.layer_norm.bias torch.Size([256, 64]) cuda:0\n"
          ]
        }
      ]
    },
    {
      "cell_type": "code",
      "source": [
        "train(train_loader, config)"
      ],
      "metadata": {
        "id": "OyRnnH6NRSZY",
        "colab": {
          "base_uri": "https://localhost:8080/"
        },
        "outputId": "681d15d4-8c46-40bb-c632-02efa8c2d0c7"
      },
      "execution_count": 150,
      "outputs": [
        {
          "output_type": "stream",
          "name": "stderr",
          "text": [
            "/usr/local/lib/python3.10/dist-packages/torch/optim/lr_scheduler.py:62: UserWarning: The verbose parameter is deprecated. Please use get_last_lr() to access the learning rate.\n",
            "  warnings.warn(\n",
            "<ipython-input-144-6bec21f05579>:47: FutureWarning: You are using `torch.load` with `weights_only=False` (the current default value), which uses the default pickle module implicitly. It is possible to construct malicious pickle data which will execute arbitrary code during unpickling (See https://github.com/pytorch/pytorch/blob/main/SECURITY.md#untrusted-models for more details). In a future release, the default value for `weights_only` will be flipped to `True`. This limits the functions that could be executed during unpickling. Arbitrary objects will no longer be allowed to be loaded via this mode unless they are explicitly allowlisted by the user via `torch.serialization.add_safe_globals`. We recommend you start setting `weights_only=True` for any use case where you don't have full control of the loaded file. Please open an issue on GitHub for any issues related to this experimental feature.\n",
            "  model.load_state_dict(torch.load(os.path.join(config['model_save_path'],\n"
          ]
        },
        {
          "output_type": "stream",
          "name": "stdout",
          "text": [
            "Loading checkpoint\n"
          ]
        },
        {
          "output_type": "stream",
          "name": "stderr",
          "text": [
            " 33%|███▎      | 1/3 [00:00<00:01,  1.25it/s]"
          ]
        },
        {
          "output_type": "stream",
          "name": "stdout",
          "text": [
            "Max val of bneck input is 11.092195510864258, Min val of bneck input is 0.0\n",
            "Max val of bottleneck_plus_emb 22.111560821533203, Min val of bneckplusemb is -10.262385368347168\n",
            "Max val before sigmoid is 80.35240173339844, Min val before sigmoid is 0.0\n",
            "Shape of prds is torch.Size([8388608]), shape of targets is torch.Size([8388608])\n"
          ]
        },
        {
          "output_type": "stream",
          "name": "stderr",
          "text": [
            "\r 67%|██████▋   | 2/3 [00:01<00:00,  2.03it/s]"
          ]
        },
        {
          "output_type": "stream",
          "name": "stdout",
          "text": [
            "Max val of bneck input is 14.386489868164062, Min val of bneck input is 0.0\n",
            "Max val of bottleneck_plus_emb 23.5235538482666, Min val of bneckplusemb is -8.550742149353027\n",
            "Max val before sigmoid is 104.44290161132812, Min val before sigmoid is 0.0\n",
            "Shape of prds is torch.Size([8388608]), shape of targets is torch.Size([8388608])\n"
          ]
        },
        {
          "output_type": "stream",
          "name": "stderr",
          "text": [
            "100%|██████████| 3/3 [00:01<00:00,  2.23it/s]\n"
          ]
        },
        {
          "output_type": "stream",
          "name": "stdout",
          "text": [
            "Max val of bneck input is 14.403583526611328, Min val of bneck input is 0.0\n",
            "Max val of bottleneck_plus_emb 24.761363983154297, Min val of bneckplusemb is -8.287068367004395\n",
            "Max val before sigmoid is 70.64561462402344, Min val before sigmoid is 0.0\n",
            "Shape of prds is torch.Size([7602176]), shape of targets is torch.Size([7602176])\n",
            "Finished epoch: 1 | Number Loss : 0.7807\n",
            "Improved Loss to 0.7807 .... Saving Model\n"
          ]
        },
        {
          "output_type": "stream",
          "name": "stderr",
          "text": [
            " 33%|███▎      | 1/3 [00:00<00:01,  1.33it/s]"
          ]
        },
        {
          "output_type": "stream",
          "name": "stdout",
          "text": [
            "Max val of bneck input is 12.221141815185547, Min val of bneck input is 0.0\n",
            "Max val of bottleneck_plus_emb 23.0655517578125, Min val of bneckplusemb is -10.262893676757812\n",
            "Max val before sigmoid is 78.21542358398438, Min val before sigmoid is 0.0\n",
            "Shape of prds is torch.Size([8388608]), shape of targets is torch.Size([8388608])\n"
          ]
        },
        {
          "output_type": "stream",
          "name": "stderr",
          "text": [
            "\r 67%|██████▋   | 2/3 [00:00<00:00,  2.24it/s]"
          ]
        },
        {
          "output_type": "stream",
          "name": "stdout",
          "text": [
            "Max val of bneck input is 12.48653793334961, Min val of bneck input is 0.0\n",
            "Max val of bottleneck_plus_emb 21.76534652709961, Min val of bneckplusemb is -8.671154975891113\n",
            "Max val before sigmoid is 100.74642944335938, Min val before sigmoid is 0.0\n",
            "Shape of prds is torch.Size([8388608]), shape of targets is torch.Size([8388608])\n"
          ]
        },
        {
          "output_type": "stream",
          "name": "stderr",
          "text": [
            "100%|██████████| 3/3 [00:01<00:00,  2.38it/s]\n"
          ]
        },
        {
          "output_type": "stream",
          "name": "stdout",
          "text": [
            "Max val of bneck input is 14.249249458312988, Min val of bneck input is 0.0\n",
            "Max val of bottleneck_plus_emb 24.427297592163086, Min val of bneckplusemb is -7.489139556884766\n",
            "Max val before sigmoid is 80.03614807128906, Min val before sigmoid is 0.0\n",
            "Shape of prds is torch.Size([7602176]), shape of targets is torch.Size([7602176])\n",
            "Finished epoch: 2 | Number Loss : 0.7806\n",
            "Improved Loss to 0.7806 .... Saving Model\n"
          ]
        },
        {
          "output_type": "stream",
          "name": "stderr",
          "text": [
            " 33%|███▎      | 1/3 [00:00<00:01,  1.44it/s]"
          ]
        },
        {
          "output_type": "stream",
          "name": "stdout",
          "text": [
            "Max val of bneck input is 13.202081680297852, Min val of bneck input is 0.0\n",
            "Max val of bottleneck_plus_emb 22.005931854248047, Min val of bneckplusemb is -8.46653938293457\n",
            "Max val before sigmoid is 93.17179107666016, Min val before sigmoid is 0.0\n",
            "Shape of prds is torch.Size([8388608]), shape of targets is torch.Size([8388608])\n"
          ]
        },
        {
          "output_type": "stream",
          "name": "stderr",
          "text": [
            "\r 67%|██████▋   | 2/3 [00:00<00:00,  2.32it/s]"
          ]
        },
        {
          "output_type": "stream",
          "name": "stdout",
          "text": [
            "Max val of bneck input is 14.615917205810547, Min val of bneck input is 0.0\n",
            "Max val of bottleneck_plus_emb 24.585739135742188, Min val of bneckplusemb is -10.251321792602539\n",
            "Max val before sigmoid is 93.2017593383789, Min val before sigmoid is 0.0\n",
            "Shape of prds is torch.Size([8388608]), shape of targets is torch.Size([8388608])\n"
          ]
        },
        {
          "output_type": "stream",
          "name": "stderr",
          "text": [
            "100%|██████████| 3/3 [00:01<00:00,  2.49it/s]\n"
          ]
        },
        {
          "output_type": "stream",
          "name": "stdout",
          "text": [
            "Max val of bneck input is 13.014328002929688, Min val of bneck input is 0.0\n",
            "Max val of bottleneck_plus_emb 18.4781494140625, Min val of bneckplusemb is -7.988594055175781\n",
            "Max val before sigmoid is 85.30677032470703, Min val before sigmoid is 0.0\n",
            "Shape of prds is torch.Size([7602176]), shape of targets is torch.Size([7602176])\n",
            "Finished epoch: 3 | Number Loss : 0.7805\n",
            "Improved Loss to 0.7805 .... Saving Model\n"
          ]
        },
        {
          "output_type": "stream",
          "name": "stderr",
          "text": [
            " 33%|███▎      | 1/3 [00:00<00:01,  1.39it/s]"
          ]
        },
        {
          "output_type": "stream",
          "name": "stdout",
          "text": [
            "Max val of bneck input is 13.511102676391602, Min val of bneck input is 0.0\n",
            "Max val of bottleneck_plus_emb 23.96884536743164, Min val of bneckplusemb is -7.577698230743408\n",
            "Max val before sigmoid is 79.7278060913086, Min val before sigmoid is 0.0\n",
            "Shape of prds is torch.Size([8388608]), shape of targets is torch.Size([8388608])\n"
          ]
        },
        {
          "output_type": "stream",
          "name": "stderr",
          "text": [
            "\r 67%|██████▋   | 2/3 [00:00<00:00,  2.34it/s]"
          ]
        },
        {
          "output_type": "stream",
          "name": "stdout",
          "text": [
            "Max val of bneck input is 12.925346374511719, Min val of bneck input is 0.0\n",
            "Max val of bottleneck_plus_emb 23.6673583984375, Min val of bneckplusemb is -10.249646186828613\n",
            "Max val before sigmoid is 83.7433090209961, Min val before sigmoid is 0.0\n",
            "Shape of prds is torch.Size([8388608]), shape of targets is torch.Size([8388608])\n"
          ]
        },
        {
          "output_type": "stream",
          "name": "stderr",
          "text": [
            "100%|██████████| 3/3 [00:01<00:00,  2.48it/s]\n"
          ]
        },
        {
          "output_type": "stream",
          "name": "stdout",
          "text": [
            "Max val of bneck input is 12.689359664916992, Min val of bneck input is 0.0\n",
            "Max val of bottleneck_plus_emb 23.567699432373047, Min val of bneckplusemb is -8.26898193359375\n",
            "Max val before sigmoid is 97.51263427734375, Min val before sigmoid is 0.0\n",
            "Shape of prds is torch.Size([7602176]), shape of targets is torch.Size([7602176])\n",
            "Finished epoch: 4 | Number Loss : 0.7805\n",
            "Improved Loss to 0.7805 .... Saving Model\n"
          ]
        },
        {
          "output_type": "stream",
          "name": "stderr",
          "text": [
            " 33%|███▎      | 1/3 [00:00<00:01,  1.34it/s]"
          ]
        },
        {
          "output_type": "stream",
          "name": "stdout",
          "text": [
            "Max val of bneck input is 14.140060424804688, Min val of bneck input is 0.0\n",
            "Max val of bottleneck_plus_emb 24.02324676513672, Min val of bneckplusemb is -7.994504928588867\n",
            "Max val before sigmoid is 98.5389404296875, Min val before sigmoid is 0.0\n",
            "Shape of prds is torch.Size([8388608]), shape of targets is torch.Size([8388608])\n"
          ]
        },
        {
          "output_type": "stream",
          "name": "stderr",
          "text": [
            "\r 67%|██████▋   | 2/3 [00:00<00:00,  2.25it/s]"
          ]
        },
        {
          "output_type": "stream",
          "name": "stdout",
          "text": [
            "Max val of bneck input is 13.111387252807617, Min val of bneck input is 0.0\n",
            "Max val of bottleneck_plus_emb 20.590415954589844, Min val of bneckplusemb is -8.70511531829834\n",
            "Max val before sigmoid is 83.01678466796875, Min val before sigmoid is 0.0\n",
            "Shape of prds is torch.Size([8388608]), shape of targets is torch.Size([8388608])\n"
          ]
        },
        {
          "output_type": "stream",
          "name": "stderr",
          "text": [
            "100%|██████████| 3/3 [00:01<00:00,  2.39it/s]\n"
          ]
        },
        {
          "output_type": "stream",
          "name": "stdout",
          "text": [
            "Max val of bneck input is 13.43867301940918, Min val of bneck input is 0.0\n",
            "Max val of bottleneck_plus_emb 23.639808654785156, Min val of bneckplusemb is -10.260828971862793\n",
            "Max val before sigmoid is 84.62032318115234, Min val before sigmoid is 0.0\n",
            "Shape of prds is torch.Size([7602176]), shape of targets is torch.Size([7602176])\n",
            "Finished epoch: 5 | Number Loss : 0.7805\n",
            "Improved Loss to 0.7805 .... Saving Model\n"
          ]
        },
        {
          "output_type": "stream",
          "name": "stderr",
          "text": [
            " 33%|███▎      | 1/3 [00:00<00:01,  1.23it/s]"
          ]
        },
        {
          "output_type": "stream",
          "name": "stdout",
          "text": [
            "Max val of bneck input is 14.350688934326172, Min val of bneck input is 0.0\n",
            "Max val of bottleneck_plus_emb 24.32888412475586, Min val of bneckplusemb is -8.228883743286133\n",
            "Max val before sigmoid is 77.5950927734375, Min val before sigmoid is 0.0\n",
            "Shape of prds is torch.Size([8388608]), shape of targets is torch.Size([8388608])\n"
          ]
        },
        {
          "output_type": "stream",
          "name": "stderr",
          "text": [
            "\r 67%|██████▋   | 2/3 [00:01<00:00,  2.01it/s]"
          ]
        },
        {
          "output_type": "stream",
          "name": "stdout",
          "text": [
            "Max val of bneck input is 13.45949649810791, Min val of bneck input is 0.0\n",
            "Max val of bottleneck_plus_emb 21.180919647216797, Min val of bneckplusemb is -8.75365161895752\n",
            "Max val before sigmoid is 92.20361328125, Min val before sigmoid is 0.0\n",
            "Shape of prds is torch.Size([8388608]), shape of targets is torch.Size([8388608])\n"
          ]
        },
        {
          "output_type": "stream",
          "name": "stderr",
          "text": [
            "100%|██████████| 3/3 [00:01<00:00,  2.14it/s]\n"
          ]
        },
        {
          "output_type": "stream",
          "name": "stdout",
          "text": [
            "Max val of bneck input is 12.980612754821777, Min val of bneck input is 0.0\n",
            "Max val of bottleneck_plus_emb 22.646678924560547, Min val of bneckplusemb is -10.266342163085938\n",
            "Max val before sigmoid is 78.16111755371094, Min val before sigmoid is 0.0\n",
            "Shape of prds is torch.Size([7602176]), shape of targets is torch.Size([7602176])\n",
            "Finished epoch: 6 | Number Loss : 0.7804\n",
            "Improved Loss to 0.7804 .... Saving Model\n"
          ]
        },
        {
          "output_type": "stream",
          "name": "stderr",
          "text": [
            " 33%|███▎      | 1/3 [00:01<00:02,  1.11s/it]"
          ]
        },
        {
          "output_type": "stream",
          "name": "stdout",
          "text": [
            "Max val of bneck input is 13.755626678466797, Min val of bneck input is 0.0\n",
            "Max val of bottleneck_plus_emb 23.102088928222656, Min val of bneckplusemb is -8.660595893859863\n",
            "Max val before sigmoid is 83.81566619873047, Min val before sigmoid is 0.0\n",
            "Shape of prds is torch.Size([8388608]), shape of targets is torch.Size([8388608])\n"
          ]
        },
        {
          "output_type": "stream",
          "name": "stderr",
          "text": [
            "\r 67%|██████▋   | 2/3 [00:01<00:00,  1.66it/s]"
          ]
        },
        {
          "output_type": "stream",
          "name": "stdout",
          "text": [
            "Max val of bneck input is 13.416959762573242, Min val of bneck input is 0.0\n",
            "Max val of bottleneck_plus_emb 21.029626846313477, Min val of bneckplusemb is -10.268082618713379\n",
            "Max val before sigmoid is 100.53056335449219, Min val before sigmoid is 0.0\n",
            "Shape of prds is torch.Size([8388608]), shape of targets is torch.Size([8388608])\n"
          ]
        },
        {
          "output_type": "stream",
          "name": "stderr",
          "text": [
            "100%|██████████| 3/3 [00:01<00:00,  1.78it/s]\n"
          ]
        },
        {
          "output_type": "stream",
          "name": "stdout",
          "text": [
            "Max val of bneck input is 15.08765697479248, Min val of bneck input is 0.0\n",
            "Max val of bottleneck_plus_emb 24.66498565673828, Min val of bneckplusemb is -7.586195945739746\n",
            "Max val before sigmoid is 95.87847900390625, Min val before sigmoid is 0.0\n",
            "Shape of prds is torch.Size([7602176]), shape of targets is torch.Size([7602176])\n",
            "Finished epoch: 7 | Number Loss : 0.7804\n",
            "No Loss Improvement\n"
          ]
        },
        {
          "output_type": "stream",
          "name": "stderr",
          "text": [
            " 33%|███▎      | 1/3 [00:00<00:01,  1.06it/s]"
          ]
        },
        {
          "output_type": "stream",
          "name": "stdout",
          "text": [
            "Max val of bneck input is 13.200176239013672, Min val of bneck input is 0.0\n",
            "Max val of bottleneck_plus_emb 23.969514846801758, Min val of bneckplusemb is -8.743946075439453\n",
            "Max val before sigmoid is 77.25147247314453, Min val before sigmoid is 0.0\n",
            "Shape of prds is torch.Size([8388608]), shape of targets is torch.Size([8388608])\n"
          ]
        },
        {
          "output_type": "stream",
          "name": "stderr",
          "text": [
            "\r 67%|██████▋   | 2/3 [00:01<00:00,  1.87it/s]"
          ]
        },
        {
          "output_type": "stream",
          "name": "stdout",
          "text": [
            "Max val of bneck input is 14.327218055725098, Min val of bneck input is 0.0\n",
            "Max val of bottleneck_plus_emb 23.88500213623047, Min val of bneckplusemb is -7.5862226486206055\n",
            "Max val before sigmoid is 94.35943603515625, Min val before sigmoid is 0.0\n",
            "Shape of prds is torch.Size([8388608]), shape of targets is torch.Size([8388608])\n"
          ]
        },
        {
          "output_type": "stream",
          "name": "stderr",
          "text": [
            "100%|██████████| 3/3 [00:01<00:00,  2.05it/s]\n"
          ]
        },
        {
          "output_type": "stream",
          "name": "stdout",
          "text": [
            "Max val of bneck input is 14.424973487854004, Min val of bneck input is 0.0\n",
            "Max val of bottleneck_plus_emb 23.923181533813477, Min val of bneckplusemb is -10.272004127502441\n",
            "Max val before sigmoid is 96.74803161621094, Min val before sigmoid is 0.0\n",
            "Shape of prds is torch.Size([7602176]), shape of targets is torch.Size([7602176])\n",
            "Finished epoch: 8 | Number Loss : 0.7803\n",
            "Improved Loss to 0.7803 .... Saving Model\n"
          ]
        },
        {
          "output_type": "stream",
          "name": "stderr",
          "text": [
            " 33%|███▎      | 1/3 [00:00<00:01,  1.38it/s]"
          ]
        },
        {
          "output_type": "stream",
          "name": "stdout",
          "text": [
            "Max val of bneck input is 14.248839378356934, Min val of bneck input is 0.0\n",
            "Max val of bottleneck_plus_emb 23.972415924072266, Min val of bneckplusemb is -7.505903720855713\n",
            "Max val before sigmoid is 93.91783905029297, Min val before sigmoid is 0.0\n",
            "Shape of prds is torch.Size([8388608]), shape of targets is torch.Size([8388608])\n"
          ]
        },
        {
          "output_type": "stream",
          "name": "stderr",
          "text": [
            "\r 67%|██████▋   | 2/3 [00:00<00:00,  2.27it/s]"
          ]
        },
        {
          "output_type": "stream",
          "name": "stdout",
          "text": [
            "Max val of bneck input is 13.303443908691406, Min val of bneck input is 0.0\n",
            "Max val of bottleneck_plus_emb 23.785938262939453, Min val of bneckplusemb is -10.274325370788574\n",
            "Max val before sigmoid is 84.7364273071289, Min val before sigmoid is 0.0\n",
            "Shape of prds is torch.Size([8388608]), shape of targets is torch.Size([8388608])\n"
          ]
        },
        {
          "output_type": "stream",
          "name": "stderr",
          "text": [
            "100%|██████████| 3/3 [00:01<00:00,  2.42it/s]\n"
          ]
        },
        {
          "output_type": "stream",
          "name": "stdout",
          "text": [
            "Max val of bneck input is 14.27019214630127, Min val of bneck input is 0.0\n",
            "Max val of bottleneck_plus_emb 22.153703689575195, Min val of bneckplusemb is -8.775917053222656\n",
            "Max val before sigmoid is 78.15129852294922, Min val before sigmoid is 0.0\n",
            "Shape of prds is torch.Size([7602176]), shape of targets is torch.Size([7602176])\n",
            "Finished epoch: 9 | Number Loss : 0.7803\n",
            "No Loss Improvement\n"
          ]
        },
        {
          "output_type": "stream",
          "name": "stderr",
          "text": [
            " 33%|███▎      | 1/3 [00:00<00:01,  1.38it/s]"
          ]
        },
        {
          "output_type": "stream",
          "name": "stdout",
          "text": [
            "Max val of bneck input is 13.300588607788086, Min val of bneck input is 0.0\n",
            "Max val of bottleneck_plus_emb 22.01691246032715, Min val of bneckplusemb is -10.276844024658203\n",
            "Max val before sigmoid is 81.13822174072266, Min val before sigmoid is 0.0\n",
            "Shape of prds is torch.Size([8388608]), shape of targets is torch.Size([8388608])\n"
          ]
        },
        {
          "output_type": "stream",
          "name": "stderr",
          "text": [
            "\r 67%|██████▋   | 2/3 [00:00<00:00,  2.29it/s]"
          ]
        },
        {
          "output_type": "stream",
          "name": "stdout",
          "text": [
            "Max val of bneck input is 13.830168724060059, Min val of bneck input is 0.0\n",
            "Max val of bottleneck_plus_emb 21.868379592895508, Min val of bneckplusemb is -8.774599075317383\n",
            "Max val before sigmoid is 92.75233459472656, Min val before sigmoid is 0.0\n",
            "Shape of prds is torch.Size([8388608]), shape of targets is torch.Size([8388608])\n"
          ]
        },
        {
          "output_type": "stream",
          "name": "stderr",
          "text": [
            "100%|██████████| 3/3 [00:01<00:00,  2.43it/s]\n"
          ]
        },
        {
          "output_type": "stream",
          "name": "stdout",
          "text": [
            "Max val of bneck input is 13.887747764587402, Min val of bneck input is 0.0\n",
            "Max val of bottleneck_plus_emb 23.765552520751953, Min val of bneckplusemb is -8.654212951660156\n",
            "Max val before sigmoid is 85.92649841308594, Min val before sigmoid is 0.0\n",
            "Shape of prds is torch.Size([7602176]), shape of targets is torch.Size([7602176])\n",
            "Finished epoch: 10 | Number Loss : 0.7803\n",
            "No Loss Improvement\n"
          ]
        },
        {
          "output_type": "stream",
          "name": "stderr",
          "text": [
            " 33%|███▎      | 1/3 [00:00<00:01,  1.39it/s]"
          ]
        },
        {
          "output_type": "stream",
          "name": "stdout",
          "text": [
            "Max val of bneck input is 15.458720207214355, Min val of bneck input is 0.0\n",
            "Max val of bottleneck_plus_emb 24.862356185913086, Min val of bneckplusemb is -8.773107528686523\n",
            "Max val before sigmoid is 102.23163604736328, Min val before sigmoid is 0.0\n",
            "Shape of prds is torch.Size([8388608]), shape of targets is torch.Size([8388608])\n"
          ]
        },
        {
          "output_type": "stream",
          "name": "stderr",
          "text": [
            "\r 67%|██████▋   | 2/3 [00:00<00:00,  2.29it/s]"
          ]
        },
        {
          "output_type": "stream",
          "name": "stdout",
          "text": [
            "Max val of bneck input is 13.959288597106934, Min val of bneck input is 0.0\n",
            "Max val of bottleneck_plus_emb 24.35483169555664, Min val of bneckplusemb is -8.261311531066895\n",
            "Max val before sigmoid is 107.19891357421875, Min val before sigmoid is 0.0\n",
            "Shape of prds is torch.Size([8388608]), shape of targets is torch.Size([8388608])\n"
          ]
        },
        {
          "output_type": "stream",
          "name": "stderr",
          "text": [
            "100%|██████████| 3/3 [00:01<00:00,  2.42it/s]\n"
          ]
        },
        {
          "output_type": "stream",
          "name": "stdout",
          "text": [
            "Max val of bneck input is 12.791288375854492, Min val of bneck input is 0.0\n",
            "Max val of bottleneck_plus_emb 20.921356201171875, Min val of bneckplusemb is -10.284392356872559\n",
            "Max val before sigmoid is 78.35910034179688, Min val before sigmoid is 0.0\n",
            "Shape of prds is torch.Size([7602176]), shape of targets is torch.Size([7602176])\n",
            "Finished epoch: 11 | Number Loss : 0.7801\n",
            "Improved Loss to 0.7801 .... Saving Model\n"
          ]
        },
        {
          "output_type": "stream",
          "name": "stderr",
          "text": [
            " 33%|███▎      | 1/3 [00:00<00:01,  1.37it/s]"
          ]
        },
        {
          "output_type": "stream",
          "name": "stdout",
          "text": [
            "Max val of bneck input is 13.176770210266113, Min val of bneck input is 0.0\n",
            "Max val of bottleneck_plus_emb 23.480552673339844, Min val of bneckplusemb is -8.770798683166504\n",
            "Max val before sigmoid is 84.63567352294922, Min val before sigmoid is 0.0\n",
            "Shape of prds is torch.Size([8388608]), shape of targets is torch.Size([8388608])\n"
          ]
        },
        {
          "output_type": "stream",
          "name": "stderr",
          "text": [
            "\r 67%|██████▋   | 2/3 [00:00<00:00,  2.30it/s]"
          ]
        },
        {
          "output_type": "stream",
          "name": "stdout",
          "text": [
            "Max val of bneck input is 15.17874526977539, Min val of bneck input is 0.0\n",
            "Max val of bottleneck_plus_emb 24.5341796875, Min val of bneckplusemb is -8.652693748474121\n",
            "Max val before sigmoid is 102.81866455078125, Min val before sigmoid is 0.0\n",
            "Shape of prds is torch.Size([8388608]), shape of targets is torch.Size([8388608])\n"
          ]
        },
        {
          "output_type": "stream",
          "name": "stderr",
          "text": [
            "100%|██████████| 3/3 [00:01<00:00,  2.44it/s]\n"
          ]
        },
        {
          "output_type": "stream",
          "name": "stdout",
          "text": [
            "Max val of bneck input is 13.973206520080566, Min val of bneck input is 0.0\n",
            "Max val of bottleneck_plus_emb 23.770614624023438, Min val of bneckplusemb is -10.288471221923828\n",
            "Max val before sigmoid is 93.31307983398438, Min val before sigmoid is 0.0\n",
            "Shape of prds is torch.Size([7602176]), shape of targets is torch.Size([7602176])\n",
            "Finished epoch: 12 | Number Loss : 0.7801\n",
            "Improved Loss to 0.7801 .... Saving Model\n"
          ]
        },
        {
          "output_type": "stream",
          "name": "stderr",
          "text": [
            " 33%|███▎      | 1/3 [00:00<00:01,  1.38it/s]"
          ]
        },
        {
          "output_type": "stream",
          "name": "stdout",
          "text": [
            "Max val of bneck input is 13.621848106384277, Min val of bneck input is 0.0\n",
            "Max val of bottleneck_plus_emb 23.565767288208008, Min val of bneckplusemb is -10.289767265319824\n",
            "Max val before sigmoid is 70.87258911132812, Min val before sigmoid is 0.0\n",
            "Shape of prds is torch.Size([8388608]), shape of targets is torch.Size([8388608])\n"
          ]
        },
        {
          "output_type": "stream",
          "name": "stderr",
          "text": [
            "\r 67%|██████▋   | 2/3 [00:00<00:00,  2.29it/s]"
          ]
        },
        {
          "output_type": "stream",
          "name": "stdout",
          "text": [
            "Max val of bneck input is 13.371689796447754, Min val of bneck input is 0.0\n",
            "Max val of bottleneck_plus_emb 22.415342330932617, Min val of bneckplusemb is -8.766884803771973\n",
            "Max val before sigmoid is 87.3006591796875, Min val before sigmoid is 0.0\n",
            "Shape of prds is torch.Size([8388608]), shape of targets is torch.Size([8388608])\n"
          ]
        },
        {
          "output_type": "stream",
          "name": "stderr",
          "text": [
            "100%|██████████| 3/3 [00:01<00:00,  2.43it/s]\n"
          ]
        },
        {
          "output_type": "stream",
          "name": "stdout",
          "text": [
            "Max val of bneck input is 14.978851318359375, Min val of bneck input is 0.0\n",
            "Max val of bottleneck_plus_emb 24.59579849243164, Min val of bneckplusemb is -8.255680084228516\n",
            "Max val before sigmoid is 106.31875610351562, Min val before sigmoid is 0.0\n",
            "Shape of prds is torch.Size([7602176]), shape of targets is torch.Size([7602176])\n",
            "Finished epoch: 13 | Number Loss : 0.7800\n",
            "Improved Loss to 0.7800 .... Saving Model\n"
          ]
        },
        {
          "output_type": "stream",
          "name": "stderr",
          "text": [
            " 33%|███▎      | 1/3 [00:00<00:01,  1.37it/s]"
          ]
        },
        {
          "output_type": "stream",
          "name": "stdout",
          "text": [
            "Max val of bneck input is 15.254124641418457, Min val of bneck input is 0.0\n",
            "Max val of bottleneck_plus_emb 23.909461975097656, Min val of bneckplusemb is -8.765165328979492\n",
            "Max val before sigmoid is 97.61949157714844, Min val before sigmoid is 0.0\n",
            "Shape of prds is torch.Size([8388608]), shape of targets is torch.Size([8388608])\n"
          ]
        },
        {
          "output_type": "stream",
          "name": "stderr",
          "text": [
            "\r 67%|██████▋   | 2/3 [00:00<00:00,  2.28it/s]"
          ]
        },
        {
          "output_type": "stream",
          "name": "stdout",
          "text": [
            "Max val of bneck input is 15.833979606628418, Min val of bneck input is 0.0\n",
            "Max val of bottleneck_plus_emb 24.890735626220703, Min val of bneckplusemb is -10.294957160949707\n",
            "Max val before sigmoid is 95.84455871582031, Min val before sigmoid is 0.0\n",
            "Shape of prds is torch.Size([8388608]), shape of targets is torch.Size([8388608])\n"
          ]
        },
        {
          "output_type": "stream",
          "name": "stderr",
          "text": [
            "100%|██████████| 3/3 [00:01<00:00,  2.42it/s]\n"
          ]
        },
        {
          "output_type": "stream",
          "name": "stdout",
          "text": [
            "Max val of bneck input is 12.573784828186035, Min val of bneck input is 0.0\n",
            "Max val of bottleneck_plus_emb 23.381423950195312, Min val of bneckplusemb is -8.631526947021484\n",
            "Max val before sigmoid is 82.38916015625, Min val before sigmoid is 0.0\n",
            "Shape of prds is torch.Size([7602176]), shape of targets is torch.Size([7602176])\n",
            "Finished epoch: 14 | Number Loss : 0.7800\n",
            "Improved Loss to 0.7800 .... Saving Model\n"
          ]
        },
        {
          "output_type": "stream",
          "name": "stderr",
          "text": [
            " 33%|███▎      | 1/3 [00:00<00:01,  1.38it/s]"
          ]
        },
        {
          "output_type": "stream",
          "name": "stdout",
          "text": [
            "Max val of bneck input is 14.30634880065918, Min val of bneck input is 0.0\n",
            "Max val of bottleneck_plus_emb 24.24565887451172, Min val of bneckplusemb is -10.298123359680176\n",
            "Max val before sigmoid is 85.87667846679688, Min val before sigmoid is 0.0\n",
            "Shape of prds is torch.Size([8388608]), shape of targets is torch.Size([8388608])\n"
          ]
        },
        {
          "output_type": "stream",
          "name": "stderr",
          "text": [
            "\r 67%|██████▋   | 2/3 [00:00<00:00,  2.29it/s]"
          ]
        },
        {
          "output_type": "stream",
          "name": "stdout",
          "text": [
            "Max val of bneck input is 14.788158416748047, Min val of bneck input is 0.0\n",
            "Max val of bottleneck_plus_emb 24.18170166015625, Min val of bneckplusemb is -8.761627197265625\n",
            "Max val before sigmoid is 89.75201416015625, Min val before sigmoid is 0.0\n",
            "Shape of prds is torch.Size([8388608]), shape of targets is torch.Size([8388608])\n"
          ]
        },
        {
          "output_type": "stream",
          "name": "stderr",
          "text": [
            "100%|██████████| 3/3 [00:01<00:00,  2.42it/s]\n"
          ]
        },
        {
          "output_type": "stream",
          "name": "stdout",
          "text": [
            "Max val of bneck input is 14.039173126220703, Min val of bneck input is 0.0\n",
            "Max val of bottleneck_plus_emb 23.820053100585938, Min val of bneckplusemb is -8.646544456481934\n",
            "Max val before sigmoid is 77.39032745361328, Min val before sigmoid is 0.0\n",
            "Shape of prds is torch.Size([7602176]), shape of targets is torch.Size([7602176])\n",
            "Finished epoch: 15 | Number Loss : 0.7798\n",
            "Improved Loss to 0.7798 .... Saving Model\n"
          ]
        },
        {
          "output_type": "stream",
          "name": "stderr",
          "text": [
            " 33%|███▎      | 1/3 [00:01<00:02,  1.17s/it]"
          ]
        },
        {
          "output_type": "stream",
          "name": "stdout",
          "text": [
            "Max val of bneck input is 15.375940322875977, Min val of bneck input is 0.0\n",
            "Max val of bottleneck_plus_emb 24.72787094116211, Min val of bneckplusemb is -8.759960174560547\n",
            "Max val before sigmoid is 89.15959167480469, Min val before sigmoid is 0.0\n",
            "Shape of prds is torch.Size([8388608]), shape of targets is torch.Size([8388608])\n"
          ]
        },
        {
          "output_type": "stream",
          "name": "stderr",
          "text": [
            "\r 67%|██████▋   | 2/3 [00:01<00:00,  1.57it/s]"
          ]
        },
        {
          "output_type": "stream",
          "name": "stdout",
          "text": [
            "Max val of bneck input is 14.581977844238281, Min val of bneck input is 0.0\n",
            "Max val of bottleneck_plus_emb 22.35498809814453, Min val of bneckplusemb is -8.64538860321045\n",
            "Max val before sigmoid is 84.52763366699219, Min val before sigmoid is 0.0\n",
            "Shape of prds is torch.Size([8388608]), shape of targets is torch.Size([8388608])\n"
          ]
        },
        {
          "output_type": "stream",
          "name": "stderr",
          "text": [
            "100%|██████████| 3/3 [00:01<00:00,  1.73it/s]\n"
          ]
        },
        {
          "output_type": "stream",
          "name": "stdout",
          "text": [
            "Max val of bneck input is 13.131087303161621, Min val of bneck input is 0.0\n",
            "Max val of bottleneck_plus_emb 23.75927734375, Min val of bneckplusemb is -10.307140350341797\n",
            "Max val before sigmoid is 102.05371856689453, Min val before sigmoid is 0.0\n",
            "Shape of prds is torch.Size([7602176]), shape of targets is torch.Size([7602176])\n",
            "Finished epoch: 16 | Number Loss : 0.7798\n",
            "Improved Loss to 0.7798 .... Saving Model\n"
          ]
        },
        {
          "output_type": "stream",
          "name": "stderr",
          "text": [
            " 33%|███▎      | 1/3 [00:01<00:02,  1.19s/it]"
          ]
        },
        {
          "output_type": "stream",
          "name": "stdout",
          "text": [
            "Max val of bneck input is 14.137551307678223, Min val of bneck input is 0.0\n",
            "Max val of bottleneck_plus_emb 21.28763198852539, Min val of bneckplusemb is -10.309139251708984\n",
            "Max val before sigmoid is 93.0555419921875, Min val before sigmoid is 0.0\n",
            "Shape of prds is torch.Size([8388608]), shape of targets is torch.Size([8388608])\n"
          ]
        },
        {
          "output_type": "stream",
          "name": "stderr",
          "text": [
            "\r 67%|██████▋   | 2/3 [00:01<00:00,  1.52it/s]"
          ]
        },
        {
          "output_type": "stream",
          "name": "stdout",
          "text": [
            "Max val of bneck input is 12.461590766906738, Min val of bneck input is 0.0\n",
            "Max val of bottleneck_plus_emb 23.53433609008789, Min val of bneckplusemb is -8.643878936767578\n",
            "Max val before sigmoid is 85.72256469726562, Min val before sigmoid is 0.0\n",
            "Shape of prds is torch.Size([8388608]), shape of targets is torch.Size([8388608])\n"
          ]
        },
        {
          "output_type": "stream",
          "name": "stderr",
          "text": [
            "100%|██████████| 3/3 [00:01<00:00,  1.67it/s]\n"
          ]
        },
        {
          "output_type": "stream",
          "name": "stdout",
          "text": [
            "Max val of bneck input is 15.351338386535645, Min val of bneck input is 0.0\n",
            "Max val of bottleneck_plus_emb 24.25662612915039, Min val of bneckplusemb is -8.110503196716309\n",
            "Max val before sigmoid is 103.87095642089844, Min val before sigmoid is 0.0\n",
            "Shape of prds is torch.Size([7602176]), shape of targets is torch.Size([7602176])\n",
            "Finished epoch: 17 | Number Loss : 0.7798\n",
            "No Loss Improvement\n"
          ]
        },
        {
          "output_type": "stream",
          "name": "stderr",
          "text": [
            " 33%|███▎      | 1/3 [00:00<00:01,  1.21it/s]"
          ]
        },
        {
          "output_type": "stream",
          "name": "stdout",
          "text": [
            "Max val of bneck input is 13.320008277893066, Min val of bneck input is 0.0\n",
            "Max val of bottleneck_plus_emb 21.822673797607422, Min val of bneckplusemb is -8.755850791931152\n",
            "Max val before sigmoid is 103.92945861816406, Min val before sigmoid is 0.0\n",
            "Shape of prds is torch.Size([8388608]), shape of targets is torch.Size([8388608])\n"
          ]
        },
        {
          "output_type": "stream",
          "name": "stderr",
          "text": [
            "\r 67%|██████▋   | 2/3 [00:01<00:00,  2.09it/s]"
          ]
        },
        {
          "output_type": "stream",
          "name": "stdout",
          "text": [
            "Max val of bneck input is 12.696949005126953, Min val of bneck input is 0.0\n",
            "Max val of bottleneck_plus_emb 23.947675704956055, Min val of bneckplusemb is -10.317983627319336\n",
            "Max val before sigmoid is 90.5010986328125, Min val before sigmoid is 0.0\n",
            "Shape of prds is torch.Size([8388608]), shape of targets is torch.Size([8388608])\n"
          ]
        },
        {
          "output_type": "stream",
          "name": "stderr",
          "text": [
            "100%|██████████| 3/3 [00:01<00:00,  2.25it/s]\n"
          ]
        },
        {
          "output_type": "stream",
          "name": "stdout",
          "text": [
            "Max val of bneck input is 16.125944137573242, Min val of bneck input is 0.0\n",
            "Max val of bottleneck_plus_emb 24.932594299316406, Min val of bneckplusemb is -8.648285865783691\n",
            "Max val before sigmoid is 79.67278289794922, Min val before sigmoid is 0.0\n",
            "Shape of prds is torch.Size([7602176]), shape of targets is torch.Size([7602176])\n",
            "Finished epoch: 18 | Number Loss : 0.7796\n",
            "Improved Loss to 0.7796 .... Saving Model\n"
          ]
        },
        {
          "output_type": "stream",
          "name": "stderr",
          "text": [
            " 33%|███▎      | 1/3 [00:00<00:01,  1.41it/s]"
          ]
        },
        {
          "output_type": "stream",
          "name": "stdout",
          "text": [
            "Max val of bneck input is 13.627779960632324, Min val of bneck input is 0.0\n",
            "Max val of bottleneck_plus_emb 22.598182678222656, Min val of bneckplusemb is -10.322428703308105\n",
            "Max val before sigmoid is 85.0231704711914, Min val before sigmoid is 0.0\n",
            "Shape of prds is torch.Size([8388608]), shape of targets is torch.Size([8388608])\n"
          ]
        },
        {
          "output_type": "stream",
          "name": "stderr",
          "text": [
            "\r 67%|██████▋   | 2/3 [00:00<00:00,  2.32it/s]"
          ]
        },
        {
          "output_type": "stream",
          "name": "stdout",
          "text": [
            "Max val of bneck input is 13.827430725097656, Min val of bneck input is 0.0\n",
            "Max val of bottleneck_plus_emb 24.295185089111328, Min val of bneckplusemb is -8.753631591796875\n",
            "Max val before sigmoid is 97.53592681884766, Min val before sigmoid is 0.0\n",
            "Shape of prds is torch.Size([8388608]), shape of targets is torch.Size([8388608])\n"
          ]
        },
        {
          "output_type": "stream",
          "name": "stderr",
          "text": [
            "100%|██████████| 3/3 [00:01<00:00,  2.47it/s]\n"
          ]
        },
        {
          "output_type": "stream",
          "name": "stdout",
          "text": [
            "Max val of bneck input is 16.692975997924805, Min val of bneck input is 0.0\n",
            "Max val of bottleneck_plus_emb 25.330713272094727, Min val of bneckplusemb is -8.653219223022461\n",
            "Max val before sigmoid is 82.806884765625, Min val before sigmoid is 0.0\n",
            "Shape of prds is torch.Size([7602176]), shape of targets is torch.Size([7602176])\n",
            "Finished epoch: 19 | Number Loss : 0.7795\n",
            "Improved Loss to 0.7795 .... Saving Model\n"
          ]
        },
        {
          "output_type": "stream",
          "name": "stderr",
          "text": [
            " 33%|███▎      | 1/3 [00:00<00:01,  1.38it/s]"
          ]
        },
        {
          "output_type": "stream",
          "name": "stdout",
          "text": [
            "Max val of bneck input is 14.811182022094727, Min val of bneck input is 0.0\n",
            "Max val of bottleneck_plus_emb 24.148639678955078, Min val of bneckplusemb is -10.328978538513184\n",
            "Max val before sigmoid is 67.81204986572266, Min val before sigmoid is 0.0\n",
            "Shape of prds is torch.Size([8388608]), shape of targets is torch.Size([8388608])\n"
          ]
        },
        {
          "output_type": "stream",
          "name": "stderr",
          "text": [
            "\r 67%|██████▋   | 2/3 [00:00<00:00,  2.32it/s]"
          ]
        },
        {
          "output_type": "stream",
          "name": "stdout",
          "text": [
            "Max val of bneck input is 13.283556938171387, Min val of bneck input is 0.0\n",
            "Max val of bottleneck_plus_emb 23.551692962646484, Min val of bneckplusemb is -8.656963348388672\n",
            "Max val before sigmoid is 85.82160186767578, Min val before sigmoid is 0.0\n",
            "Shape of prds is torch.Size([8388608]), shape of targets is torch.Size([8388608])\n"
          ]
        },
        {
          "output_type": "stream",
          "name": "stderr",
          "text": [
            "100%|██████████| 3/3 [00:01<00:00,  2.45it/s]\n"
          ]
        },
        {
          "output_type": "stream",
          "name": "stdout",
          "text": [
            "Max val of bneck input is 14.23132038116455, Min val of bneck input is 0.0\n",
            "Max val of bottleneck_plus_emb 21.391002655029297, Min val of bneckplusemb is -8.750646591186523\n",
            "Max val before sigmoid is 92.6297836303711, Min val before sigmoid is 0.0\n",
            "Shape of prds is torch.Size([7602176]), shape of targets is torch.Size([7602176])\n",
            "Finished epoch: 20 | Number Loss : 0.7794\n",
            "Improved Loss to 0.7794 .... Saving Model\n"
          ]
        },
        {
          "output_type": "stream",
          "name": "stderr",
          "text": [
            " 33%|███▎      | 1/3 [00:00<00:01,  1.42it/s]"
          ]
        },
        {
          "output_type": "stream",
          "name": "stdout",
          "text": [
            "Max val of bneck input is 13.24850082397461, Min val of bneck input is 0.0\n",
            "Max val of bottleneck_plus_emb 22.26774024963379, Min val of bneckplusemb is -8.391040802001953\n",
            "Max val before sigmoid is 90.87744140625, Min val before sigmoid is 0.0\n",
            "Shape of prds is torch.Size([8388608]), shape of targets is torch.Size([8388608])\n"
          ]
        },
        {
          "output_type": "stream",
          "name": "stderr",
          "text": [
            "\r 67%|██████▋   | 2/3 [00:00<00:00,  2.35it/s]"
          ]
        },
        {
          "output_type": "stream",
          "name": "stdout",
          "text": [
            "Max val of bneck input is 15.185051918029785, Min val of bneck input is 0.0\n",
            "Max val of bottleneck_plus_emb 24.621191024780273, Min val of bneckplusemb is -10.33846378326416\n",
            "Max val before sigmoid is 89.02239227294922, Min val before sigmoid is 0.0\n",
            "Shape of prds is torch.Size([8388608]), shape of targets is torch.Size([8388608])\n"
          ]
        },
        {
          "output_type": "stream",
          "name": "stderr",
          "text": [
            "100%|██████████| 3/3 [00:01<00:00,  2.48it/s]\n"
          ]
        },
        {
          "output_type": "stream",
          "name": "stdout",
          "text": [
            "Max val of bneck input is 14.867414474487305, Min val of bneck input is 0.0\n",
            "Max val of bottleneck_plus_emb 23.59426498413086, Min val of bneckplusemb is -8.238697052001953\n",
            "Max val before sigmoid is 95.3248519897461, Min val before sigmoid is 0.0\n",
            "Shape of prds is torch.Size([7602176]), shape of targets is torch.Size([7602176])\n",
            "Finished epoch: 21 | Number Loss : 0.7793\n",
            "Improved Loss to 0.7793 .... Saving Model\n"
          ]
        },
        {
          "output_type": "stream",
          "name": "stderr",
          "text": [
            " 33%|███▎      | 1/3 [00:00<00:01,  1.31it/s]"
          ]
        },
        {
          "output_type": "stream",
          "name": "stdout",
          "text": [
            "Max val of bneck input is 13.806793212890625, Min val of bneck input is 0.0\n",
            "Max val of bottleneck_plus_emb 22.913549423217773, Min val of bneckplusemb is -8.747923851013184\n",
            "Max val before sigmoid is 80.39169311523438, Min val before sigmoid is 0.0\n",
            "Shape of prds is torch.Size([8388608]), shape of targets is torch.Size([8388608])\n"
          ]
        },
        {
          "output_type": "stream",
          "name": "stderr",
          "text": [
            "\r 67%|██████▋   | 2/3 [00:01<00:00,  2.17it/s]"
          ]
        },
        {
          "output_type": "stream",
          "name": "stdout",
          "text": [
            "Max val of bneck input is 16.275732040405273, Min val of bneck input is 0.0\n",
            "Max val of bottleneck_plus_emb 24.685508728027344, Min val of bneckplusemb is -8.139567375183105\n",
            "Max val before sigmoid is 78.4544448852539, Min val before sigmoid is 0.0\n",
            "Shape of prds is torch.Size([8388608]), shape of targets is torch.Size([8388608])\n"
          ]
        },
        {
          "output_type": "stream",
          "name": "stderr",
          "text": [
            "100%|██████████| 3/3 [00:01<00:00,  2.32it/s]\n"
          ]
        },
        {
          "output_type": "stream",
          "name": "stdout",
          "text": [
            "Max val of bneck input is 14.40347671508789, Min val of bneck input is 0.0\n",
            "Max val of bottleneck_plus_emb 25.090898513793945, Min val of bneckplusemb is -10.348682403564453\n",
            "Max val before sigmoid is 98.787841796875, Min val before sigmoid is 0.0\n",
            "Shape of prds is torch.Size([7602176]), shape of targets is torch.Size([7602176])\n",
            "Finished epoch: 22 | Number Loss : 0.7792\n",
            "Improved Loss to 0.7792 .... Saving Model\n"
          ]
        },
        {
          "output_type": "stream",
          "name": "stderr",
          "text": [
            " 33%|███▎      | 1/3 [00:00<00:01,  1.40it/s]"
          ]
        },
        {
          "output_type": "stream",
          "name": "stdout",
          "text": [
            "Max val of bneck input is 14.158272743225098, Min val of bneck input is 0.0\n",
            "Max val of bottleneck_plus_emb 24.160533905029297, Min val of bneckplusemb is -8.514092445373535\n",
            "Max val before sigmoid is 78.90576934814453, Min val before sigmoid is 0.0\n",
            "Shape of prds is torch.Size([8388608]), shape of targets is torch.Size([8388608])\n"
          ]
        },
        {
          "output_type": "stream",
          "name": "stderr",
          "text": [
            "\r 67%|██████▋   | 2/3 [00:00<00:00,  2.32it/s]"
          ]
        },
        {
          "output_type": "stream",
          "name": "stdout",
          "text": [
            "Max val of bneck input is 15.062515258789062, Min val of bneck input is 0.0\n",
            "Max val of bottleneck_plus_emb 24.197654724121094, Min val of bneckplusemb is -8.675835609436035\n",
            "Max val before sigmoid is 90.97991943359375, Min val before sigmoid is 0.0\n",
            "Shape of prds is torch.Size([8388608]), shape of targets is torch.Size([8388608])\n"
          ]
        },
        {
          "output_type": "stream",
          "name": "stderr",
          "text": [
            "100%|██████████| 3/3 [00:01<00:00,  2.46it/s]\n"
          ]
        },
        {
          "output_type": "stream",
          "name": "stdout",
          "text": [
            "Max val of bneck input is 13.377043724060059, Min val of bneck input is 0.0\n",
            "Max val of bottleneck_plus_emb 22.971210479736328, Min val of bneckplusemb is -10.353962898254395\n",
            "Max val before sigmoid is 96.6539306640625, Min val before sigmoid is 0.0\n",
            "Shape of prds is torch.Size([7602176]), shape of targets is torch.Size([7602176])\n",
            "Finished epoch: 23 | Number Loss : 0.7791\n",
            "Improved Loss to 0.7791 .... Saving Model\n"
          ]
        },
        {
          "output_type": "stream",
          "name": "stderr",
          "text": [
            " 33%|███▎      | 1/3 [00:00<00:01,  1.42it/s]"
          ]
        },
        {
          "output_type": "stream",
          "name": "stdout",
          "text": [
            "Max val of bneck input is 14.042313575744629, Min val of bneck input is 0.0\n",
            "Max val of bottleneck_plus_emb 24.450889587402344, Min val of bneckplusemb is -7.438765525817871\n",
            "Max val before sigmoid is 79.4305648803711, Min val before sigmoid is 0.0\n",
            "Shape of prds is torch.Size([8388608]), shape of targets is torch.Size([8388608])\n"
          ]
        },
        {
          "output_type": "stream",
          "name": "stderr",
          "text": [
            "\r 67%|██████▋   | 2/3 [00:00<00:00,  2.33it/s]"
          ]
        },
        {
          "output_type": "stream",
          "name": "stdout",
          "text": [
            "Max val of bneck input is 13.65941047668457, Min val of bneck input is 0.0\n",
            "Max val of bottleneck_plus_emb 22.115379333496094, Min val of bneckplusemb is -10.356000900268555\n",
            "Max val before sigmoid is 98.47308349609375, Min val before sigmoid is 0.0\n",
            "Shape of prds is torch.Size([8388608]), shape of targets is torch.Size([8388608])\n"
          ]
        },
        {
          "output_type": "stream",
          "name": "stderr",
          "text": [
            "100%|██████████| 3/3 [00:01<00:00,  2.48it/s]\n"
          ]
        },
        {
          "output_type": "stream",
          "name": "stdout",
          "text": [
            "Max val of bneck input is 14.975214004516602, Min val of bneck input is 0.0\n",
            "Max val of bottleneck_plus_emb 24.39945411682129, Min val of bneckplusemb is -8.74060344696045\n",
            "Max val before sigmoid is 79.95332336425781, Min val before sigmoid is 0.0\n",
            "Shape of prds is torch.Size([7602176]), shape of targets is torch.Size([7602176])\n",
            "Finished epoch: 24 | Number Loss : 0.7789\n",
            "Improved Loss to 0.7789 .... Saving Model\n"
          ]
        },
        {
          "output_type": "stream",
          "name": "stderr",
          "text": [
            " 33%|███▎      | 1/3 [00:00<00:01,  1.39it/s]"
          ]
        },
        {
          "output_type": "stream",
          "name": "stdout",
          "text": [
            "Max val of bneck input is 14.266438484191895, Min val of bneck input is 0.0\n",
            "Max val of bottleneck_plus_emb 22.67197036743164, Min val of bneckplusemb is -8.681639671325684\n",
            "Max val before sigmoid is 84.4678726196289, Min val before sigmoid is 0.0\n",
            "Shape of prds is torch.Size([8388608]), shape of targets is torch.Size([8388608])\n"
          ]
        },
        {
          "output_type": "stream",
          "name": "stderr",
          "text": [
            "\r 67%|██████▋   | 2/3 [00:00<00:00,  2.32it/s]"
          ]
        },
        {
          "output_type": "stream",
          "name": "stdout",
          "text": [
            "Max val of bneck input is 16.119260787963867, Min val of bneck input is 0.0\n",
            "Max val of bottleneck_plus_emb 24.928699493408203, Min val of bneckplusemb is -8.227132797241211\n",
            "Max val before sigmoid is 78.96939849853516, Min val before sigmoid is 0.0\n",
            "Shape of prds is torch.Size([8388608]), shape of targets is torch.Size([8388608])\n"
          ]
        },
        {
          "output_type": "stream",
          "name": "stderr",
          "text": [
            "100%|██████████| 3/3 [00:01<00:00,  2.39it/s]\n"
          ]
        },
        {
          "output_type": "stream",
          "name": "stdout",
          "text": [
            "Max val of bneck input is 13.565347671508789, Min val of bneck input is 0.0\n",
            "Max val of bottleneck_plus_emb 22.30247688293457, Min val of bneckplusemb is -10.357994079589844\n",
            "Max val before sigmoid is 83.05793762207031, Min val before sigmoid is 0.0\n",
            "Shape of prds is torch.Size([7602176]), shape of targets is torch.Size([7602176])\n",
            "Finished epoch: 25 | Number Loss : 0.7789\n",
            "Improved Loss to 0.7789 .... Saving Model\n"
          ]
        },
        {
          "output_type": "stream",
          "name": "stderr",
          "text": [
            " 33%|███▎      | 1/3 [00:01<00:02,  1.23s/it]"
          ]
        },
        {
          "output_type": "stream",
          "name": "stdout",
          "text": [
            "Max val of bneck input is 12.80894947052002, Min val of bneck input is 0.0\n",
            "Max val of bottleneck_plus_emb 22.603734970092773, Min val of bneckplusemb is -8.224125862121582\n",
            "Max val before sigmoid is 96.27608489990234, Min val before sigmoid is 0.0\n",
            "Shape of prds is torch.Size([8388608]), shape of targets is torch.Size([8388608])\n"
          ]
        },
        {
          "output_type": "stream",
          "name": "stderr",
          "text": [
            "\r 67%|██████▋   | 2/3 [00:01<00:00,  1.54it/s]"
          ]
        },
        {
          "output_type": "stream",
          "name": "stdout",
          "text": [
            "Max val of bneck input is 16.874860763549805, Min val of bneck input is 0.0\n",
            "Max val of bottleneck_plus_emb 24.729019165039062, Min val of bneckplusemb is -8.083227157592773\n",
            "Max val before sigmoid is 96.30681610107422, Min val before sigmoid is 0.0\n",
            "Shape of prds is torch.Size([8388608]), shape of targets is torch.Size([8388608])\n"
          ]
        },
        {
          "output_type": "stream",
          "name": "stderr",
          "text": [
            "100%|██████████| 3/3 [00:01<00:00,  1.69it/s]\n"
          ]
        },
        {
          "output_type": "stream",
          "name": "stdout",
          "text": [
            "Max val of bneck input is 13.822503089904785, Min val of bneck input is 0.0\n",
            "Max val of bottleneck_plus_emb 23.680862426757812, Min val of bneckplusemb is -10.356863975524902\n",
            "Max val before sigmoid is 95.5196533203125, Min val before sigmoid is 0.0\n",
            "Shape of prds is torch.Size([7602176]), shape of targets is torch.Size([7602176])\n",
            "Finished epoch: 26 | Number Loss : 0.7788\n",
            "Improved Loss to 0.7788 .... Saving Model\n"
          ]
        },
        {
          "output_type": "stream",
          "name": "stderr",
          "text": [
            " 33%|███▎      | 1/3 [00:01<00:02,  1.18s/it]"
          ]
        },
        {
          "output_type": "stream",
          "name": "stdout",
          "text": [
            "Max val of bneck input is 13.290266036987305, Min val of bneck input is 0.0\n",
            "Max val of bottleneck_plus_emb 24.127700805664062, Min val of bneckplusemb is -10.356423377990723\n",
            "Max val before sigmoid is 96.03276824951172, Min val before sigmoid is 0.0\n",
            "Shape of prds is torch.Size([8388608]), shape of targets is torch.Size([8388608])\n"
          ]
        },
        {
          "output_type": "stream",
          "name": "stderr",
          "text": [
            "\r 67%|██████▋   | 2/3 [00:01<00:00,  1.59it/s]"
          ]
        },
        {
          "output_type": "stream",
          "name": "stdout",
          "text": [
            "Max val of bneck input is 14.762831687927246, Min val of bneck input is 0.0\n",
            "Max val of bottleneck_plus_emb 24.5751953125, Min val of bneckplusemb is -8.685526847839355\n",
            "Max val before sigmoid is 81.64004516601562, Min val before sigmoid is 0.0\n",
            "Shape of prds is torch.Size([8388608]), shape of targets is torch.Size([8388608])\n"
          ]
        },
        {
          "output_type": "stream",
          "name": "stderr",
          "text": [
            "100%|██████████| 3/3 [00:01<00:00,  1.78it/s]\n"
          ]
        },
        {
          "output_type": "stream",
          "name": "stdout",
          "text": [
            "Max val of bneck input is 15.490375518798828, Min val of bneck input is 0.0\n",
            "Max val of bottleneck_plus_emb 19.90792465209961, Min val of bneckplusemb is -8.223700523376465\n",
            "Max val before sigmoid is 87.86729431152344, Min val before sigmoid is 0.0\n",
            "Shape of prds is torch.Size([7602176]), shape of targets is torch.Size([7602176])\n",
            "Finished epoch: 27 | Number Loss : 0.7787\n",
            "Improved Loss to 0.7787 .... Saving Model\n"
          ]
        },
        {
          "output_type": "stream",
          "name": "stderr",
          "text": [
            " 33%|███▎      | 1/3 [00:00<00:01,  1.39it/s]"
          ]
        },
        {
          "output_type": "stream",
          "name": "stdout",
          "text": [
            "Max val of bneck input is 16.18327522277832, Min val of bneck input is 0.0\n",
            "Max val of bottleneck_plus_emb 23.53537940979004, Min val of bneckplusemb is -7.523952484130859\n",
            "Max val before sigmoid is 81.8573989868164, Min val before sigmoid is 0.0\n",
            "Shape of prds is torch.Size([8388608]), shape of targets is torch.Size([8388608])\n"
          ]
        },
        {
          "output_type": "stream",
          "name": "stderr",
          "text": [
            "\r 67%|██████▋   | 2/3 [00:00<00:00,  2.33it/s]"
          ]
        },
        {
          "output_type": "stream",
          "name": "stdout",
          "text": [
            "Max val of bneck input is 14.42394733428955, Min val of bneck input is 0.0\n",
            "Max val of bottleneck_plus_emb 23.76758575439453, Min val of bneckplusemb is -8.724506378173828\n",
            "Max val before sigmoid is 99.38993835449219, Min val before sigmoid is 0.0\n",
            "Shape of prds is torch.Size([8388608]), shape of targets is torch.Size([8388608])\n"
          ]
        },
        {
          "output_type": "stream",
          "name": "stderr",
          "text": [
            "100%|██████████| 3/3 [00:01<00:00,  2.47it/s]\n"
          ]
        },
        {
          "output_type": "stream",
          "name": "stdout",
          "text": [
            "Max val of bneck input is 12.06471061706543, Min val of bneck input is 0.0\n",
            "Max val of bottleneck_plus_emb 20.538442611694336, Min val of bneckplusemb is -10.35464096069336\n",
            "Max val before sigmoid is 85.63700866699219, Min val before sigmoid is 0.0\n",
            "Shape of prds is torch.Size([7602176]), shape of targets is torch.Size([7602176])\n",
            "Finished epoch: 28 | Number Loss : 0.7786\n",
            "Improved Loss to 0.7786 .... Saving Model\n"
          ]
        },
        {
          "output_type": "stream",
          "name": "stderr",
          "text": [
            " 33%|███▎      | 1/3 [00:00<00:01,  1.38it/s]"
          ]
        },
        {
          "output_type": "stream",
          "name": "stdout",
          "text": [
            "Max val of bneck input is 14.854493141174316, Min val of bneck input is 0.0\n",
            "Max val of bottleneck_plus_emb 24.125408172607422, Min val of bneckplusemb is -10.354220390319824\n",
            "Max val before sigmoid is 81.89513397216797, Min val before sigmoid is 0.0\n",
            "Shape of prds is torch.Size([8388608]), shape of targets is torch.Size([8388608])\n"
          ]
        },
        {
          "output_type": "stream",
          "name": "stderr",
          "text": [
            "\r 67%|██████▋   | 2/3 [00:00<00:00,  2.27it/s]"
          ]
        },
        {
          "output_type": "stream",
          "name": "stdout",
          "text": [
            "Max val of bneck input is 13.422971725463867, Min val of bneck input is 0.0\n",
            "Max val of bottleneck_plus_emb 22.690814971923828, Min val of bneckplusemb is -8.720176696777344\n",
            "Max val before sigmoid is 96.96599578857422, Min val before sigmoid is 0.0\n",
            "Shape of prds is torch.Size([8388608]), shape of targets is torch.Size([8388608])\n"
          ]
        },
        {
          "output_type": "stream",
          "name": "stderr",
          "text": [
            "100%|██████████| 3/3 [00:01<00:00,  2.43it/s]\n"
          ]
        },
        {
          "output_type": "stream",
          "name": "stdout",
          "text": [
            "Max val of bneck input is 12.82483196258545, Min val of bneck input is 0.0\n",
            "Max val of bottleneck_plus_emb 23.310523986816406, Min val of bneckplusemb is -8.691452026367188\n",
            "Max val before sigmoid is 97.14659881591797, Min val before sigmoid is 0.0\n",
            "Shape of prds is torch.Size([7602176]), shape of targets is torch.Size([7602176])\n",
            "Finished epoch: 29 | Number Loss : 0.7786\n",
            "Improved Loss to 0.7786 .... Saving Model\n"
          ]
        },
        {
          "output_type": "stream",
          "name": "stderr",
          "text": [
            " 33%|███▎      | 1/3 [00:00<00:01,  1.35it/s]"
          ]
        },
        {
          "output_type": "stream",
          "name": "stdout",
          "text": [
            "Max val of bneck input is 15.910841941833496, Min val of bneck input is 0.0\n",
            "Max val of bottleneck_plus_emb 24.480010986328125, Min val of bneckplusemb is -8.717195510864258\n",
            "Max val before sigmoid is 98.31481170654297, Min val before sigmoid is 0.0\n",
            "Shape of prds is torch.Size([8388608]), shape of targets is torch.Size([8388608])\n"
          ]
        },
        {
          "output_type": "stream",
          "name": "stderr",
          "text": [
            "\r 67%|██████▋   | 2/3 [00:00<00:00,  2.29it/s]"
          ]
        },
        {
          "output_type": "stream",
          "name": "stdout",
          "text": [
            "Max val of bneck input is 13.309271812438965, Min val of bneck input is 0.0\n",
            "Max val of bottleneck_plus_emb 23.32292938232422, Min val of bneckplusemb is -10.352283477783203\n",
            "Max val before sigmoid is 76.78002166748047, Min val before sigmoid is 0.0\n",
            "Shape of prds is torch.Size([8388608]), shape of targets is torch.Size([8388608])\n"
          ]
        },
        {
          "output_type": "stream",
          "name": "stderr",
          "text": [
            "100%|██████████| 3/3 [00:01<00:00,  2.40it/s]\n"
          ]
        },
        {
          "output_type": "stream",
          "name": "stdout",
          "text": [
            "Max val of bneck input is 12.486611366271973, Min val of bneck input is 0.0\n",
            "Max val of bottleneck_plus_emb 23.017009735107422, Min val of bneckplusemb is -8.227712631225586\n",
            "Max val before sigmoid is 79.60357666015625, Min val before sigmoid is 0.0\n",
            "Shape of prds is torch.Size([7602176]), shape of targets is torch.Size([7602176])\n",
            "Finished epoch: 30 | Number Loss : 0.7784\n",
            "Improved Loss to 0.7784 .... Saving Model\n"
          ]
        },
        {
          "output_type": "stream",
          "name": "stderr",
          "text": [
            " 33%|███▎      | 1/3 [00:00<00:01,  1.38it/s]"
          ]
        },
        {
          "output_type": "stream",
          "name": "stdout",
          "text": [
            "Max val of bneck input is 14.21082878112793, Min val of bneck input is 0.0\n",
            "Max val of bottleneck_plus_emb 22.784687042236328, Min val of bneckplusemb is -8.712044715881348\n",
            "Max val before sigmoid is 83.3165283203125, Min val before sigmoid is 0.0\n",
            "Shape of prds is torch.Size([8388608]), shape of targets is torch.Size([8388608])\n"
          ]
        },
        {
          "output_type": "stream",
          "name": "stderr",
          "text": [
            "\r 67%|██████▋   | 2/3 [00:00<00:00,  2.29it/s]"
          ]
        },
        {
          "output_type": "stream",
          "name": "stdout",
          "text": [
            "Max val of bneck input is 15.711277961730957, Min val of bneck input is 0.0\n",
            "Max val of bottleneck_plus_emb 24.25353240966797, Min val of bneckplusemb is -8.294889450073242\n",
            "Max val before sigmoid is 92.02119445800781, Min val before sigmoid is 0.0\n",
            "Shape of prds is torch.Size([8388608]), shape of targets is torch.Size([8388608])\n"
          ]
        },
        {
          "output_type": "stream",
          "name": "stderr",
          "text": [
            "100%|██████████| 3/3 [00:01<00:00,  2.44it/s]\n"
          ]
        },
        {
          "output_type": "stream",
          "name": "stdout",
          "text": [
            "Max val of bneck input is 12.315756797790527, Min val of bneck input is 0.0\n",
            "Max val of bottleneck_plus_emb 24.37674331665039, Min val of bneckplusemb is -10.349630355834961\n",
            "Max val before sigmoid is 79.76054382324219, Min val before sigmoid is 0.0\n",
            "Shape of prds is torch.Size([7602176]), shape of targets is torch.Size([7602176])\n",
            "Finished epoch: 31 | Number Loss : 0.7783\n",
            "Improved Loss to 0.7783 .... Saving Model\n"
          ]
        },
        {
          "output_type": "stream",
          "name": "stderr",
          "text": [
            " 33%|███▎      | 1/3 [00:00<00:01,  1.37it/s]"
          ]
        },
        {
          "output_type": "stream",
          "name": "stdout",
          "text": [
            "Max val of bneck input is 15.65206527709961, Min val of bneck input is 0.0\n",
            "Max val of bottleneck_plus_emb 24.61009407043457, Min val of bneckplusemb is -8.707212448120117\n",
            "Max val before sigmoid is 84.37501525878906, Min val before sigmoid is 0.0\n",
            "Shape of prds is torch.Size([8388608]), shape of targets is torch.Size([8388608])\n"
          ]
        },
        {
          "output_type": "stream",
          "name": "stderr",
          "text": [
            "\r 67%|██████▋   | 2/3 [00:00<00:00,  2.29it/s]"
          ]
        },
        {
          "output_type": "stream",
          "name": "stdout",
          "text": [
            "Max val of bneck input is 13.092181205749512, Min val of bneck input is 0.0\n",
            "Max val of bottleneck_plus_emb 23.372520446777344, Min val of bneckplusemb is -8.421518325805664\n",
            "Max val before sigmoid is 79.87056732177734, Min val before sigmoid is 0.0\n",
            "Shape of prds is torch.Size([8388608]), shape of targets is torch.Size([8388608])\n"
          ]
        },
        {
          "output_type": "stream",
          "name": "stderr",
          "text": [
            "100%|██████████| 3/3 [00:01<00:00,  2.44it/s]\n"
          ]
        },
        {
          "output_type": "stream",
          "name": "stdout",
          "text": [
            "Max val of bneck input is 12.874523162841797, Min val of bneck input is 0.0\n",
            "Max val of bottleneck_plus_emb 23.095006942749023, Min val of bneckplusemb is -10.347312927246094\n",
            "Max val before sigmoid is 109.47010040283203, Min val before sigmoid is 0.0\n",
            "Shape of prds is torch.Size([7602176]), shape of targets is torch.Size([7602176])\n",
            "Finished epoch: 32 | Number Loss : 0.7781\n",
            "Improved Loss to 0.7781 .... Saving Model\n"
          ]
        },
        {
          "output_type": "stream",
          "name": "stderr",
          "text": [
            " 33%|███▎      | 1/3 [00:00<00:01,  1.40it/s]"
          ]
        },
        {
          "output_type": "stream",
          "name": "stdout",
          "text": [
            "Max val of bneck input is 14.522704124450684, Min val of bneck input is 0.0\n",
            "Max val of bottleneck_plus_emb 24.162975311279297, Min val of bneckplusemb is -8.703144073486328\n",
            "Max val before sigmoid is 83.42101287841797, Min val before sigmoid is 0.0\n",
            "Shape of prds is torch.Size([8388608]), shape of targets is torch.Size([8388608])\n"
          ]
        },
        {
          "output_type": "stream",
          "name": "stderr",
          "text": [
            "\r 67%|██████▋   | 2/3 [00:00<00:00,  2.32it/s]"
          ]
        },
        {
          "output_type": "stream",
          "name": "stdout",
          "text": [
            "Max val of bneck input is 12.187026023864746, Min val of bneck input is 0.0\n",
            "Max val of bottleneck_plus_emb 22.833087921142578, Min val of bneckplusemb is -10.34579849243164\n",
            "Max val before sigmoid is 89.41344451904297, Min val before sigmoid is 0.0\n",
            "Shape of prds is torch.Size([8388608]), shape of targets is torch.Size([8388608])\n"
          ]
        },
        {
          "output_type": "stream",
          "name": "stderr",
          "text": [
            "100%|██████████| 3/3 [00:01<00:00,  2.47it/s]\n"
          ]
        },
        {
          "output_type": "stream",
          "name": "stdout",
          "text": [
            "Max val of bneck input is 14.486629486083984, Min val of bneck input is 0.0\n",
            "Max val of bottleneck_plus_emb 22.168066024780273, Min val of bneckplusemb is -8.231851577758789\n",
            "Max val before sigmoid is 80.64005279541016, Min val before sigmoid is 0.0\n",
            "Shape of prds is torch.Size([7602176]), shape of targets is torch.Size([7602176])\n",
            "Finished epoch: 33 | Number Loss : 0.7781\n",
            "Improved Loss to 0.7781 .... Saving Model\n"
          ]
        },
        {
          "output_type": "stream",
          "name": "stderr",
          "text": [
            " 33%|███▎      | 1/3 [00:00<00:01,  1.40it/s]"
          ]
        },
        {
          "output_type": "stream",
          "name": "stdout",
          "text": [
            "Max val of bneck input is 12.479625701904297, Min val of bneck input is 0.0\n",
            "Max val of bottleneck_plus_emb 24.132888793945312, Min val of bneckplusemb is -10.34404182434082\n",
            "Max val before sigmoid is 84.58745574951172, Min val before sigmoid is 0.0\n",
            "Shape of prds is torch.Size([8388608]), shape of targets is torch.Size([8388608])\n"
          ]
        },
        {
          "output_type": "stream",
          "name": "stderr",
          "text": [
            "\r 67%|██████▋   | 2/3 [00:00<00:00,  2.33it/s]"
          ]
        },
        {
          "output_type": "stream",
          "name": "stdout",
          "text": [
            "Max val of bneck input is 15.698188781738281, Min val of bneck input is 0.0\n",
            "Max val of bottleneck_plus_emb 24.122482299804688, Min val of bneckplusemb is -8.687108039855957\n",
            "Max val before sigmoid is 90.17034912109375, Min val before sigmoid is 0.0\n",
            "Shape of prds is torch.Size([8388608]), shape of targets is torch.Size([8388608])\n"
          ]
        },
        {
          "output_type": "stream",
          "name": "stderr",
          "text": [
            "100%|██████████| 3/3 [00:01<00:00,  2.47it/s]\n"
          ]
        },
        {
          "output_type": "stream",
          "name": "stdout",
          "text": [
            "Max val of bneck input is 13.08999252319336, Min val of bneck input is 0.0\n",
            "Max val of bottleneck_plus_emb 22.55170440673828, Min val of bneckplusemb is -8.697343826293945\n",
            "Max val before sigmoid is 82.07730102539062, Min val before sigmoid is 0.0\n",
            "Shape of prds is torch.Size([7602176]), shape of targets is torch.Size([7602176])\n",
            "Finished epoch: 34 | Number Loss : 0.7779\n",
            "Improved Loss to 0.7779 .... Saving Model\n"
          ]
        },
        {
          "output_type": "stream",
          "name": "stderr",
          "text": [
            " 33%|███▎      | 1/3 [00:00<00:01,  1.08it/s]"
          ]
        },
        {
          "output_type": "stream",
          "name": "stdout",
          "text": [
            "Max val of bneck input is 14.238574981689453, Min val of bneck input is 0.0\n",
            "Max val of bottleneck_plus_emb 23.887981414794922, Min val of bneckplusemb is -8.686277389526367\n",
            "Max val before sigmoid is 81.13312530517578, Min val before sigmoid is 0.0\n",
            "Shape of prds is torch.Size([8388608]), shape of targets is torch.Size([8388608])\n"
          ]
        },
        {
          "output_type": "stream",
          "name": "stderr",
          "text": [
            "\r 67%|██████▋   | 2/3 [00:01<00:00,  1.81it/s]"
          ]
        },
        {
          "output_type": "stream",
          "name": "stdout",
          "text": [
            "Max val of bneck input is 13.822802543640137, Min val of bneck input is 0.0\n",
            "Max val of bottleneck_plus_emb 22.043123245239258, Min val of bneckplusemb is -8.696284294128418\n",
            "Max val before sigmoid is 83.73731994628906, Min val before sigmoid is 0.0\n",
            "Shape of prds is torch.Size([8388608]), shape of targets is torch.Size([8388608])\n"
          ]
        },
        {
          "output_type": "stream",
          "name": "stderr",
          "text": [
            "100%|██████████| 3/3 [00:01<00:00,  1.98it/s]\n"
          ]
        },
        {
          "output_type": "stream",
          "name": "stdout",
          "text": [
            "Max val of bneck input is 11.61507797241211, Min val of bneck input is 0.0\n",
            "Max val of bottleneck_plus_emb 23.187938690185547, Min val of bneckplusemb is -10.338626861572266\n",
            "Max val before sigmoid is 87.77548217773438, Min val before sigmoid is 0.0\n",
            "Shape of prds is torch.Size([7602176]), shape of targets is torch.Size([7602176])\n",
            "Finished epoch: 35 | Number Loss : 0.7779\n",
            "Improved Loss to 0.7779 .... Saving Model\n"
          ]
        },
        {
          "output_type": "stream",
          "name": "stderr",
          "text": [
            " 33%|███▎      | 1/3 [00:01<00:02,  1.09s/it]"
          ]
        },
        {
          "output_type": "stream",
          "name": "stdout",
          "text": [
            "Max val of bneck input is 12.294299125671387, Min val of bneck input is 0.0\n",
            "Max val of bottleneck_plus_emb 22.694421768188477, Min val of bneckplusemb is -8.69585132598877\n",
            "Max val before sigmoid is 88.43233489990234, Min val before sigmoid is 0.0\n",
            "Shape of prds is torch.Size([8388608]), shape of targets is torch.Size([8388608])\n"
          ]
        },
        {
          "output_type": "stream",
          "name": "stderr",
          "text": [
            "\r 67%|██████▋   | 2/3 [00:01<00:00,  1.65it/s]"
          ]
        },
        {
          "output_type": "stream",
          "name": "stdout",
          "text": [
            "Max val of bneck input is 13.713641166687012, Min val of bneck input is 0.0\n",
            "Max val of bottleneck_plus_emb 23.860923767089844, Min val of bneckplusemb is -10.336882591247559\n",
            "Max val before sigmoid is 80.15518188476562, Min val before sigmoid is 0.0\n",
            "Shape of prds is torch.Size([8388608]), shape of targets is torch.Size([8388608])\n"
          ]
        },
        {
          "output_type": "stream",
          "name": "stderr",
          "text": [
            "100%|██████████| 3/3 [00:01<00:00,  1.77it/s]\n"
          ]
        },
        {
          "output_type": "stream",
          "name": "stdout",
          "text": [
            "Max val of bneck input is 15.17572021484375, Min val of bneck input is 0.0\n",
            "Max val of bottleneck_plus_emb 24.202922821044922, Min val of bneckplusemb is -7.561426162719727\n",
            "Max val before sigmoid is 87.42010498046875, Min val before sigmoid is 0.0\n",
            "Shape of prds is torch.Size([7602176]), shape of targets is torch.Size([7602176])\n",
            "Finished epoch: 36 | Number Loss : 0.7778\n",
            "Improved Loss to 0.7778 .... Saving Model\n"
          ]
        },
        {
          "output_type": "stream",
          "name": "stderr",
          "text": [
            " 33%|███▎      | 1/3 [00:00<00:01,  1.10it/s]"
          ]
        },
        {
          "output_type": "stream",
          "name": "stdout",
          "text": [
            "Max val of bneck input is 12.983236312866211, Min val of bneck input is 0.0\n",
            "Max val of bottleneck_plus_emb 23.1428279876709, Min val of bneckplusemb is -8.695836067199707\n",
            "Max val before sigmoid is 85.638427734375, Min val before sigmoid is 0.0\n",
            "Shape of prds is torch.Size([8388608]), shape of targets is torch.Size([8388608])\n"
          ]
        },
        {
          "output_type": "stream",
          "name": "stderr",
          "text": [
            "\r 67%|██████▋   | 2/3 [00:01<00:00,  1.96it/s]"
          ]
        },
        {
          "output_type": "stream",
          "name": "stdout",
          "text": [
            "Max val of bneck input is 13.933113098144531, Min val of bneck input is 0.0\n",
            "Max val of bottleneck_plus_emb 23.416492462158203, Min val of bneckplusemb is -8.684488296508789\n",
            "Max val before sigmoid is 78.95994567871094, Min val before sigmoid is 0.0\n",
            "Shape of prds is torch.Size([8388608]), shape of targets is torch.Size([8388608])\n"
          ]
        },
        {
          "output_type": "stream",
          "name": "stderr",
          "text": [
            "100%|██████████| 3/3 [00:01<00:00,  2.14it/s]\n"
          ]
        },
        {
          "output_type": "stream",
          "name": "stdout",
          "text": [
            "Max val of bneck input is 11.78426456451416, Min val of bneck input is 0.0\n",
            "Max val of bottleneck_plus_emb 23.560928344726562, Min val of bneckplusemb is -10.3338041305542\n",
            "Max val before sigmoid is 86.45068359375, Min val before sigmoid is 0.0\n",
            "Shape of prds is torch.Size([7602176]), shape of targets is torch.Size([7602176])\n",
            "Finished epoch: 37 | Number Loss : 0.7777\n",
            "Improved Loss to 0.7777 .... Saving Model\n"
          ]
        },
        {
          "output_type": "stream",
          "name": "stderr",
          "text": [
            " 33%|███▎      | 1/3 [00:00<00:01,  1.33it/s]"
          ]
        },
        {
          "output_type": "stream",
          "name": "stdout",
          "text": [
            "Max val of bneck input is 12.046368598937988, Min val of bneck input is 0.0\n",
            "Max val of bottleneck_plus_emb 20.2774715423584, Min val of bneckplusemb is -8.684237480163574\n",
            "Max val before sigmoid is 83.0954360961914, Min val before sigmoid is 0.0\n",
            "Shape of prds is torch.Size([8388608]), shape of targets is torch.Size([8388608])\n"
          ]
        },
        {
          "output_type": "stream",
          "name": "stderr",
          "text": [
            "\r 67%|██████▋   | 2/3 [00:00<00:00,  2.27it/s]"
          ]
        },
        {
          "output_type": "stream",
          "name": "stdout",
          "text": [
            "Max val of bneck input is 11.777043342590332, Min val of bneck input is 0.0\n",
            "Max val of bottleneck_plus_emb 22.904027938842773, Min val of bneckplusemb is -10.331871032714844\n",
            "Max val before sigmoid is 79.44147491455078, Min val before sigmoid is 0.0\n",
            "Shape of prds is torch.Size([8388608]), shape of targets is torch.Size([8388608])\n"
          ]
        },
        {
          "output_type": "stream",
          "name": "stderr",
          "text": [
            "100%|██████████| 3/3 [00:01<00:00,  2.41it/s]\n"
          ]
        },
        {
          "output_type": "stream",
          "name": "stdout",
          "text": [
            "Max val of bneck input is 12.800703048706055, Min val of bneck input is 0.0\n",
            "Max val of bottleneck_plus_emb 23.476001739501953, Min val of bneckplusemb is -8.695268630981445\n",
            "Max val before sigmoid is 77.7021484375, Min val before sigmoid is 0.0\n",
            "Shape of prds is torch.Size([7602176]), shape of targets is torch.Size([7602176])\n",
            "Finished epoch: 38 | Number Loss : 0.7777\n",
            "No Loss Improvement\n"
          ]
        },
        {
          "output_type": "stream",
          "name": "stderr",
          "text": [
            " 33%|███▎      | 1/3 [00:00<00:01,  1.37it/s]"
          ]
        },
        {
          "output_type": "stream",
          "name": "stdout",
          "text": [
            "Max val of bneck input is 14.629084587097168, Min val of bneck input is 0.0\n",
            "Max val of bottleneck_plus_emb 24.013797760009766, Min val of bneckplusemb is -8.694742202758789\n",
            "Max val before sigmoid is 104.12323760986328, Min val before sigmoid is 0.0\n",
            "Shape of prds is torch.Size([8388608]), shape of targets is torch.Size([8388608])\n"
          ]
        },
        {
          "output_type": "stream",
          "name": "stderr",
          "text": [
            "\r 67%|██████▋   | 2/3 [00:00<00:00,  2.28it/s]"
          ]
        },
        {
          "output_type": "stream",
          "name": "stdout",
          "text": [
            "Max val of bneck input is 11.348020553588867, Min val of bneck input is 0.0\n",
            "Max val of bottleneck_plus_emb 23.08277702331543, Min val of bneckplusemb is -8.383959770202637\n",
            "Max val before sigmoid is 82.26242065429688, Min val before sigmoid is 0.0\n",
            "Shape of prds is torch.Size([8388608]), shape of targets is torch.Size([8388608])\n"
          ]
        },
        {
          "output_type": "stream",
          "name": "stderr",
          "text": [
            "100%|██████████| 3/3 [00:01<00:00,  2.43it/s]\n"
          ]
        },
        {
          "output_type": "stream",
          "name": "stdout",
          "text": [
            "Max val of bneck input is 10.868836402893066, Min val of bneck input is 0.0\n",
            "Max val of bottleneck_plus_emb 23.244029998779297, Min val of bneckplusemb is -10.328770637512207\n",
            "Max val before sigmoid is 90.45317840576172, Min val before sigmoid is 0.0\n",
            "Shape of prds is torch.Size([7602176]), shape of targets is torch.Size([7602176])\n",
            "Finished epoch: 39 | Number Loss : 0.7775\n",
            "Improved Loss to 0.7775 .... Saving Model\n"
          ]
        },
        {
          "output_type": "stream",
          "name": "stderr",
          "text": [
            " 33%|███▎      | 1/3 [00:00<00:01,  1.40it/s]"
          ]
        },
        {
          "output_type": "stream",
          "name": "stdout",
          "text": [
            "Max val of bneck input is 14.225366592407227, Min val of bneck input is 0.0\n",
            "Max val of bottleneck_plus_emb 24.026090621948242, Min val of bneckplusemb is -10.327743530273438\n",
            "Max val before sigmoid is 87.64436340332031, Min val before sigmoid is 0.0\n",
            "Shape of prds is torch.Size([8388608]), shape of targets is torch.Size([8388608])\n"
          ]
        },
        {
          "output_type": "stream",
          "name": "stderr",
          "text": [
            "\r 67%|██████▋   | 2/3 [00:00<00:00,  2.31it/s]"
          ]
        },
        {
          "output_type": "stream",
          "name": "stdout",
          "text": [
            "Max val of bneck input is 11.750704765319824, Min val of bneck input is 0.0\n",
            "Max val of bottleneck_plus_emb 23.036951065063477, Min val of bneckplusemb is -8.237542152404785\n",
            "Max val before sigmoid is 78.22660827636719, Min val before sigmoid is 0.0\n",
            "Shape of prds is torch.Size([8388608]), shape of targets is torch.Size([8388608])\n"
          ]
        },
        {
          "output_type": "stream",
          "name": "stderr",
          "text": [
            "100%|██████████| 3/3 [00:01<00:00,  2.46it/s]\n"
          ]
        },
        {
          "output_type": "stream",
          "name": "stdout",
          "text": [
            "Max val of bneck input is 13.067374229431152, Min val of bneck input is 0.0\n",
            "Max val of bottleneck_plus_emb 22.658748626708984, Min val of bneckplusemb is -8.431697845458984\n",
            "Max val before sigmoid is 78.49374389648438, Min val before sigmoid is 0.0\n",
            "Shape of prds is torch.Size([7602176]), shape of targets is torch.Size([7602176])\n",
            "Finished epoch: 40 | Number Loss : 0.7774\n",
            "Improved Loss to 0.7774 .... Saving Model\n"
          ]
        },
        {
          "output_type": "stream",
          "name": "stderr",
          "text": [
            " 33%|███▎      | 1/3 [00:00<00:01,  1.32it/s]"
          ]
        },
        {
          "output_type": "stream",
          "name": "stdout",
          "text": [
            "Max val of bneck input is 12.976068496704102, Min val of bneck input is 0.0\n",
            "Max val of bottleneck_plus_emb 22.69693946838379, Min val of bneckplusemb is -10.324413299560547\n",
            "Max val before sigmoid is 84.55022430419922, Min val before sigmoid is 0.0\n",
            "Shape of prds is torch.Size([8388608]), shape of targets is torch.Size([8388608])\n"
          ]
        },
        {
          "output_type": "stream",
          "name": "stderr",
          "text": [
            "\r 67%|██████▋   | 2/3 [00:01<00:00,  1.93it/s]"
          ]
        },
        {
          "output_type": "stream",
          "name": "stdout",
          "text": [
            "Max val of bneck input is 14.122603416442871, Min val of bneck input is 0.0\n",
            "Max val of bottleneck_plus_emb 23.814117431640625, Min val of bneckplusemb is -8.678970336914062\n",
            "Max val before sigmoid is 105.6439208984375, Min val before sigmoid is 0.0\n",
            "Shape of prds is torch.Size([8388608]), shape of targets is torch.Size([8388608])\n"
          ]
        },
        {
          "output_type": "stream",
          "name": "stderr",
          "text": [
            "100%|██████████| 3/3 [00:01<00:00,  2.09it/s]\n"
          ]
        },
        {
          "output_type": "stream",
          "name": "stdout",
          "text": [
            "Max val of bneck input is 12.398160934448242, Min val of bneck input is 0.0\n",
            "Max val of bottleneck_plus_emb 23.455196380615234, Min val of bneckplusemb is -8.688472747802734\n",
            "Max val before sigmoid is 88.53964233398438, Min val before sigmoid is 0.0\n",
            "Shape of prds is torch.Size([7602176]), shape of targets is torch.Size([7602176])\n",
            "Finished epoch: 41 | Number Loss : 0.7773\n",
            "Improved Loss to 0.7773 .... Saving Model\n"
          ]
        },
        {
          "output_type": "stream",
          "name": "stderr",
          "text": [
            " 33%|███▎      | 1/3 [00:01<00:02,  1.11s/it]"
          ]
        },
        {
          "output_type": "stream",
          "name": "stdout",
          "text": [
            "Max val of bneck input is 13.625428199768066, Min val of bneck input is 0.0\n",
            "Max val of bottleneck_plus_emb 23.46474838256836, Min val of bneckplusemb is -8.687800407409668\n",
            "Max val before sigmoid is 83.97896575927734, Min val before sigmoid is 0.0\n",
            "Shape of prds is torch.Size([8388608]), shape of targets is torch.Size([8388608])\n"
          ]
        },
        {
          "output_type": "stream",
          "name": "stderr",
          "text": [
            "\r 67%|██████▋   | 2/3 [00:01<00:00,  1.67it/s]"
          ]
        },
        {
          "output_type": "stream",
          "name": "stdout",
          "text": [
            "Max val of bneck input is 12.82274055480957, Min val of bneck input is 0.0\n",
            "Max val of bottleneck_plus_emb 23.178226470947266, Min val of bneckplusemb is -10.321468353271484\n",
            "Max val before sigmoid is 72.5047607421875, Min val before sigmoid is 0.0\n",
            "Shape of prds is torch.Size([8388608]), shape of targets is torch.Size([8388608])\n"
          ]
        },
        {
          "output_type": "stream",
          "name": "stderr",
          "text": [
            "100%|██████████| 3/3 [00:01<00:00,  1.70it/s]\n"
          ]
        },
        {
          "output_type": "stream",
          "name": "stdout",
          "text": [
            "Max val of bneck input is 11.056114196777344, Min val of bneck input is 0.0\n",
            "Max val of bottleneck_plus_emb 21.799732208251953, Min val of bneckplusemb is -7.854664325714111\n",
            "Max val before sigmoid is 81.9181900024414, Min val before sigmoid is 0.0\n",
            "Shape of prds is torch.Size([7602176]), shape of targets is torch.Size([7602176])\n",
            "Finished epoch: 42 | Number Loss : 0.7773\n",
            "Improved Loss to 0.7773 .... Saving Model\n"
          ]
        },
        {
          "output_type": "stream",
          "name": "stderr",
          "text": [
            " 33%|███▎      | 1/3 [00:00<00:01,  1.24it/s]"
          ]
        },
        {
          "output_type": "stream",
          "name": "stdout",
          "text": [
            "Max val of bneck input is 13.385334968566895, Min val of bneck input is 0.0\n",
            "Max val of bottleneck_plus_emb 23.215675354003906, Min val of bneckplusemb is -8.686322212219238\n",
            "Max val before sigmoid is 84.84003448486328, Min val before sigmoid is 0.0\n",
            "Shape of prds is torch.Size([8388608]), shape of targets is torch.Size([8388608])\n"
          ]
        },
        {
          "output_type": "stream",
          "name": "stderr",
          "text": [
            "\r 67%|██████▋   | 2/3 [00:01<00:00,  2.12it/s]"
          ]
        },
        {
          "output_type": "stream",
          "name": "stdout",
          "text": [
            "Max val of bneck input is 12.679131507873535, Min val of bneck input is 0.0\n",
            "Max val of bottleneck_plus_emb 22.949167251586914, Min val of bneckplusemb is -10.3197603225708\n",
            "Max val before sigmoid is 100.9811782836914, Min val before sigmoid is 0.0\n",
            "Shape of prds is torch.Size([8388608]), shape of targets is torch.Size([8388608])\n"
          ]
        },
        {
          "output_type": "stream",
          "name": "stderr",
          "text": [
            "100%|██████████| 3/3 [00:01<00:00,  2.26it/s]\n"
          ]
        },
        {
          "output_type": "stream",
          "name": "stdout",
          "text": [
            "Max val of bneck input is 12.601602554321289, Min val of bneck input is 0.0\n",
            "Max val of bottleneck_plus_emb 23.561717987060547, Min val of bneckplusemb is -8.67726993560791\n",
            "Max val before sigmoid is 77.09538269042969, Min val before sigmoid is 0.0\n",
            "Shape of prds is torch.Size([7602176]), shape of targets is torch.Size([7602176])\n",
            "Finished epoch: 43 | Number Loss : 0.7772\n",
            "Improved Loss to 0.7772 .... Saving Model\n"
          ]
        },
        {
          "output_type": "stream",
          "name": "stderr",
          "text": [
            " 33%|███▎      | 1/3 [00:00<00:01,  1.23it/s]"
          ]
        },
        {
          "output_type": "stream",
          "name": "stdout",
          "text": [
            "Max val of bneck input is 12.820191383361816, Min val of bneck input is 0.0\n",
            "Max val of bottleneck_plus_emb 23.239559173583984, Min val of bneckplusemb is -10.318288803100586\n",
            "Max val before sigmoid is 92.18902587890625, Min val before sigmoid is 0.0\n",
            "Shape of prds is torch.Size([8388608]), shape of targets is torch.Size([8388608])\n"
          ]
        },
        {
          "output_type": "stream",
          "name": "stderr",
          "text": [
            "\r 67%|██████▋   | 2/3 [00:01<00:00,  2.02it/s]"
          ]
        },
        {
          "output_type": "stream",
          "name": "stdout",
          "text": [
            "Max val of bneck input is 12.7671480178833, Min val of bneck input is 0.0\n",
            "Max val of bottleneck_plus_emb 22.944683074951172, Min val of bneckplusemb is -8.683677673339844\n",
            "Max val before sigmoid is 85.7795639038086, Min val before sigmoid is 0.0\n",
            "Shape of prds is torch.Size([8388608]), shape of targets is torch.Size([8388608])\n"
          ]
        },
        {
          "output_type": "stream",
          "name": "stderr",
          "text": [
            "100%|██████████| 3/3 [00:01<00:00,  2.14it/s]\n"
          ]
        },
        {
          "output_type": "stream",
          "name": "stdout",
          "text": [
            "Max val of bneck input is 13.330536842346191, Min val of bneck input is 0.0\n",
            "Max val of bottleneck_plus_emb 23.67446517944336, Min val of bneckplusemb is -7.852346420288086\n",
            "Max val before sigmoid is 74.91205596923828, Min val before sigmoid is 0.0\n",
            "Shape of prds is torch.Size([7602176]), shape of targets is torch.Size([7602176])\n",
            "Finished epoch: 44 | Number Loss : 0.7770\n",
            "Improved Loss to 0.7770 .... Saving Model\n"
          ]
        },
        {
          "output_type": "stream",
          "name": "stderr",
          "text": [
            " 33%|███▎      | 1/3 [00:01<00:02,  1.21s/it]"
          ]
        },
        {
          "output_type": "stream",
          "name": "stdout",
          "text": [
            "Max val of bneck input is 12.135969161987305, Min val of bneck input is 0.0\n",
            "Max val of bottleneck_plus_emb 23.10721206665039, Min val of bneckplusemb is -10.315218925476074\n",
            "Max val before sigmoid is 84.28099822998047, Min val before sigmoid is 0.0\n",
            "Shape of prds is torch.Size([8388608]), shape of targets is torch.Size([8388608])\n"
          ]
        },
        {
          "output_type": "stream",
          "name": "stderr",
          "text": [
            "\r 67%|██████▋   | 2/3 [00:01<00:00,  1.51it/s]"
          ]
        },
        {
          "output_type": "stream",
          "name": "stdout",
          "text": [
            "Max val of bneck input is 12.423507690429688, Min val of bneck input is 0.0\n",
            "Max val of bottleneck_plus_emb 23.296173095703125, Min val of bneckplusemb is -8.673291206359863\n",
            "Max val before sigmoid is 76.24639129638672, Min val before sigmoid is 0.0\n",
            "Shape of prds is torch.Size([8388608]), shape of targets is torch.Size([8388608])\n"
          ]
        },
        {
          "output_type": "stream",
          "name": "stderr",
          "text": [
            "100%|██████████| 3/3 [00:01<00:00,  1.64it/s]\n"
          ]
        },
        {
          "output_type": "stream",
          "name": "stdout",
          "text": [
            "Max val of bneck input is 12.415526390075684, Min val of bneck input is 0.0\n",
            "Max val of bottleneck_plus_emb 22.07716178894043, Min val of bneckplusemb is -7.849418640136719\n",
            "Max val before sigmoid is 85.55408477783203, Min val before sigmoid is 0.0\n",
            "Shape of prds is torch.Size([7602176]), shape of targets is torch.Size([7602176])\n",
            "Finished epoch: 45 | Number Loss : 0.7771\n",
            "No Loss Improvement\n"
          ]
        },
        {
          "output_type": "stream",
          "name": "stderr",
          "text": [
            " 33%|███▎      | 1/3 [00:00<00:01,  1.07it/s]"
          ]
        },
        {
          "output_type": "stream",
          "name": "stdout",
          "text": [
            "Max val of bneck input is 11.405714988708496, Min val of bneck input is 0.0\n",
            "Max val of bottleneck_plus_emb 21.347692489624023, Min val of bneckplusemb is -10.31212329864502\n",
            "Max val before sigmoid is 78.5195541381836, Min val before sigmoid is 0.0\n",
            "Shape of prds is torch.Size([8388608]), shape of targets is torch.Size([8388608])\n"
          ]
        },
        {
          "output_type": "stream",
          "name": "stderr",
          "text": [
            "\r 67%|██████▋   | 2/3 [00:01<00:00,  1.92it/s]"
          ]
        },
        {
          "output_type": "stream",
          "name": "stdout",
          "text": [
            "Max val of bneck input is 12.15194034576416, Min val of bneck input is 0.0\n",
            "Max val of bottleneck_plus_emb 23.25533676147461, Min val of bneckplusemb is -8.678155899047852\n",
            "Max val before sigmoid is 85.02536010742188, Min val before sigmoid is 0.0\n",
            "Shape of prds is torch.Size([8388608]), shape of targets is torch.Size([8388608])\n"
          ]
        },
        {
          "output_type": "stream",
          "name": "stderr",
          "text": [
            "100%|██████████| 3/3 [00:01<00:00,  2.08it/s]\n"
          ]
        },
        {
          "output_type": "stream",
          "name": "stdout",
          "text": [
            "Max val of bneck input is 14.270853042602539, Min val of bneck input is 0.0\n",
            "Max val of bottleneck_plus_emb 24.211299896240234, Min val of bneckplusemb is -7.550850868225098\n",
            "Max val before sigmoid is 81.77890014648438, Min val before sigmoid is 0.0\n",
            "Shape of prds is torch.Size([7602176]), shape of targets is torch.Size([7602176])\n",
            "Finished epoch: 46 | Number Loss : 0.7771\n",
            "No Loss Improvement\n"
          ]
        },
        {
          "output_type": "stream",
          "name": "stderr",
          "text": [
            " 33%|███▎      | 1/3 [00:00<00:01,  1.40it/s]"
          ]
        },
        {
          "output_type": "stream",
          "name": "stdout",
          "text": [
            "Max val of bneck input is 13.294922828674316, Min val of bneck input is 0.0\n",
            "Max val of bottleneck_plus_emb 23.844680786132812, Min val of bneckplusemb is -8.676728248596191\n",
            "Max val before sigmoid is 77.68893432617188, Min val before sigmoid is 0.0\n",
            "Shape of prds is torch.Size([8388608]), shape of targets is torch.Size([8388608])\n"
          ]
        },
        {
          "output_type": "stream",
          "name": "stderr",
          "text": [
            "\r 67%|██████▋   | 2/3 [00:00<00:00,  2.33it/s]"
          ]
        },
        {
          "output_type": "stream",
          "name": "stdout",
          "text": [
            "Max val of bneck input is 12.205738067626953, Min val of bneck input is 0.0\n",
            "Max val of bottleneck_plus_emb 23.181533813476562, Min val of bneckplusemb is -10.310385704040527\n",
            "Max val before sigmoid is 66.384765625, Min val before sigmoid is 0.0\n",
            "Shape of prds is torch.Size([8388608]), shape of targets is torch.Size([8388608])\n"
          ]
        },
        {
          "output_type": "stream",
          "name": "stderr",
          "text": [
            "100%|██████████| 3/3 [00:01<00:00,  2.47it/s]\n"
          ]
        },
        {
          "output_type": "stream",
          "name": "stdout",
          "text": [
            "Max val of bneck input is 10.913375854492188, Min val of bneck input is 0.0\n",
            "Max val of bottleneck_plus_emb 22.90174102783203, Min val of bneckplusemb is -8.242955207824707\n",
            "Max val before sigmoid is 92.20746612548828, Min val before sigmoid is 0.0\n",
            "Shape of prds is torch.Size([7602176]), shape of targets is torch.Size([7602176])\n",
            "Finished epoch: 47 | Number Loss : 0.7768\n",
            "Improved Loss to 0.7768 .... Saving Model\n"
          ]
        },
        {
          "output_type": "stream",
          "name": "stderr",
          "text": [
            " 33%|███▎      | 1/3 [00:00<00:01,  1.35it/s]"
          ]
        },
        {
          "output_type": "stream",
          "name": "stdout",
          "text": [
            "Max val of bneck input is 13.167895317077637, Min val of bneck input is 0.0\n",
            "Max val of bottleneck_plus_emb 21.405832290649414, Min val of bneckplusemb is -10.309409141540527\n",
            "Max val before sigmoid is 79.92120361328125, Min val before sigmoid is 0.0\n",
            "Shape of prds is torch.Size([8388608]), shape of targets is torch.Size([8388608])\n"
          ]
        },
        {
          "output_type": "stream",
          "name": "stderr",
          "text": [
            "\r 67%|██████▋   | 2/3 [00:00<00:00,  2.26it/s]"
          ]
        },
        {
          "output_type": "stream",
          "name": "stdout",
          "text": [
            "Max val of bneck input is 11.565543174743652, Min val of bneck input is 0.0\n",
            "Max val of bottleneck_plus_emb 23.221193313598633, Min val of bneckplusemb is -7.529654026031494\n",
            "Max val before sigmoid is 81.60425567626953, Min val before sigmoid is 0.0\n",
            "Shape of prds is torch.Size([8388608]), shape of targets is torch.Size([8388608])\n"
          ]
        },
        {
          "output_type": "stream",
          "name": "stderr",
          "text": [
            "100%|██████████| 3/3 [00:01<00:00,  2.41it/s]\n"
          ]
        },
        {
          "output_type": "stream",
          "name": "stdout",
          "text": [
            "Max val of bneck input is 11.684276580810547, Min val of bneck input is 0.0\n",
            "Max val of bottleneck_plus_emb 23.306713104248047, Min val of bneckplusemb is -8.30921459197998\n",
            "Max val before sigmoid is 99.05870819091797, Min val before sigmoid is 0.0\n",
            "Shape of prds is torch.Size([7602176]), shape of targets is torch.Size([7602176])\n",
            "Finished epoch: 48 | Number Loss : 0.7767\n",
            "Improved Loss to 0.7767 .... Saving Model\n"
          ]
        },
        {
          "output_type": "stream",
          "name": "stderr",
          "text": [
            " 33%|███▎      | 1/3 [00:00<00:01,  1.30it/s]"
          ]
        },
        {
          "output_type": "stream",
          "name": "stdout",
          "text": [
            "Max val of bneck input is 12.865022659301758, Min val of bneck input is 0.0\n",
            "Max val of bottleneck_plus_emb 23.339393615722656, Min val of bneckplusemb is -8.672016143798828\n",
            "Max val before sigmoid is 79.31379699707031, Min val before sigmoid is 0.0\n",
            "Shape of prds is torch.Size([8388608]), shape of targets is torch.Size([8388608])\n"
          ]
        },
        {
          "output_type": "stream",
          "name": "stderr",
          "text": [
            "\r 67%|██████▋   | 2/3 [00:00<00:00,  2.22it/s]"
          ]
        },
        {
          "output_type": "stream",
          "name": "stdout",
          "text": [
            "Max val of bneck input is 13.423465728759766, Min val of bneck input is 0.0\n",
            "Max val of bottleneck_plus_emb 23.632766723632812, Min val of bneckplusemb is -8.242402076721191\n",
            "Max val before sigmoid is 79.51146697998047, Min val before sigmoid is 0.0\n",
            "Shape of prds is torch.Size([8388608]), shape of targets is torch.Size([8388608])\n"
          ]
        },
        {
          "output_type": "stream",
          "name": "stderr",
          "text": [
            "100%|██████████| 3/3 [00:01<00:00,  2.37it/s]\n"
          ]
        },
        {
          "output_type": "stream",
          "name": "stdout",
          "text": [
            "Max val of bneck input is 11.509889602661133, Min val of bneck input is 0.0\n",
            "Max val of bottleneck_plus_emb 21.472667694091797, Min val of bneckplusemb is -10.306392669677734\n",
            "Max val before sigmoid is 94.44071960449219, Min val before sigmoid is 0.0\n",
            "Shape of prds is torch.Size([7602176]), shape of targets is torch.Size([7602176])\n",
            "Finished epoch: 49 | Number Loss : 0.7767\n",
            "Improved Loss to 0.7767 .... Saving Model\n"
          ]
        },
        {
          "output_type": "stream",
          "name": "stderr",
          "text": [
            " 33%|███▎      | 1/3 [00:00<00:01,  1.40it/s]"
          ]
        },
        {
          "output_type": "stream",
          "name": "stdout",
          "text": [
            "Max val of bneck input is 11.919848442077637, Min val of bneck input is 0.0\n",
            "Max val of bottleneck_plus_emb 23.85675811767578, Min val of bneckplusemb is -8.665884971618652\n",
            "Max val before sigmoid is 96.24424743652344, Min val before sigmoid is 0.0\n",
            "Shape of prds is torch.Size([8388608]), shape of targets is torch.Size([8388608])\n"
          ]
        },
        {
          "output_type": "stream",
          "name": "stderr",
          "text": [
            "\r 67%|██████▋   | 2/3 [00:00<00:00,  2.32it/s]"
          ]
        },
        {
          "output_type": "stream",
          "name": "stdout",
          "text": [
            "Max val of bneck input is 14.444830894470215, Min val of bneck input is 0.0\n",
            "Max val of bottleneck_plus_emb 23.52615737915039, Min val of bneckplusemb is -10.304494857788086\n",
            "Max val before sigmoid is 76.198486328125, Min val before sigmoid is 0.0\n",
            "Shape of prds is torch.Size([8388608]), shape of targets is torch.Size([8388608])\n"
          ]
        },
        {
          "output_type": "stream",
          "name": "stderr",
          "text": [
            "100%|██████████| 3/3 [00:01<00:00,  2.46it/s]"
          ]
        },
        {
          "output_type": "stream",
          "name": "stdout",
          "text": [
            "Max val of bneck input is 10.933095932006836, Min val of bneck input is 0.0\n",
            "Max val of bottleneck_plus_emb 22.083293914794922, Min val of bneckplusemb is -7.531848907470703\n",
            "Max val before sigmoid is 76.34954071044922, Min val before sigmoid is 0.0\n",
            "Shape of prds is torch.Size([7602176]), shape of targets is torch.Size([7602176])\n",
            "Finished epoch: 50 | Number Loss : 0.7766\n",
            "Improved Loss to 0.7766 .... Saving Model\n"
          ]
        },
        {
          "output_type": "stream",
          "name": "stderr",
          "text": [
            "\n"
          ]
        }
      ]
    },
    {
      "cell_type": "code",
      "source": [
        "inference(val_loader, config)"
      ],
      "metadata": {
        "colab": {
          "base_uri": "https://localhost:8080/",
          "height": 1000
        },
        "id": "N_fRxfF6pwHR",
        "outputId": "79a3b355-2e37-4ccf-af6b-646297a34226"
      },
      "execution_count": 151,
      "outputs": [
        {
          "output_type": "stream",
          "name": "stdout",
          "text": [
            "Loading checkpoint\n"
          ]
        },
        {
          "output_type": "stream",
          "name": "stderr",
          "text": [
            "<ipython-input-145-fc74384e2360>:36: FutureWarning: You are using `torch.load` with `weights_only=False` (the current default value), which uses the default pickle module implicitly. It is possible to construct malicious pickle data which will execute arbitrary code during unpickling (See https://github.com/pytorch/pytorch/blob/main/SECURITY.md#untrusted-models for more details). In a future release, the default value for `weights_only` will be flipped to `True`. This limits the functions that could be executed during unpickling. Arbitrary objects will no longer be allowed to be loaded via this mode unless they are explicitly allowlisted by the user via `torch.serialization.add_safe_globals`. We recommend you start setting `weights_only=True` for any use case where you don't have full control of the loaded file. Please open an issue on GitHub for any issues related to this experimental feature.\n",
            "  model.load_state_dict(torch.load(os.path.join(config['model_save_path'],\n",
            "  0%|          | 0/1 [00:00<?, ?it/s]"
          ]
        },
        {
          "output_type": "stream",
          "name": "stdout",
          "text": [
            "Max val of bneck input is 12.248838424682617, Min val of bneck input is 0.0\n",
            "Max val of bottleneck_plus_emb 26.12390899658203, Min val of bneckplusemb is -7.649423599243164\n",
            "Max val before sigmoid is 72.0317611694336, Min val before sigmoid is 0.0\n"
          ]
        },
        {
          "output_type": "display_data",
          "data": {
            "text/plain": [
              "<Figure size 1000x2000 with 8 Axes>"
            ],
            "image/png": "[encoded data removed]"
          },
          "metadata": {}
        },
        {
          "output_type": "stream",
          "name": "stdout",
          "text": [
            "tensor(255., device='cuda:0') tensor(0., device='cuda:0')\n"
          ]
        },
        {
          "output_type": "display_data",
          "data": {
            "text/plain": [
              "<Figure size 640x480 with 1 Axes>"
            ],
            "image/png": "[encoded data removed]"
          },
          "metadata": {}
        },
        {
          "output_type": "stream",
          "name": "stderr",
          "text": [
            "100%|██████████| 1/1 [00:02<00:00,  2.99s/it]"
          ]
        },
        {
          "output_type": "stream",
          "name": "stdout",
          "text": [
            "Accuracy in batch 0 during validation is: 0.9238\n"
          ]
        },
        {
          "output_type": "stream",
          "name": "stderr",
          "text": [
            "\n"
          ]
        }
      ]
    }
  ],
  "metadata": {
    "colab": {
      "provenance": [],
      "gpuType": "T4",
      "authorship_tag": "ABX9TyPKL6VwB8jXp6fKqkfoNoyG",
      "include_colab_link": true
    },
    "kernelspec": {
      "display_name": "Python 3",
      "name": "python3"
    },
    "language_info": {
      "name": "python"
    },
    "accelerator": "GPU"
  },
  "nbformat": 4,
  "nbformat_minor": 0
}