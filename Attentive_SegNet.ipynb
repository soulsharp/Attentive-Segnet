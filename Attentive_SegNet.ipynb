{
  "cells": [
    {
      "cell_type": "markdown",
      "metadata": {
        "id": "view-in-github",
        "colab_type": "text"
      },
      "source": [
        "<a href=\"https://colab.research.google.com/github/soulsharp/Attentive-Segnet/blob/main/Attentive_SegNet.ipynb\" target=\"_parent\"><img src=\"https://colab.research.google.com/assets/colab-badge.svg\" alt=\"Open In Colab\"/></a>"
      ]
    },
    {
      "cell_type": "code",
      "execution_count": 52,
      "metadata": {
        "id": "vrIycxsQ1hT6"
      },
      "outputs": [],
      "source": [
        "import torch\n",
        "import torch.nn as nn\n",
        "import torch.nn.functional as F\n",
        "import numpy as np\n",
        "import matplotlib.pyplot as plt\n",
        "import cv2 as cv\n",
        "import os\n",
        "from torch.utils.data import DataLoader, random_split\n",
        "from torch.utils.data.dataset import Dataset\n",
        "from torch.optim import Adam\n",
        "from torch.optim.lr_scheduler import ReduceLROnPlateau\n",
        "from tqdm import tqdm\n",
        "import math\n",
        "import random\n",
        "import seaborn as sns"
      ]
    },
    {
      "cell_type": "code",
      "source": [
        "device = torch.device('cuda' if torch.cuda.is_available() else 'cpu')"
      ],
      "metadata": {
        "id": "NLfQ5e01TkW1"
      },
      "execution_count": 53,
      "outputs": []
    },
    {
      "cell_type": "markdown",
      "source": [
        "**Config dictionary** contains the configuration parameters for training and constructing the model"
      ],
      "metadata": {
        "id": "9ubBedZscBXp"
      }
    },
    {
      "cell_type": "code",
      "source": [
        "config = {\n",
        "\n",
        "    \"embed_dim\":64,\n",
        "    \"patch_size\":32,\n",
        "    \"in_channels\":3,\n",
        "    \"weight_bce\": 0.2,\n",
        "    \"weight_dice\": 0.8,\n",
        "    \"epsilon_loss_fn\": 1e6,\n",
        "    \"train_batch_size\": 32,\n",
        "    \"train_epochs\": 50,\n",
        "    \"lr\": 1e-4,\n",
        "    \"ckpt_name\": 'att_segnet.pth',\n",
        "    \"model_save_path\":\"/content/saved_models\"\n",
        "\n",
        "}"
      ],
      "metadata": {
        "id": "7V59zsQYUNDd"
      },
      "execution_count": 54,
      "outputs": []
    },
    {
      "cell_type": "markdown",
      "source": [
        "**CrackDataset** derived from torch.utils.data.Dataset contains logic to load the dataset from certain directories and apply transformations/ augmentations to it, if provided\n",
        "\n",
        "\n"
      ],
      "metadata": {
        "id": "8S3qOzNKcJ7d"
      }
    },
    {
      "cell_type": "code",
      "source": [
        "class CrackDataset(Dataset):\n",
        "    def __init__(self, image_dir, mask_dir, transform=None):\n",
        "        \"\"\"\n",
        "        Custom Concrete Failure Detection(Crack) dataset\n",
        "\n",
        "        Args:\n",
        "            image_dir (str): Path to the directory containing RGB images.\n",
        "            mask_dir (str): Path to the directory containing mask images.\n",
        "            transform (callable, optional): A function/transform to apply to both images and masks.\n",
        "        \"\"\"\n",
        "        self.image_paths = sorted([os.path.join(image_dir, fname) for fname in os.listdir(image_dir) if fname.endswith(('.jpg', '.png', '.jpeg'))])\n",
        "        self.mask_paths = sorted([os.path.join(mask_dir, fname) for fname in os.listdir(mask_dir) if fname.endswith(('.jpg', '.png', '.jpeg'))])\n",
        "\n",
        "        if len(self.image_paths) != len(self.mask_paths):\n",
        "            raise ValueError(\"Number of images and masks must be the same!\")\n",
        "\n",
        "        self.transform = transform\n",
        "\n",
        "    def __len__(self):\n",
        "        return len(self.image_paths)\n",
        "\n",
        "    def __getitem__(self, idx):\n",
        "        # Loads image and mask\n",
        "        image_path = self.image_paths[idx]\n",
        "        mask_path = self.mask_paths[idx]\n",
        "\n",
        "        image = cv.imread(image_path)\n",
        "        mask = cv.imread(mask_path, cv.IMREAD_GRAYSCALE)\n",
        "\n",
        "        if image is None:\n",
        "            raise ValueError(f\"Failed to load image: {image_path}\")\n",
        "        if mask is None:\n",
        "            raise ValueError(f\"Failed to load mask: {mask_path}\")\n",
        "\n",
        "        # Applies transformations\n",
        "        if self.transform:\n",
        "            image, mask = self.transform(image, mask)\n",
        "\n",
        "        # Convert to tensors\n",
        "        image = torch.as_tensor(image, dtype=torch.float32).permute(2, 0, 1)\n",
        "        mask = torch.as_tensor(mask, dtype=torch.float32)\n",
        "\n",
        "        return image, mask\n",
        "\n",
        "# Simple preprocessing function\n",
        "def transform_image_and_mask(image, mask, size=512):\n",
        "    # Resize image and mask\n",
        "    image = cv.resize(image, (size, size), interpolation=cv.INTER_NEAREST)\n",
        "    mask = cv.resize(mask, (size, size), interpolation=cv.INTER_NEAREST)\n",
        "    mask = mask/255.0\n",
        "    return image, mask"
      ],
      "metadata": {
        "id": "_ti1LYG7irdA"
      },
      "execution_count": 55,
      "outputs": []
    },
    {
      "cell_type": "markdown",
      "source": [
        "This function creates the train data loader and the validation data loader from given image directories using the CrackDataset class"
      ],
      "metadata": {
        "id": "G9snxrGwc7J_"
      }
    },
    {
      "cell_type": "code",
      "source": [
        "def make_train_val_loaders(image_directory, mask_directory):\n",
        "  # Instantiates dataset\n",
        "  dataset = CrackDataset(image_dir=image_directory, mask_dir=mask_directory, transform=transform_image_and_mask)\n",
        "\n",
        "  # Train-validation split\n",
        "  train_ratio = 0.8\n",
        "  train_size = int(len(dataset) * train_ratio)\n",
        "  val_size = len(dataset) - train_size\n",
        "  train_dataset, val_dataset = random_split(dataset, [train_size, val_size])\n",
        "\n",
        "  # Creates DataLoaders\n",
        "  train_loader = DataLoader(train_dataset, batch_size=32, shuffle=True, num_workers=2)\n",
        "  val_loader = DataLoader(val_dataset, batch_size=32, shuffle=False, num_workers=2)\n",
        "\n",
        "  return train_loader, val_loader"
      ],
      "metadata": {
        "id": "gZ3cdLrOCtua"
      },
      "execution_count": 56,
      "outputs": []
    },
    {
      "cell_type": "markdown",
      "source": [
        "**Patch_Embedding**\n",
        "\n",
        "This class derived from nn.Module forms a core transformation included in the Attentive Segnet model.It takes an image batch of shape **(Batch_size, channels, height, width)** and divides the input images into equal sized patches resulting in a tensor of the shape **(Batch_size, num_patches, embed_dim)**.\n",
        "\n",
        "Each patch contains encoded information about a section of the image"
      ],
      "metadata": {
        "id": "kLXC-bP9dX0A"
      }
    },
    {
      "cell_type": "code",
      "execution_count": 57,
      "metadata": {
        "id": "5K-5mDs8sat9"
      },
      "outputs": [],
      "source": [
        "# Encodes patch representation of an image batch\n",
        "class Patch_Embedding(nn.Module):\n",
        "    def __init__(self, embed_dim=64, patch_size=32, in_channels=3):\n",
        "        super(Patch_Embedding, self).__init__()\n",
        "        self.patch_size = patch_size\n",
        "        self.embed_dim = embed_dim\n",
        "        self.convolution = nn.Conv2d(in_channels, embed_dim, kernel_size=patch_size, stride=patch_size)\n",
        "\n",
        "    def forward(self, x):\n",
        "        # Expects x to be of shape (batch_size, channels, height, width)\n",
        "        h, w = x.shape[2], x.shape[3]\n",
        "        if h % self.patch_size != 0 or w % self.patch_size != 0:\n",
        "          raise ValueError(\"Input dimensions must be divisible by the patch size.\")\n",
        "        # Applies convolution to create patches\n",
        "        patches = self.convolution(x)\n",
        "\n",
        "        return patches"
      ]
    },
    {
      "cell_type": "code",
      "execution_count": 58,
      "metadata": {
        "id": "-tro-lDSES7x"
      },
      "outputs": [],
      "source": [
        "# returns a tensor after applying maxpool2d\n",
        "# also returns the indices used up in the max pool\n",
        "class MaxPoolWithIndices(nn.Module):\n",
        "    def __init__(self, kernel_size, stride):\n",
        "        super(MaxPoolWithIndices, self).__init__()\n",
        "        self.kernel_size = kernel_size\n",
        "        self.stride = stride\n",
        "        self.maxpool = nn.MaxPool2d(kernel_size=self.kernel_size, stride=self.stride, return_indices=True)\n",
        "\n",
        "    def forward(self, x):\n",
        "        output, indices = self.maxpool(x)\n",
        "        return output, indices"
      ]
    },
    {
      "cell_type": "code",
      "execution_count": 59,
      "metadata": {
        "id": "OodSqmZql7Ck"
      },
      "outputs": [],
      "source": [
        "# basic convblock with conv2d-->batchnorm-->relu-->maxpool(optional)\n",
        "class ConvBlock(nn.Module):\n",
        "    def __init__(self, in_channels, out_channels, kernel_size, stride, padding, maxpool_flag=True):\n",
        "        super(ConvBlock, self).__init__()\n",
        "        self.maxpool_flag = maxpool_flag\n",
        "        self.operation_seq = nn.Sequential(\n",
        "            nn.Conv2d(in_channels, out_channels, kernel_size=kernel_size, stride=stride, padding=padding),\n",
        "            nn.BatchNorm2d(out_channels),\n",
        "            nn.ReLU()\n",
        "        )\n",
        "        if self.maxpool_flag:\n",
        "            self.maxpool = MaxPoolWithIndices(kernel_size=2, stride=2)\n",
        "\n",
        "    def forward(self, x):\n",
        "        x = self.operation_seq(x)\n",
        "\n",
        "        if self.maxpool_flag:\n",
        "            pooled, indices = self.maxpool(x)\n",
        "            return pooled, indices\n",
        "        else:\n",
        "            return x, None"
      ]
    },
    {
      "cell_type": "code",
      "source": [
        "class Downsample(nn.Module):\n",
        "    def __init__(self):\n",
        "        super(Downsample, self).__init__()\n",
        "\n",
        "        # Initializes the conv blocks\n",
        "        self.conv_blocks = nn.ModuleList([\n",
        "            ConvBlock(3, 8, 3, 1, 1),\n",
        "            ConvBlock(8, 16, 3, 1, 1),\n",
        "            ConvBlock(16, 32, 3, 1, 1),\n",
        "            ConvBlock(32, 64, 3, 4, 1, False)  # block4 (no maxpool)\n",
        "        ])\n",
        "\n",
        "    def forward(self, input_tensor):\n",
        "        max_indices = {}\n",
        "        bottleneck_input = None\n",
        "\n",
        "        # Ensures that input dimensions are divisible by 4\n",
        "        assert input_tensor.shape[-2] % 4 == 0 and input_tensor.shape[-1] % 4 == 0, \\\n",
        "            \"Input dimensions must be divisible by 4 for this downsampling pipeline.\"\n",
        "\n",
        "        # Goes through all blocks in conv blocks sequentially\n",
        "        for idx, conv_block in enumerate(self.conv_blocks):\n",
        "            input_tensor, indices = conv_block(input_tensor)\n",
        "\n",
        "            # Saves max indices for each block\n",
        "            block_name = f\"block{idx + 1}\"\n",
        "\n",
        "            # The last block ie block4 gives the output to be used as bottleneck\n",
        "            if block_name == \"block4\":\n",
        "                bottleneck_input = input_tensor\n",
        "            else:\n",
        "                max_indices[block_name] = indices\n",
        "\n",
        "        return max_indices, bottleneck_input"
      ],
      "metadata": {
        "id": "LWOimefk6wsX"
      },
      "execution_count": 60,
      "outputs": []
    },
    {
      "cell_type": "code",
      "execution_count": 61,
      "metadata": {
        "id": "Kzwfjl1MWO4o"
      },
      "outputs": [],
      "source": [
        "# Attention weights to scale the patch embed representation\n",
        "class AttentionWeights(nn.Module):\n",
        "    def __init__(self, output_dim):\n",
        "        super(AttentionWeights, self).__init__()\n",
        "        self.alphas = nn.Parameter(torch.randn(output_dim))\n",
        "        self.layer_norm = nn.LayerNorm([256, 64])\n",
        "\n",
        "    def forward(self, patch_emb_tensor):\n",
        "\n",
        "        # adding a dimension ie making alphas (256, 1) for proper broadcasting\n",
        "        scaled_input = self.alphas.unsqueeze(1) * patch_emb_tensor\n",
        "\n",
        "        # Normalizes input for stability\n",
        "        normalized_scaled_input = self.layer_norm(scaled_input)\n",
        "\n",
        "        return normalized_scaled_input\n"
      ]
    },
    {
      "cell_type": "code",
      "execution_count": 62,
      "metadata": {
        "id": "3xPWxsxOGx-H"
      },
      "outputs": [],
      "source": [
        "# Takes in the bottleneck tensor and adds patch embeddings to it\n",
        "def add_bottleneck_and_patch_embeddings(bottleneck, patch_embedding):\n",
        "\n",
        "  num_batches, num_channels, h, w = bottleneck.shape\n",
        "  patch_embedding = patch_embedding.permute(0, 2, 1)\n",
        "  patch_embedding = patch_embedding.view(num_batches, num_channels, h, w)\n",
        "\n",
        "  return bottleneck + patch_embedding"
      ]
    },
    {
      "cell_type": "code",
      "source": [
        "class UpBlock(nn.Module):\n",
        "    def __init__(self, in_channels, out_channels, kernel_size, stride, padding):\n",
        "        super(UpBlock, self).__init__()\n",
        "        self.operation_sequence = nn.Sequential(\n",
        "            nn.ConvTranspose2d(in_channels, out_channels, kernel_size, stride, padding, bias=False),\n",
        "            nn.BatchNorm2d(out_channels),\n",
        "            nn.ReLU(),\n",
        "        )\n",
        "\n",
        "    def forward(self, x):\n",
        "        output = self.operation_sequence(x)\n",
        "        return output"
      ],
      "metadata": {
        "id": "C_93qBvHHGAH"
      },
      "execution_count": 63,
      "outputs": []
    },
    {
      "cell_type": "code",
      "source": [
        "class Unpool2d(nn.Module):\n",
        "  def __init__(self, k_sz, stride):\n",
        "    super(Unpool2d, self).__init__()\n",
        "    self.unpool2d = nn.MaxUnpool2d(k_sz, stride)\n",
        "\n",
        "  def forward(self, pooled, indices):\n",
        "    return self.unpool2d(pooled, indices)"
      ],
      "metadata": {
        "id": "zWAizrIRfQdS"
      },
      "execution_count": 64,
      "outputs": []
    },
    {
      "cell_type": "code",
      "source": [
        "class Upsample(nn.Module):\n",
        "    def __init__(self):\n",
        "        super(Upsample, self).__init__()\n",
        "\n",
        "        # Defines the sequence of UpBlocks and Unpool2d layers\n",
        "        self.up_blocks = nn.ModuleList([\n",
        "            UpBlock(64, 32, kernel_size=4, stride=4, padding=0),\n",
        "            Unpool2d(2, 2),\n",
        "            UpBlock(32, 16, kernel_size=3, stride=1, padding=1),\n",
        "            Unpool2d(2, 2),\n",
        "            UpBlock(16, 8, kernel_size=3, stride=1, padding=1),\n",
        "            Unpool2d(2, 2),\n",
        "            UpBlock(8, 1, kernel_size=3, stride=1, padding=1),\n",
        "        ])\n",
        "\n",
        "    def forward(self, input_tensor, max_indices):\n",
        "        count = 0\n",
        "        for idx, layer in enumerate(self.up_blocks):\n",
        "\n",
        "            # Upblock layer\n",
        "            if idx % 2 == 0:\n",
        "                input_tensor = layer(input_tensor)\n",
        "\n",
        "            # Unpool layer\n",
        "            else:\n",
        "                max_index_key = \"block\" + str(3 - count)\n",
        "                input_tensor = layer(input_tensor, max_indices[max_index_key])\n",
        "                count += 1\n",
        "        return input_tensor"
      ],
      "metadata": {
        "id": "5WL-YOtJ1Bjm"
      },
      "execution_count": 65,
      "outputs": []
    },
    {
      "cell_type": "code",
      "source": [
        "class weightedBCEDiceLoss(nn.Module):\n",
        "  def __init__(self, weight_BCE, weight_Dice, epsilon):\n",
        "    super(weightedBCEDiceLoss, self).__init__()\n",
        "    self.alpha = weight_BCE\n",
        "    self.beta = weight_Dice\n",
        "    self.eps = epsilon\n",
        "    assert math.isclose(self.alpha + self.beta, 1.0, rel_tol=1e-6), \"Weights of BCE and Dice Loss must sum to 1\"\n",
        "\n",
        "  def forward(self, preds, targets):\n",
        "    preds = preds.view(-1)\n",
        "    targets = targets.view(-1)\n",
        "    print(f\"Shape of prds is {preds.shape}, shape of targets is {targets.shape}\")\n",
        "\n",
        "    bce_criterion = nn.BCELoss()\n",
        "    bce_loss = bce_criterion(preds, targets)\n",
        "\n",
        "    intersection = torch.sum(preds * targets)\n",
        "    union = torch.sum(preds) + torch.sum(targets)\n",
        "    dice_coeff = (2 * intersection + self.eps) / (union + self.eps)\n",
        "    dice_loss = 1 - dice_coeff\n",
        "\n",
        "    total_loss = self.alpha * bce_loss + self.beta * dice_loss\n",
        "\n",
        "    return total_loss\n"
      ],
      "metadata": {
        "id": "rTXxl7Noivj1"
      },
      "execution_count": 66,
      "outputs": []
    },
    {
      "cell_type": "code",
      "source": [
        "class AttentiveSegnet(nn.Module):\n",
        "  def __init__(self, config):\n",
        "    super(AttentiveSegnet, self).__init__()\n",
        "    self.patch_embedding = Patch_Embedding(config[\"embed_dim\"], config[\"patch_size\"], config[\"in_channels\"])\n",
        "    self.downsample_block = Downsample()\n",
        "    self.upsample_block = Upsample()\n",
        "    self.attention_weights = AttentionWeights(256)\n",
        "    self.embed_dim = config['embed_dim']\n",
        "    self.sigmoid = nn.Sigmoid()\n",
        "\n",
        "  def forward(self, x):\n",
        "    # Computes patch encodings for the input tensor x and scales the representations\n",
        "    patched_encodings = self.patch_embedding(x)\n",
        "    patched_encodings = patched_encodings.view(patched_encodings.size(0), -1, self.embed_dim)\n",
        "    attention_dim = patched_encodings.size(1)\n",
        "\n",
        "    # # Dynamically initialize attention weights if not already initialized\n",
        "    # if self.attention_weights is None:\n",
        "    #   self.attention_weights = AttentionWeights(attention_dim)\n",
        "    #   self.add_module(\"Attention_weights\", self.attention_weights)\n",
        "\n",
        "    # self.attention_weights = self.attention_weights.to(patched_encodings.device)\n",
        "\n",
        "    scaled_embeddings = self.attention_weights(patched_encodings)\n",
        "\n",
        "    # Downsample, combine embeddings and upscale\n",
        "    max_indices, bottleneck_input = self.downsample_block(x)\n",
        "\n",
        "    print(f\"Max val of bneck input is {torch.max(bottleneck_input)}, Min val of bneck input is {torch.min(bottleneck_input)}\")\n",
        "\n",
        "    bottleneck_plus_emb = add_bottleneck_and_patch_embeddings(bottleneck_input, scaled_embeddings)\n",
        "\n",
        "    print(f\"Max val of bottleneck_plus_emb {torch.max(bottleneck_plus_emb)}, Min val of bneckplusemb is {torch.min(bottleneck_plus_emb)}\")\n",
        "    output_mask = self.upsample_block(bottleneck_plus_emb, max_indices)\n",
        "\n",
        "    # Debugging\n",
        "    print(f\"Max val before sigmoid is {torch.max(output_mask)}, Min val before sigmoid is {torch.min(output_mask)}\")\n",
        "    output_mask = self.sigmoid(output_mask)\n",
        "\n",
        "    return output_mask\n"
      ],
      "metadata": {
        "id": "XLxaHDIT6F5o"
      },
      "execution_count": 67,
      "outputs": []
    },
    {
      "cell_type": "code",
      "source": [
        "def train_for_one_epoch(epoch_idx, model, train_loader, optimizer, config):\n",
        "\n",
        "    r\"\"\"\n",
        "    Method to run the training for one epoch.\n",
        "    :param epoch_idx: iteration number of current epoch\n",
        "    :param model: Attentive SegNet model\n",
        "    :param train_loader: Dataloader for the training set\n",
        "    :param optimizer: optimizer to be used\n",
        "    :param config: config dictionary that contains model information\n",
        "    :return: loss value for the epoch\n",
        "    \"\"\"\n",
        "\n",
        "    losses = []\n",
        "    criterion = weightedBCEDiceLoss(config[\"weight_bce\"], config[\"weight_dice\"], config[\"epsilon_loss_fn\"])\n",
        "\n",
        "    # Iterates through the dataloader in form of batches\n",
        "    for batch in tqdm(train_loader):\n",
        "        im, mask = batch\n",
        "        im = im.to(device)\n",
        "        mask = mask.to(device)\n",
        "        optimizer.zero_grad()\n",
        "        model_output = model(im)\n",
        "        loss = criterion(model_output, mask)\n",
        "        losses.append(loss.item())\n",
        "        loss.backward()\n",
        "        optimizer.step()\n",
        "\n",
        "    # Prints epoch and loss info\n",
        "    print('Finished epoch: {} | Number Loss : {:.4f}'.\n",
        "          format(epoch_idx + 1,\n",
        "                 np.mean(losses)))\n",
        "    return np.mean(losses)\n",
        "\n",
        "def train(train_loader, config):\n",
        "    model = AttentiveSegnet(config).to(device)\n",
        "    num_epochs = config['train_epochs']\n",
        "    optimizer = Adam(model.parameters(), lr=config['lr'])\n",
        "    scheduler = ReduceLROnPlateau(optimizer, factor=0.5, patience=2, verbose=True)\n",
        "\n",
        "    # Creates output directories\n",
        "    if not os.path.exists(config['model_save_path']):\n",
        "        os.mkdir(config['model_save_path'])\n",
        "\n",
        "    # Loads checkpoint if found\n",
        "    if os.path.exists(os.path.join(config['model_save_path'], config['ckpt_name'])):\n",
        "        print('Loading checkpoint')\n",
        "        model.load_state_dict(torch.load(os.path.join(config['model_save_path'],\n",
        "                                    config['ckpt_name']), map_location=device))\n",
        "    best_loss = np.inf\n",
        "\n",
        "    for epoch_idx in range(num_epochs):\n",
        "        mean_loss = train_for_one_epoch(epoch_idx, model, train_loader, optimizer, config)\n",
        "        scheduler.step(mean_loss)\n",
        "\n",
        "        # Updates checkpoint if better model params found\n",
        "        if mean_loss < best_loss:\n",
        "            print('Improved Loss to {:.4f} .... Saving Model'.format(mean_loss))\n",
        "            torch.save(model.state_dict(), os.path.join(config['model_save_path'],\n",
        "                                            config['ckpt_name']))\n",
        "            best_loss = mean_loss\n",
        "        else:\n",
        "            print('No Loss Improvement')"
      ],
      "metadata": {
        "id": "Esj0UYB0GIEx"
      },
      "execution_count": 68,
      "outputs": []
    },
    {
      "cell_type": "code",
      "source": [
        "def get_segmentation_accuracy(preds, targets):\n",
        "  preds = preds.view(-1)\n",
        "  targets = targets.view(-1)\n",
        "\n",
        "  matches = (preds == targets).sum().item()\n",
        "  accuracy = matches / preds.size(0)\n",
        "  return accuracy\n",
        "\n",
        "def post_process(preds):\n",
        "  result = torch.where(preds>0.515, 255.0 , 0.0)\n",
        "  return result\n",
        "\n",
        "def visualize_preds(preds, masks):\n",
        "   fig, axes = plt.subplots(4, 2, figsize=(10, 20))\n",
        "\n",
        "   for i in range(4):\n",
        "      axes[i, 0].imshow(masks[i].squeeze(1).cpu().detach().numpy(), cmap='gray')\n",
        "      axes[i, 0].set_title(f\"Ground Truth {i+1}\")\n",
        "      axes[i, 0].axis('off')\n",
        "\n",
        "      axes[i, 1].imshow(preds[i].squeeze().cpu().detach().numpy(), cmap='gray')\n",
        "      axes[i, 1].set_title(f\"Prediction {i+1}\")\n",
        "      axes[i, 1].axis('off')\n",
        "\n",
        "   plt.tight_layout()\n",
        "   plt.show()\n",
        "\n",
        "\n",
        "def inference(val_loader, config):\n",
        "   model = AttentiveSegnet(config).to(device)\n",
        "   model.eval()\n",
        "\n",
        "   # Loads checkpoint if found\n",
        "   if os.path.exists(os.path.join(config['model_save_path'], config['ckpt_name'])):\n",
        "        print('Loading checkpoint')\n",
        "        model.load_state_dict(torch.load(os.path.join(config['model_save_path'],\n",
        "                                     config['ckpt_name']), map_location=device))\n",
        "   else:\n",
        "        print('No checkpoint found at {}'.format(os.path.join(config['model_save_path'],\n",
        "                                        config['ckpt_name'])))\n",
        "\n",
        "   for idx, batch in enumerate(tqdm(val_loader)):\n",
        "        im, mask = batch\n",
        "        im = im.to(device)\n",
        "        mask = mask.to(device)\n",
        "        preds = model(im)\n",
        "        preds = preds.to(device)\n",
        "\n",
        "        preds = post_process(preds)\n",
        "\n",
        "        # Randomly picks any 4 images of the 1st batch for viz\n",
        "        if idx == 0:\n",
        "            random_indices = random.sample(range(im.size(0)), 4)\n",
        "            selected_images = im[random_indices]\n",
        "            selected_preds = preds[random_indices]\n",
        "            selected_masks = mask[random_indices]\n",
        "            visualize_preds(selected_preds, selected_masks)\n",
        "\n",
        "            print(torch.max(selected_preds), torch.min(selected_preds))\n",
        "\n",
        "            sns.histplot(selected_preds.cpu().detach().numpy().flatten(), bins=255)\n",
        "            plt.title(\"Distribution of Selected Predictions\")\n",
        "            plt.xlabel(\"Prediction Values\")\n",
        "            plt.ylabel(\"Frequency\")\n",
        "            plt.show()\n",
        "\n",
        "\n",
        "\n",
        "        accuracy = get_segmentation_accuracy(preds, mask)\n",
        "        print(f\"Accuracy in batch {idx} during validation is: {accuracy:.4f}\")"
      ],
      "metadata": {
        "id": "zo5uJJi5KFW2"
      },
      "execution_count": 78,
      "outputs": []
    },
    {
      "cell_type": "code",
      "source": [
        "image_directory = \"/content/images\"\n",
        "mask_directory = \"/content/masks\"\n",
        "train_loader, val_loader = make_train_val_loaders(image_directory, mask_directory)"
      ],
      "metadata": {
        "id": "pgUivfFuQnx9"
      },
      "execution_count": 70,
      "outputs": []
    },
    {
      "cell_type": "code",
      "source": [
        "model = AttentiveSegnet(config).to(device)\n",
        "print(type(model.parameters()))"
      ],
      "metadata": {
        "colab": {
          "base_uri": "https://localhost:8080/"
        },
        "id": "WvdiUp8FqARh",
        "outputId": "9b42c60c-f79a-4606-ba39-88b8fbd430b2"
      },
      "execution_count": 71,
      "outputs": [
        {
          "output_type": "stream",
          "name": "stdout",
          "text": [
            "<class 'generator'>\n"
          ]
        }
      ]
    },
    {
      "cell_type": "code",
      "source": [
        "for param in model.parameters():\n",
        "    print(param.device)"
      ],
      "metadata": {
        "id": "RjYoRygDrCfd",
        "colab": {
          "base_uri": "https://localhost:8080/"
        },
        "outputId": "94dcfec3-03b8-4d49-95a4-6fd44e900468"
      },
      "execution_count": 72,
      "outputs": [
        {
          "output_type": "stream",
          "name": "stdout",
          "text": [
            "cuda:0\n",
            "cuda:0\n",
            "cuda:0\n",
            "cuda:0\n",
            "cuda:0\n",
            "cuda:0\n",
            "cuda:0\n",
            "cuda:0\n",
            "cuda:0\n",
            "cuda:0\n",
            "cuda:0\n",
            "cuda:0\n",
            "cuda:0\n",
            "cuda:0\n",
            "cuda:0\n",
            "cuda:0\n",
            "cuda:0\n",
            "cuda:0\n",
            "cuda:0\n",
            "cuda:0\n",
            "cuda:0\n",
            "cuda:0\n",
            "cuda:0\n",
            "cuda:0\n",
            "cuda:0\n",
            "cuda:0\n",
            "cuda:0\n",
            "cuda:0\n",
            "cuda:0\n",
            "cuda:0\n",
            "cuda:0\n",
            "cuda:0\n",
            "cuda:0\n"
          ]
        }
      ]
    },
    {
      "cell_type": "code",
      "source": [
        "for name, param in model.named_parameters():\n",
        "    print(name, param.size(), param.device)"
      ],
      "metadata": {
        "id": "qEnqUh2Rruux",
        "colab": {
          "base_uri": "https://localhost:8080/"
        },
        "outputId": "991fc51d-cc0d-4a40-a93d-99fe57e2df9c"
      },
      "execution_count": 73,
      "outputs": [
        {
          "output_type": "stream",
          "name": "stdout",
          "text": [
            "patch_embedding.convolution.weight torch.Size([64, 3, 32, 32]) cuda:0\n",
            "patch_embedding.convolution.bias torch.Size([64]) cuda:0\n",
            "downsample_block.conv_blocks.0.operation_seq.0.weight torch.Size([8, 3, 3, 3]) cuda:0\n",
            "downsample_block.conv_blocks.0.operation_seq.0.bias torch.Size([8]) cuda:0\n",
            "downsample_block.conv_blocks.0.operation_seq.1.weight torch.Size([8]) cuda:0\n",
            "downsample_block.conv_blocks.0.operation_seq.1.bias torch.Size([8]) cuda:0\n",
            "downsample_block.conv_blocks.1.operation_seq.0.weight torch.Size([16, 8, 3, 3]) cuda:0\n",
            "downsample_block.conv_blocks.1.operation_seq.0.bias torch.Size([16]) cuda:0\n",
            "downsample_block.conv_blocks.1.operation_seq.1.weight torch.Size([16]) cuda:0\n",
            "downsample_block.conv_blocks.1.operation_seq.1.bias torch.Size([16]) cuda:0\n",
            "downsample_block.conv_blocks.2.operation_seq.0.weight torch.Size([32, 16, 3, 3]) cuda:0\n",
            "downsample_block.conv_blocks.2.operation_seq.0.bias torch.Size([32]) cuda:0\n",
            "downsample_block.conv_blocks.2.operation_seq.1.weight torch.Size([32]) cuda:0\n",
            "downsample_block.conv_blocks.2.operation_seq.1.bias torch.Size([32]) cuda:0\n",
            "downsample_block.conv_blocks.3.operation_seq.0.weight torch.Size([64, 32, 3, 3]) cuda:0\n",
            "downsample_block.conv_blocks.3.operation_seq.0.bias torch.Size([64]) cuda:0\n",
            "downsample_block.conv_blocks.3.operation_seq.1.weight torch.Size([64]) cuda:0\n",
            "downsample_block.conv_blocks.3.operation_seq.1.bias torch.Size([64]) cuda:0\n",
            "upsample_block.up_blocks.0.operation_sequence.0.weight torch.Size([64, 32, 4, 4]) cuda:0\n",
            "upsample_block.up_blocks.0.operation_sequence.1.weight torch.Size([32]) cuda:0\n",
            "upsample_block.up_blocks.0.operation_sequence.1.bias torch.Size([32]) cuda:0\n",
            "upsample_block.up_blocks.2.operation_sequence.0.weight torch.Size([32, 16, 3, 3]) cuda:0\n",
            "upsample_block.up_blocks.2.operation_sequence.1.weight torch.Size([16]) cuda:0\n",
            "upsample_block.up_blocks.2.operation_sequence.1.bias torch.Size([16]) cuda:0\n",
            "upsample_block.up_blocks.4.operation_sequence.0.weight torch.Size([16, 8, 3, 3]) cuda:0\n",
            "upsample_block.up_blocks.4.operation_sequence.1.weight torch.Size([8]) cuda:0\n",
            "upsample_block.up_blocks.4.operation_sequence.1.bias torch.Size([8]) cuda:0\n",
            "upsample_block.up_blocks.6.operation_sequence.0.weight torch.Size([8, 1, 3, 3]) cuda:0\n",
            "upsample_block.up_blocks.6.operation_sequence.1.weight torch.Size([1]) cuda:0\n",
            "upsample_block.up_blocks.6.operation_sequence.1.bias torch.Size([1]) cuda:0\n",
            "attention_weights.alphas torch.Size([256]) cuda:0\n",
            "attention_weights.layer_norm.weight torch.Size([256, 64]) cuda:0\n",
            "attention_weights.layer_norm.bias torch.Size([256, 64]) cuda:0\n"
          ]
        }
      ]
    },
    {
      "cell_type": "code",
      "source": [
        "train(train_loader, config)"
      ],
      "metadata": {
        "id": "OyRnnH6NRSZY",
        "colab": {
          "base_uri": "https://localhost:8080/"
        },
        "outputId": "8fdc097b-6e5b-458f-ddc2-1bca8857e6bc"
      },
      "execution_count": 74,
      "outputs": [
        {
          "output_type": "stream",
          "name": "stderr",
          "text": [
            "/usr/local/lib/python3.10/dist-packages/torch/optim/lr_scheduler.py:62: UserWarning: The verbose parameter is deprecated. Please use get_last_lr() to access the learning rate.\n",
            "  warnings.warn(\n",
            "<ipython-input-68-6bec21f05579>:47: FutureWarning: You are using `torch.load` with `weights_only=False` (the current default value), which uses the default pickle module implicitly. It is possible to construct malicious pickle data which will execute arbitrary code during unpickling (See https://github.com/pytorch/pytorch/blob/main/SECURITY.md#untrusted-models for more details). In a future release, the default value for `weights_only` will be flipped to `True`. This limits the functions that could be executed during unpickling. Arbitrary objects will no longer be allowed to be loaded via this mode unless they are explicitly allowlisted by the user via `torch.serialization.add_safe_globals`. We recommend you start setting `weights_only=True` for any use case where you don't have full control of the loaded file. Please open an issue on GitHub for any issues related to this experimental feature.\n",
            "  model.load_state_dict(torch.load(os.path.join(config['model_save_path'],\n"
          ]
        },
        {
          "output_type": "stream",
          "name": "stdout",
          "text": [
            "Loading checkpoint\n"
          ]
        },
        {
          "output_type": "stream",
          "name": "stderr",
          "text": [
            " 33%|███▎      | 1/3 [00:01<00:02,  1.39s/it]"
          ]
        },
        {
          "output_type": "stream",
          "name": "stdout",
          "text": [
            "Max val of bneck input is 7.559404373168945, Min val of bneck input is 0.0\n",
            "Max val of bottleneck_plus_emb 19.754802703857422, Min val of bneckplusemb is -8.342988967895508\n",
            "Max val before sigmoid is 77.56551361083984, Min val before sigmoid is 0.0\n",
            "Shape of prds is torch.Size([8388608]), shape of targets is torch.Size([8388608])\n"
          ]
        },
        {
          "output_type": "stream",
          "name": "stderr",
          "text": [
            "\r 67%|██████▋   | 2/3 [00:01<00:00,  1.32it/s]"
          ]
        },
        {
          "output_type": "stream",
          "name": "stdout",
          "text": [
            "Max val of bneck input is 6.766170978546143, Min val of bneck input is 0.0\n",
            "Max val of bottleneck_plus_emb 19.78575325012207, Min val of bneckplusemb is -8.740220069885254\n",
            "Max val before sigmoid is 91.60211944580078, Min val before sigmoid is 0.0\n",
            "Shape of prds is torch.Size([8388608]), shape of targets is torch.Size([8388608])\n"
          ]
        },
        {
          "output_type": "stream",
          "name": "stderr",
          "text": [
            "100%|██████████| 3/3 [00:02<00:00,  1.49it/s]\n"
          ]
        },
        {
          "output_type": "stream",
          "name": "stdout",
          "text": [
            "Max val of bneck input is 6.244451522827148, Min val of bneck input is 0.0\n",
            "Max val of bottleneck_plus_emb 18.66618537902832, Min val of bneckplusemb is -8.939910888671875\n",
            "Max val before sigmoid is 78.60668182373047, Min val before sigmoid is 0.0\n",
            "Shape of prds is torch.Size([7602176]), shape of targets is torch.Size([7602176])\n",
            "Finished epoch: 1 | Number Loss : 0.7713\n",
            "Improved Loss to 0.7713 .... Saving Model\n"
          ]
        },
        {
          "output_type": "stream",
          "name": "stderr",
          "text": [
            " 33%|███▎      | 1/3 [00:00<00:01,  1.01it/s]"
          ]
        },
        {
          "output_type": "stream",
          "name": "stdout",
          "text": [
            "Max val of bneck input is 7.759706974029541, Min val of bneck input is 0.0\n",
            "Max val of bottleneck_plus_emb 19.87527084350586, Min val of bneckplusemb is -7.977551460266113\n",
            "Max val before sigmoid is 96.82029724121094, Min val before sigmoid is 0.0\n",
            "Shape of prds is torch.Size([8388608]), shape of targets is torch.Size([8388608])\n"
          ]
        },
        {
          "output_type": "stream",
          "name": "stderr",
          "text": [
            "\r 67%|██████▋   | 2/3 [00:01<00:00,  1.83it/s]"
          ]
        },
        {
          "output_type": "stream",
          "name": "stdout",
          "text": [
            "Max val of bneck input is 7.614490509033203, Min val of bneck input is 0.0\n",
            "Max val of bottleneck_plus_emb 19.748931884765625, Min val of bneckplusemb is -8.93425464630127\n",
            "Max val before sigmoid is 86.03348541259766, Min val before sigmoid is 0.0\n",
            "Shape of prds is torch.Size([8388608]), shape of targets is torch.Size([8388608])\n"
          ]
        },
        {
          "output_type": "stream",
          "name": "stderr",
          "text": [
            "100%|██████████| 3/3 [00:01<00:00,  2.01it/s]\n"
          ]
        },
        {
          "output_type": "stream",
          "name": "stdout",
          "text": [
            "Max val of bneck input is 6.449636936187744, Min val of bneck input is 0.0\n",
            "Max val of bottleneck_plus_emb 19.999130249023438, Min val of bneckplusemb is -8.760283470153809\n",
            "Max val before sigmoid is 89.81394958496094, Min val before sigmoid is 0.0\n",
            "Shape of prds is torch.Size([7602176]), shape of targets is torch.Size([7602176])\n",
            "Finished epoch: 2 | Number Loss : 0.7713\n",
            "Improved Loss to 0.7713 .... Saving Model\n"
          ]
        },
        {
          "output_type": "stream",
          "name": "stderr",
          "text": [
            " 33%|███▎      | 1/3 [00:00<00:01,  1.34it/s]"
          ]
        },
        {
          "output_type": "stream",
          "name": "stdout",
          "text": [
            "Max val of bneck input is 6.59019660949707, Min val of bneck input is 0.0\n",
            "Max val of bottleneck_plus_emb 19.947202682495117, Min val of bneckplusemb is -8.923640251159668\n",
            "Max val before sigmoid is 87.5542984008789, Min val before sigmoid is 0.0\n",
            "Shape of prds is torch.Size([8388608]), shape of targets is torch.Size([8388608])\n"
          ]
        },
        {
          "output_type": "stream",
          "name": "stderr",
          "text": [
            "\r 67%|██████▋   | 2/3 [00:00<00:00,  2.26it/s]"
          ]
        },
        {
          "output_type": "stream",
          "name": "stdout",
          "text": [
            "Max val of bneck input is 6.421115398406982, Min val of bneck input is 0.0\n",
            "Max val of bottleneck_plus_emb 18.25543975830078, Min val of bneckplusemb is -7.717930793762207\n",
            "Max val before sigmoid is 80.88399505615234, Min val before sigmoid is 0.0\n",
            "Shape of prds is torch.Size([8388608]), shape of targets is torch.Size([8388608])\n"
          ]
        },
        {
          "output_type": "stream",
          "name": "stderr",
          "text": [
            "100%|██████████| 3/3 [00:01<00:00,  2.40it/s]\n"
          ]
        },
        {
          "output_type": "stream",
          "name": "stdout",
          "text": [
            "Max val of bneck input is 8.206999778747559, Min val of bneck input is 0.0\n",
            "Max val of bottleneck_plus_emb 20.099925994873047, Min val of bneckplusemb is -8.395770072937012\n",
            "Max val before sigmoid is 99.91527557373047, Min val before sigmoid is 0.0\n",
            "Shape of prds is torch.Size([7602176]), shape of targets is torch.Size([7602176])\n",
            "Finished epoch: 3 | Number Loss : 0.7710\n",
            "Improved Loss to 0.7710 .... Saving Model\n"
          ]
        },
        {
          "output_type": "stream",
          "name": "stderr",
          "text": [
            " 33%|███▎      | 1/3 [00:00<00:01,  1.37it/s]"
          ]
        },
        {
          "output_type": "stream",
          "name": "stdout",
          "text": [
            "Max val of bneck input is 6.813803195953369, Min val of bneck input is 0.0\n",
            "Max val of bottleneck_plus_emb 18.78870964050293, Min val of bneckplusemb is -8.915562629699707\n",
            "Max val before sigmoid is 74.0175552368164, Min val before sigmoid is 0.0\n",
            "Shape of prds is torch.Size([8388608]), shape of targets is torch.Size([8388608])\n"
          ]
        },
        {
          "output_type": "stream",
          "name": "stderr",
          "text": [
            "\r 67%|██████▋   | 2/3 [00:00<00:00,  2.28it/s]"
          ]
        },
        {
          "output_type": "stream",
          "name": "stdout",
          "text": [
            "Max val of bneck input is 7.28712272644043, Min val of bneck input is 0.0\n",
            "Max val of bottleneck_plus_emb 19.771324157714844, Min val of bneckplusemb is -8.459546089172363\n",
            "Max val before sigmoid is 96.65693664550781, Min val before sigmoid is 0.0\n",
            "Shape of prds is torch.Size([8388608]), shape of targets is torch.Size([8388608])\n"
          ]
        },
        {
          "output_type": "stream",
          "name": "stderr",
          "text": [
            "100%|██████████| 3/3 [00:01<00:00,  2.42it/s]\n"
          ]
        },
        {
          "output_type": "stream",
          "name": "stdout",
          "text": [
            "Max val of bneck input is 7.502540111541748, Min val of bneck input is 0.0\n",
            "Max val of bottleneck_plus_emb 20.022829055786133, Min val of bneckplusemb is -8.755354881286621\n",
            "Max val before sigmoid is 84.2745132446289, Min val before sigmoid is 0.0\n",
            "Shape of prds is torch.Size([7602176]), shape of targets is torch.Size([7602176])\n",
            "Finished epoch: 4 | Number Loss : 0.7710\n",
            "Improved Loss to 0.7710 .... Saving Model\n"
          ]
        },
        {
          "output_type": "stream",
          "name": "stderr",
          "text": [
            " 33%|███▎      | 1/3 [00:00<00:01,  1.36it/s]"
          ]
        },
        {
          "output_type": "stream",
          "name": "stdout",
          "text": [
            "Max val of bneck input is 7.6039652824401855, Min val of bneck input is 0.0\n",
            "Max val of bottleneck_plus_emb 19.923267364501953, Min val of bneckplusemb is -8.759724617004395\n",
            "Max val before sigmoid is 75.0315170288086, Min val before sigmoid is 0.0\n",
            "Shape of prds is torch.Size([8388608]), shape of targets is torch.Size([8388608])\n"
          ]
        },
        {
          "output_type": "stream",
          "name": "stderr",
          "text": [
            "\r 67%|██████▋   | 2/3 [00:00<00:00,  2.28it/s]"
          ]
        },
        {
          "output_type": "stream",
          "name": "stdout",
          "text": [
            "Max val of bneck input is 7.16860818862915, Min val of bneck input is 0.0\n",
            "Max val of bottleneck_plus_emb 20.18575668334961, Min val of bneckplusemb is -8.929778099060059\n",
            "Max val before sigmoid is 96.7462387084961, Min val before sigmoid is 0.0\n",
            "Shape of prds is torch.Size([8388608]), shape of targets is torch.Size([8388608])\n"
          ]
        },
        {
          "output_type": "stream",
          "name": "stderr",
          "text": [
            "100%|██████████| 3/3 [00:01<00:00,  2.43it/s]\n"
          ]
        },
        {
          "output_type": "stream",
          "name": "stdout",
          "text": [
            "Max val of bneck input is 6.931324005126953, Min val of bneck input is 0.0\n",
            "Max val of bottleneck_plus_emb 18.174591064453125, Min val of bneckplusemb is -8.39484691619873\n",
            "Max val before sigmoid is 101.05038452148438, Min val before sigmoid is 0.0\n",
            "Shape of prds is torch.Size([7602176]), shape of targets is torch.Size([7602176])\n",
            "Finished epoch: 5 | Number Loss : 0.7708\n",
            "Improved Loss to 0.7708 .... Saving Model\n"
          ]
        },
        {
          "output_type": "stream",
          "name": "stderr",
          "text": [
            " 33%|███▎      | 1/3 [00:00<00:01,  1.38it/s]"
          ]
        },
        {
          "output_type": "stream",
          "name": "stdout",
          "text": [
            "Max val of bneck input is 8.173918724060059, Min val of bneck input is 0.0\n",
            "Max val of bottleneck_plus_emb 20.918312072753906, Min val of bneckplusemb is -8.183060646057129\n",
            "Max val before sigmoid is 88.87975311279297, Min val before sigmoid is 0.0\n",
            "Shape of prds is torch.Size([8388608]), shape of targets is torch.Size([8388608])\n"
          ]
        },
        {
          "output_type": "stream",
          "name": "stderr",
          "text": [
            "\r 67%|██████▋   | 2/3 [00:00<00:00,  2.29it/s]"
          ]
        },
        {
          "output_type": "stream",
          "name": "stdout",
          "text": [
            "Max val of bneck input is 8.2073974609375, Min val of bneck input is 0.0\n",
            "Max val of bottleneck_plus_emb 18.478897094726562, Min val of bneckplusemb is -7.958974838256836\n",
            "Max val before sigmoid is 97.8445816040039, Min val before sigmoid is 0.0\n",
            "Shape of prds is torch.Size([8388608]), shape of targets is torch.Size([8388608])\n"
          ]
        },
        {
          "output_type": "stream",
          "name": "stderr",
          "text": [
            "100%|██████████| 3/3 [00:01<00:00,  2.44it/s]\n"
          ]
        },
        {
          "output_type": "stream",
          "name": "stdout",
          "text": [
            "Max val of bneck input is 6.508488655090332, Min val of bneck input is 0.0\n",
            "Max val of bottleneck_plus_emb 19.834367752075195, Min val of bneckplusemb is -8.9198579788208\n",
            "Max val before sigmoid is 89.27914428710938, Min val before sigmoid is 0.0\n",
            "Shape of prds is torch.Size([7602176]), shape of targets is torch.Size([7602176])\n",
            "Finished epoch: 6 | Number Loss : 0.7706\n",
            "Improved Loss to 0.7706 .... Saving Model\n"
          ]
        },
        {
          "output_type": "stream",
          "name": "stderr",
          "text": [
            " 33%|███▎      | 1/3 [00:00<00:01,  1.36it/s]"
          ]
        },
        {
          "output_type": "stream",
          "name": "stdout",
          "text": [
            "Max val of bneck input is 7.661635875701904, Min val of bneck input is 0.0\n",
            "Max val of bottleneck_plus_emb 20.3365421295166, Min val of bneckplusemb is -8.915587425231934\n",
            "Max val before sigmoid is 68.87760162353516, Min val before sigmoid is 0.0\n",
            "Shape of prds is torch.Size([8388608]), shape of targets is torch.Size([8388608])\n"
          ]
        },
        {
          "output_type": "stream",
          "name": "stderr",
          "text": [
            "\r 67%|██████▋   | 2/3 [00:00<00:00,  2.25it/s]"
          ]
        },
        {
          "output_type": "stream",
          "name": "stdout",
          "text": [
            "Max val of bneck input is 7.354567050933838, Min val of bneck input is 0.0\n",
            "Max val of bottleneck_plus_emb 19.704511642456055, Min val of bneckplusemb is -8.51241683959961\n",
            "Max val before sigmoid is 98.49928283691406, Min val before sigmoid is 0.0\n",
            "Shape of prds is torch.Size([8388608]), shape of targets is torch.Size([8388608])\n"
          ]
        },
        {
          "output_type": "stream",
          "name": "stderr",
          "text": [
            "100%|██████████| 3/3 [00:01<00:00,  2.41it/s]\n"
          ]
        },
        {
          "output_type": "stream",
          "name": "stdout",
          "text": [
            "Max val of bneck input is 7.162472724914551, Min val of bneck input is 0.0\n",
            "Max val of bottleneck_plus_emb 19.885494232177734, Min val of bneckplusemb is -8.741643905639648\n",
            "Max val before sigmoid is 101.1452407836914, Min val before sigmoid is 0.0\n",
            "Shape of prds is torch.Size([7602176]), shape of targets is torch.Size([7602176])\n",
            "Finished epoch: 7 | Number Loss : 0.7705\n",
            "Improved Loss to 0.7705 .... Saving Model\n"
          ]
        },
        {
          "output_type": "stream",
          "name": "stderr",
          "text": [
            " 33%|███▎      | 1/3 [00:00<00:01,  1.30it/s]"
          ]
        },
        {
          "output_type": "stream",
          "name": "stdout",
          "text": [
            "Max val of bneck input is 7.630255699157715, Min val of bneck input is 0.0\n",
            "Max val of bottleneck_plus_emb 20.81464385986328, Min val of bneckplusemb is -8.372220039367676\n",
            "Max val before sigmoid is 103.70345306396484, Min val before sigmoid is 0.0\n",
            "Shape of prds is torch.Size([8388608]), shape of targets is torch.Size([8388608])\n"
          ]
        },
        {
          "output_type": "stream",
          "name": "stderr",
          "text": [
            "\r 67%|██████▋   | 2/3 [00:01<00:00,  2.21it/s]"
          ]
        },
        {
          "output_type": "stream",
          "name": "stdout",
          "text": [
            "Max val of bneck input is 6.18226432800293, Min val of bneck input is 0.0\n",
            "Max val of bottleneck_plus_emb 18.971294403076172, Min val of bneckplusemb is -8.904208183288574\n",
            "Max val before sigmoid is 98.01409149169922, Min val before sigmoid is 0.0\n",
            "Shape of prds is torch.Size([8388608]), shape of targets is torch.Size([8388608])\n"
          ]
        },
        {
          "output_type": "stream",
          "name": "stderr",
          "text": [
            "100%|██████████| 3/3 [00:01<00:00,  2.36it/s]\n"
          ]
        },
        {
          "output_type": "stream",
          "name": "stdout",
          "text": [
            "Max val of bneck input is 7.652320861816406, Min val of bneck input is 0.0\n",
            "Max val of bottleneck_plus_emb 19.85309600830078, Min val of bneckplusemb is -8.737142562866211\n",
            "Max val before sigmoid is 80.20944213867188, Min val before sigmoid is 0.0\n",
            "Shape of prds is torch.Size([7602176]), shape of targets is torch.Size([7602176])\n",
            "Finished epoch: 8 | Number Loss : 0.7703\n",
            "Improved Loss to 0.7703 .... Saving Model\n"
          ]
        },
        {
          "output_type": "stream",
          "name": "stderr",
          "text": [
            " 33%|███▎      | 1/3 [00:00<00:01,  1.38it/s]"
          ]
        },
        {
          "output_type": "stream",
          "name": "stdout",
          "text": [
            "Max val of bneck input is 7.206722259521484, Min val of bneck input is 0.0\n",
            "Max val of bottleneck_plus_emb 19.714378356933594, Min val of bneckplusemb is -8.370229721069336\n",
            "Max val before sigmoid is 82.46794891357422, Min val before sigmoid is 0.0\n",
            "Shape of prds is torch.Size([8388608]), shape of targets is torch.Size([8388608])\n"
          ]
        },
        {
          "output_type": "stream",
          "name": "stderr",
          "text": [
            "\r 67%|██████▋   | 2/3 [00:00<00:00,  2.27it/s]"
          ]
        },
        {
          "output_type": "stream",
          "name": "stdout",
          "text": [
            "Max val of bneck input is 7.522148132324219, Min val of bneck input is 0.0\n",
            "Max val of bottleneck_plus_emb 20.368728637695312, Min val of bneckplusemb is -7.807212829589844\n",
            "Max val before sigmoid is 98.44548797607422, Min val before sigmoid is 0.0\n",
            "Shape of prds is torch.Size([8388608]), shape of targets is torch.Size([8388608])\n"
          ]
        },
        {
          "output_type": "stream",
          "name": "stderr",
          "text": [
            "100%|██████████| 3/3 [00:01<00:00,  2.36it/s]\n"
          ]
        },
        {
          "output_type": "stream",
          "name": "stdout",
          "text": [
            "Max val of bneck input is 7.35026741027832, Min val of bneck input is 0.0\n",
            "Max val of bottleneck_plus_emb 20.03959083557129, Min val of bneckplusemb is -8.903645515441895\n",
            "Max val before sigmoid is 100.29498291015625, Min val before sigmoid is 0.0\n",
            "Shape of prds is torch.Size([7602176]), shape of targets is torch.Size([7602176])\n",
            "Finished epoch: 9 | Number Loss : 0.7701\n",
            "Improved Loss to 0.7701 .... Saving Model\n"
          ]
        },
        {
          "output_type": "stream",
          "name": "stderr",
          "text": [
            " 33%|███▎      | 1/3 [00:01<00:02,  1.15s/it]"
          ]
        },
        {
          "output_type": "stream",
          "name": "stdout",
          "text": [
            "Max val of bneck input is 7.512928009033203, Min val of bneck input is 0.0\n",
            "Max val of bottleneck_plus_emb 18.22403335571289, Min val of bneckplusemb is -7.706435680389404\n",
            "Max val before sigmoid is 80.20502471923828, Min val before sigmoid is 0.0\n",
            "Shape of prds is torch.Size([8388608]), shape of targets is torch.Size([8388608])\n"
          ]
        },
        {
          "output_type": "stream",
          "name": "stderr",
          "text": [
            "\r 67%|██████▋   | 2/3 [00:01<00:00,  1.62it/s]"
          ]
        },
        {
          "output_type": "stream",
          "name": "stdout",
          "text": [
            "Max val of bneck input is 7.002064228057861, Min val of bneck input is 0.0\n",
            "Max val of bottleneck_plus_emb 19.72681427001953, Min val of bneckplusemb is -8.901848793029785\n",
            "Max val before sigmoid is 73.72016143798828, Min val before sigmoid is 0.0\n",
            "Shape of prds is torch.Size([8388608]), shape of targets is torch.Size([8388608])\n"
          ]
        },
        {
          "output_type": "stream",
          "name": "stderr",
          "text": [
            "100%|██████████| 3/3 [00:01<00:00,  1.76it/s]\n"
          ]
        },
        {
          "output_type": "stream",
          "name": "stdout",
          "text": [
            "Max val of bneck input is 8.530037879943848, Min val of bneck input is 0.0\n",
            "Max val of bottleneck_plus_emb 21.076295852661133, Min val of bneckplusemb is -8.733691215515137\n",
            "Max val before sigmoid is 115.11695098876953, Min val before sigmoid is 0.0\n",
            "Shape of prds is torch.Size([7602176]), shape of targets is torch.Size([7602176])\n",
            "Finished epoch: 10 | Number Loss : 0.7701\n",
            "Improved Loss to 0.7701 .... Saving Model\n"
          ]
        },
        {
          "output_type": "stream",
          "name": "stderr",
          "text": [
            " 33%|███▎      | 1/3 [00:01<00:02,  1.31s/it]"
          ]
        },
        {
          "output_type": "stream",
          "name": "stdout",
          "text": [
            "Max val of bneck input is 7.817966938018799, Min val of bneck input is 0.0\n",
            "Max val of bottleneck_plus_emb 19.96563148498535, Min val of bneckplusemb is -8.731568336486816\n",
            "Max val before sigmoid is 75.84864044189453, Min val before sigmoid is 0.0\n",
            "Shape of prds is torch.Size([8388608]), shape of targets is torch.Size([8388608])\n"
          ]
        },
        {
          "output_type": "stream",
          "name": "stderr",
          "text": [
            "\r 67%|██████▋   | 2/3 [00:01<00:00,  1.40it/s]"
          ]
        },
        {
          "output_type": "stream",
          "name": "stdout",
          "text": [
            "Max val of bneck input is 8.662152290344238, Min val of bneck input is 0.0\n",
            "Max val of bottleneck_plus_emb 21.028179168701172, Min val of bneckplusemb is -8.895484924316406\n",
            "Max val before sigmoid is 85.562744140625, Min val before sigmoid is 0.0\n",
            "Shape of prds is torch.Size([8388608]), shape of targets is torch.Size([8388608])\n"
          ]
        },
        {
          "output_type": "stream",
          "name": "stderr",
          "text": [
            "100%|██████████| 3/3 [00:01<00:00,  1.55it/s]\n"
          ]
        },
        {
          "output_type": "stream",
          "name": "stdout",
          "text": [
            "Max val of bneck input is 7.142810821533203, Min val of bneck input is 0.0\n",
            "Max val of bottleneck_plus_emb 18.467758178710938, Min val of bneckplusemb is -8.360965728759766\n",
            "Max val before sigmoid is 106.4800796508789, Min val before sigmoid is 0.0\n",
            "Shape of prds is torch.Size([7602176]), shape of targets is torch.Size([7602176])\n",
            "Finished epoch: 11 | Number Loss : 0.7700\n",
            "Improved Loss to 0.7700 .... Saving Model\n"
          ]
        },
        {
          "output_type": "stream",
          "name": "stderr",
          "text": [
            " 33%|███▎      | 1/3 [00:00<00:01,  1.40it/s]"
          ]
        },
        {
          "output_type": "stream",
          "name": "stdout",
          "text": [
            "Max val of bneck input is 8.33547306060791, Min val of bneck input is 0.0\n",
            "Max val of bottleneck_plus_emb 21.079700469970703, Min val of bneckplusemb is -7.796202182769775\n",
            "Max val before sigmoid is 93.05901336669922, Min val before sigmoid is 0.0\n",
            "Shape of prds is torch.Size([8388608]), shape of targets is torch.Size([8388608])\n"
          ]
        },
        {
          "output_type": "stream",
          "name": "stderr",
          "text": [
            "\r 67%|██████▋   | 2/3 [00:00<00:00,  2.31it/s]"
          ]
        },
        {
          "output_type": "stream",
          "name": "stdout",
          "text": [
            "Max val of bneck input is 6.845251560211182, Min val of bneck input is 0.0\n",
            "Max val of bottleneck_plus_emb 19.35139274597168, Min val of bneckplusemb is -7.927707195281982\n",
            "Max val before sigmoid is 103.41259002685547, Min val before sigmoid is 0.0\n",
            "Shape of prds is torch.Size([8388608]), shape of targets is torch.Size([8388608])\n"
          ]
        },
        {
          "output_type": "stream",
          "name": "stderr",
          "text": [
            "100%|██████████| 3/3 [00:01<00:00,  2.46it/s]\n"
          ]
        },
        {
          "output_type": "stream",
          "name": "stdout",
          "text": [
            "Max val of bneck input is 6.998587131500244, Min val of bneck input is 0.0\n",
            "Max val of bottleneck_plus_emb 19.80305290222168, Min val of bneckplusemb is -8.887316703796387\n",
            "Max val before sigmoid is 87.39009094238281, Min val before sigmoid is 0.0\n",
            "Shape of prds is torch.Size([7602176]), shape of targets is torch.Size([7602176])\n",
            "Finished epoch: 12 | Number Loss : 0.7698\n",
            "Improved Loss to 0.7698 .... Saving Model\n"
          ]
        },
        {
          "output_type": "stream",
          "name": "stderr",
          "text": [
            " 33%|███▎      | 1/3 [00:00<00:01,  1.44it/s]"
          ]
        },
        {
          "output_type": "stream",
          "name": "stdout",
          "text": [
            "Max val of bneck input is 8.928197860717773, Min val of bneck input is 0.0\n",
            "Max val of bottleneck_plus_emb 19.77660369873047, Min val of bneckplusemb is -8.371891021728516\n",
            "Max val before sigmoid is 79.13264465332031, Min val before sigmoid is 0.0\n",
            "Shape of prds is torch.Size([8388608]), shape of targets is torch.Size([8388608])\n"
          ]
        },
        {
          "output_type": "stream",
          "name": "stderr",
          "text": [
            "\r 67%|██████▋   | 2/3 [00:00<00:00,  2.34it/s]"
          ]
        },
        {
          "output_type": "stream",
          "name": "stdout",
          "text": [
            "Max val of bneck input is 7.1550211906433105, Min val of bneck input is 0.0\n",
            "Max val of bottleneck_plus_emb 20.196861267089844, Min val of bneckplusemb is -8.883784294128418\n",
            "Max val before sigmoid is 88.95738983154297, Min val before sigmoid is 0.0\n",
            "Shape of prds is torch.Size([8388608]), shape of targets is torch.Size([8388608])\n"
          ]
        },
        {
          "output_type": "stream",
          "name": "stderr",
          "text": [
            "100%|██████████| 3/3 [00:01<00:00,  2.50it/s]\n"
          ]
        },
        {
          "output_type": "stream",
          "name": "stdout",
          "text": [
            "Max val of bneck input is 7.743526458740234, Min val of bneck input is 0.0\n",
            "Max val of bottleneck_plus_emb 18.575374603271484, Min val of bneckplusemb is -8.350688934326172\n",
            "Max val before sigmoid is 99.96235656738281, Min val before sigmoid is 0.0\n",
            "Shape of prds is torch.Size([7602176]), shape of targets is torch.Size([7602176])\n",
            "Finished epoch: 13 | Number Loss : 0.7697\n",
            "Improved Loss to 0.7697 .... Saving Model\n"
          ]
        },
        {
          "output_type": "stream",
          "name": "stderr",
          "text": [
            " 33%|███▎      | 1/3 [00:00<00:01,  1.40it/s]"
          ]
        },
        {
          "output_type": "stream",
          "name": "stdout",
          "text": [
            "Max val of bneck input is 7.25261926651001, Min val of bneck input is 0.0\n",
            "Max val of bottleneck_plus_emb 20.77623176574707, Min val of bneckplusemb is -8.349422454833984\n",
            "Max val before sigmoid is 80.40455627441406, Min val before sigmoid is 0.0\n",
            "Shape of prds is torch.Size([8388608]), shape of targets is torch.Size([8388608])\n"
          ]
        },
        {
          "output_type": "stream",
          "name": "stderr",
          "text": [
            "\r 67%|██████▋   | 2/3 [00:00<00:00,  2.32it/s]"
          ]
        },
        {
          "output_type": "stream",
          "name": "stdout",
          "text": [
            "Max val of bneck input is 7.781128883361816, Min val of bneck input is 0.0\n",
            "Max val of bottleneck_plus_emb 19.707483291625977, Min val of bneckplusemb is -8.71418571472168\n",
            "Max val before sigmoid is 91.1966323852539, Min val before sigmoid is 0.0\n",
            "Shape of prds is torch.Size([8388608]), shape of targets is torch.Size([8388608])\n"
          ]
        },
        {
          "output_type": "stream",
          "name": "stderr",
          "text": [
            "100%|██████████| 3/3 [00:01<00:00,  2.47it/s]\n"
          ]
        },
        {
          "output_type": "stream",
          "name": "stdout",
          "text": [
            "Max val of bneck input is 8.87692928314209, Min val of bneck input is 0.0\n",
            "Max val of bottleneck_plus_emb 19.06068992614746, Min val of bneckplusemb is -8.878669738769531\n",
            "Max val before sigmoid is 104.46672058105469, Min val before sigmoid is 0.0\n",
            "Shape of prds is torch.Size([7602176]), shape of targets is torch.Size([7602176])\n",
            "Finished epoch: 14 | Number Loss : 0.7696\n",
            "Improved Loss to 0.7696 .... Saving Model\n"
          ]
        },
        {
          "output_type": "stream",
          "name": "stderr",
          "text": [
            " 33%|███▎      | 1/3 [00:00<00:01,  1.33it/s]"
          ]
        },
        {
          "output_type": "stream",
          "name": "stdout",
          "text": [
            "Max val of bneck input is 8.069480895996094, Min val of bneck input is 0.0\n",
            "Max val of bottleneck_plus_emb 19.99816131591797, Min val of bneckplusemb is -8.877432823181152\n",
            "Max val before sigmoid is 89.66897583007812, Min val before sigmoid is 0.0\n",
            "Shape of prds is torch.Size([8388608]), shape of targets is torch.Size([8388608])\n"
          ]
        },
        {
          "output_type": "stream",
          "name": "stderr",
          "text": [
            "\r 67%|██████▋   | 2/3 [00:00<00:00,  2.23it/s]"
          ]
        },
        {
          "output_type": "stream",
          "name": "stdout",
          "text": [
            "Max val of bneck input is 7.381848335266113, Min val of bneck input is 0.0\n",
            "Max val of bottleneck_plus_emb 18.852684020996094, Min val of bneckplusemb is -7.7711944580078125\n",
            "Max val before sigmoid is 100.4509048461914, Min val before sigmoid is 0.0\n",
            "Shape of prds is torch.Size([8388608]), shape of targets is torch.Size([8388608])\n"
          ]
        },
        {
          "output_type": "stream",
          "name": "stderr",
          "text": [
            "100%|██████████| 3/3 [00:01<00:00,  2.36it/s]\n"
          ]
        },
        {
          "output_type": "stream",
          "name": "stdout",
          "text": [
            "Max val of bneck input is 7.691039562225342, Min val of bneck input is 0.0\n",
            "Max val of bottleneck_plus_emb 21.617019653320312, Min val of bneckplusemb is -8.343779563903809\n",
            "Max val before sigmoid is 81.99748229980469, Min val before sigmoid is 0.0\n",
            "Shape of prds is torch.Size([7602176]), shape of targets is torch.Size([7602176])\n",
            "Finished epoch: 15 | Number Loss : 0.7694\n",
            "Improved Loss to 0.7694 .... Saving Model\n"
          ]
        },
        {
          "output_type": "stream",
          "name": "stderr",
          "text": [
            " 33%|███▎      | 1/3 [00:00<00:01,  1.40it/s]"
          ]
        },
        {
          "output_type": "stream",
          "name": "stdout",
          "text": [
            "Max val of bneck input is 7.529837131500244, Min val of bneck input is 0.0\n",
            "Max val of bottleneck_plus_emb 21.04238510131836, Min val of bneckplusemb is -8.872963905334473\n",
            "Max val before sigmoid is 75.12290954589844, Min val before sigmoid is 0.0\n",
            "Shape of prds is torch.Size([8388608]), shape of targets is torch.Size([8388608])\n"
          ]
        },
        {
          "output_type": "stream",
          "name": "stderr",
          "text": [
            "\r 67%|██████▋   | 2/3 [00:00<00:00,  2.30it/s]"
          ]
        },
        {
          "output_type": "stream",
          "name": "stdout",
          "text": [
            "Max val of bneck input is 8.556708335876465, Min val of bneck input is 0.0\n",
            "Max val of bottleneck_plus_emb 19.903745651245117, Min val of bneckplusemb is -8.705718994140625\n",
            "Max val before sigmoid is 96.08779907226562, Min val before sigmoid is 0.0\n",
            "Shape of prds is torch.Size([8388608]), shape of targets is torch.Size([8388608])\n"
          ]
        },
        {
          "output_type": "stream",
          "name": "stderr",
          "text": [
            "100%|██████████| 3/3 [00:01<00:00,  2.46it/s]\n"
          ]
        },
        {
          "output_type": "stream",
          "name": "stdout",
          "text": [
            "Max val of bneck input is 8.103472709655762, Min val of bneck input is 0.0\n",
            "Max val of bottleneck_plus_emb 18.701950073242188, Min val of bneckplusemb is -8.338868141174316\n",
            "Max val before sigmoid is 94.34982299804688, Min val before sigmoid is 0.0\n",
            "Shape of prds is torch.Size([7602176]), shape of targets is torch.Size([7602176])\n",
            "Finished epoch: 16 | Number Loss : 0.7694\n",
            "Improved Loss to 0.7694 .... Saving Model\n"
          ]
        },
        {
          "output_type": "stream",
          "name": "stderr",
          "text": [
            " 33%|███▎      | 1/3 [00:00<00:01,  1.37it/s]"
          ]
        },
        {
          "output_type": "stream",
          "name": "stdout",
          "text": [
            "Max val of bneck input is 7.93100118637085, Min val of bneck input is 0.0\n",
            "Max val of bottleneck_plus_emb 21.20760154724121, Min val of bneckplusemb is -8.702014923095703\n",
            "Max val before sigmoid is 93.04014587402344, Min val before sigmoid is 0.0\n",
            "Shape of prds is torch.Size([8388608]), shape of targets is torch.Size([8388608])\n"
          ]
        },
        {
          "output_type": "stream",
          "name": "stderr",
          "text": [
            "\r 67%|██████▋   | 2/3 [00:00<00:00,  2.29it/s]"
          ]
        },
        {
          "output_type": "stream",
          "name": "stdout",
          "text": [
            "Max val of bneck input is 7.966221332550049, Min val of bneck input is 0.0\n",
            "Max val of bottleneck_plus_emb 19.776695251464844, Min val of bneckplusemb is -8.865549087524414\n",
            "Max val before sigmoid is 96.65512084960938, Min val before sigmoid is 0.0\n",
            "Shape of prds is torch.Size([8388608]), shape of targets is torch.Size([8388608])\n"
          ]
        },
        {
          "output_type": "stream",
          "name": "stderr",
          "text": [
            "100%|██████████| 3/3 [00:01<00:00,  2.44it/s]\n"
          ]
        },
        {
          "output_type": "stream",
          "name": "stdout",
          "text": [
            "Max val of bneck input is 7.717465400695801, Min val of bneck input is 0.0\n",
            "Max val of bottleneck_plus_emb 19.003265380859375, Min val of bneckplusemb is -7.850162506103516\n",
            "Max val before sigmoid is 86.48621368408203, Min val before sigmoid is 0.0\n",
            "Shape of prds is torch.Size([7602176]), shape of targets is torch.Size([7602176])\n",
            "Finished epoch: 17 | Number Loss : 0.7693\n",
            "Improved Loss to 0.7693 .... Saving Model\n"
          ]
        },
        {
          "output_type": "stream",
          "name": "stderr",
          "text": [
            " 33%|███▎      | 1/3 [00:00<00:01,  1.38it/s]"
          ]
        },
        {
          "output_type": "stream",
          "name": "stdout",
          "text": [
            "Max val of bneck input is 8.021305084228516, Min val of bneck input is 0.0\n",
            "Max val of bottleneck_plus_emb 19.80692481994629, Min val of bneckplusemb is -8.407583236694336\n",
            "Max val before sigmoid is 106.57852935791016, Min val before sigmoid is 0.0\n",
            "Shape of prds is torch.Size([8388608]), shape of targets is torch.Size([8388608])\n"
          ]
        },
        {
          "output_type": "stream",
          "name": "stderr",
          "text": [
            "\r 67%|██████▋   | 2/3 [00:00<00:00,  2.29it/s]"
          ]
        },
        {
          "output_type": "stream",
          "name": "stdout",
          "text": [
            "Max val of bneck input is 8.582825660705566, Min val of bneck input is 0.0\n",
            "Max val of bottleneck_plus_emb 21.359390258789062, Min val of bneckplusemb is -8.694823265075684\n",
            "Max val before sigmoid is 77.48546600341797, Min val before sigmoid is 0.0\n",
            "Shape of prds is torch.Size([8388608]), shape of targets is torch.Size([8388608])\n"
          ]
        },
        {
          "output_type": "stream",
          "name": "stderr",
          "text": [
            "100%|██████████| 3/3 [00:01<00:00,  2.42it/s]\n"
          ]
        },
        {
          "output_type": "stream",
          "name": "stdout",
          "text": [
            "Max val of bneck input is 7.918615818023682, Min val of bneck input is 0.0\n",
            "Max val of bottleneck_plus_emb 19.75154685974121, Min val of bneckplusemb is -8.858830451965332\n",
            "Max val before sigmoid is 88.57630920410156, Min val before sigmoid is 0.0\n",
            "Shape of prds is torch.Size([7602176]), shape of targets is torch.Size([7602176])\n",
            "Finished epoch: 18 | Number Loss : 0.7691\n",
            "Improved Loss to 0.7691 .... Saving Model\n"
          ]
        },
        {
          "output_type": "stream",
          "name": "stderr",
          "text": [
            " 33%|███▎      | 1/3 [00:00<00:01,  1.39it/s]"
          ]
        },
        {
          "output_type": "stream",
          "name": "stdout",
          "text": [
            "Max val of bneck input is 8.126537322998047, Min val of bneck input is 0.0\n",
            "Max val of bottleneck_plus_emb 19.322546005249023, Min val of bneckplusemb is -8.118621826171875\n",
            "Max val before sigmoid is 83.78394317626953, Min val before sigmoid is 0.0\n",
            "Shape of prds is torch.Size([8388608]), shape of targets is torch.Size([8388608])\n"
          ]
        },
        {
          "output_type": "stream",
          "name": "stderr",
          "text": [
            "\r 67%|██████▋   | 2/3 [00:00<00:00,  2.25it/s]"
          ]
        },
        {
          "output_type": "stream",
          "name": "stdout",
          "text": [
            "Max val of bneck input is 8.985832214355469, Min val of bneck input is 0.0\n",
            "Max val of bottleneck_plus_emb 19.12051773071289, Min val of bneckplusemb is -8.856159210205078\n",
            "Max val before sigmoid is 97.07512664794922, Min val before sigmoid is 0.0\n",
            "Shape of prds is torch.Size([8388608]), shape of targets is torch.Size([8388608])\n"
          ]
        },
        {
          "output_type": "stream",
          "name": "stderr",
          "text": [
            "100%|██████████| 3/3 [00:01<00:00,  2.36it/s]\n"
          ]
        },
        {
          "output_type": "stream",
          "name": "stdout",
          "text": [
            "Max val of bneck input is 7.469837665557861, Min val of bneck input is 0.0\n",
            "Max val of bottleneck_plus_emb 20.95085334777832, Min val of bneckplusemb is -8.689372062683105\n",
            "Max val before sigmoid is 112.59066009521484, Min val before sigmoid is 0.0\n",
            "Shape of prds is torch.Size([7602176]), shape of targets is torch.Size([7602176])\n",
            "Finished epoch: 19 | Number Loss : 0.7690\n",
            "Improved Loss to 0.7690 .... Saving Model\n"
          ]
        },
        {
          "output_type": "stream",
          "name": "stderr",
          "text": [
            " 33%|███▎      | 1/3 [00:01<00:02,  1.19s/it]"
          ]
        },
        {
          "output_type": "stream",
          "name": "stdout",
          "text": [
            "Max val of bneck input is 8.41476821899414, Min val of bneck input is 0.0\n",
            "Max val of bottleneck_plus_emb 19.85761070251465, Min val of bneckplusemb is -8.271129608154297\n",
            "Max val before sigmoid is 79.13862609863281, Min val before sigmoid is 0.0\n",
            "Shape of prds is torch.Size([8388608]), shape of targets is torch.Size([8388608])\n"
          ]
        },
        {
          "output_type": "stream",
          "name": "stderr",
          "text": [
            "\r 67%|██████▋   | 2/3 [00:01<00:00,  1.57it/s]"
          ]
        },
        {
          "output_type": "stream",
          "name": "stdout",
          "text": [
            "Max val of bneck input is 8.142821311950684, Min val of bneck input is 0.0\n",
            "Max val of bottleneck_plus_emb 20.145139694213867, Min val of bneckplusemb is -8.852267265319824\n",
            "Max val before sigmoid is 99.8897705078125, Min val before sigmoid is 0.0\n",
            "Shape of prds is torch.Size([8388608]), shape of targets is torch.Size([8388608])\n"
          ]
        },
        {
          "output_type": "stream",
          "name": "stderr",
          "text": [
            "100%|██████████| 3/3 [00:01<00:00,  1.72it/s]\n"
          ]
        },
        {
          "output_type": "stream",
          "name": "stdout",
          "text": [
            "Max val of bneck input is 7.3893280029296875, Min val of bneck input is 0.0\n",
            "Max val of bottleneck_plus_emb 21.63270378112793, Min val of bneckplusemb is -8.321540832519531\n",
            "Max val before sigmoid is 91.52799224853516, Min val before sigmoid is 0.0\n",
            "Shape of prds is torch.Size([7602176]), shape of targets is torch.Size([7602176])\n",
            "Finished epoch: 20 | Number Loss : 0.7689\n",
            "Improved Loss to 0.7689 .... Saving Model\n"
          ]
        },
        {
          "output_type": "stream",
          "name": "stderr",
          "text": [
            " 33%|███▎      | 1/3 [00:01<00:02,  1.16s/it]"
          ]
        },
        {
          "output_type": "stream",
          "name": "stdout",
          "text": [
            "Max val of bneck input is 7.698286056518555, Min val of bneck input is 0.0\n",
            "Max val of bottleneck_plus_emb 19.73627281188965, Min val of bneckplusemb is -8.84913158416748\n",
            "Max val before sigmoid is 88.03572845458984, Min val before sigmoid is 0.0\n",
            "Shape of prds is torch.Size([8388608]), shape of targets is torch.Size([8388608])\n"
          ]
        },
        {
          "output_type": "stream",
          "name": "stderr",
          "text": [
            "\r 67%|██████▋   | 2/3 [00:01<00:00,  1.64it/s]"
          ]
        },
        {
          "output_type": "stream",
          "name": "stdout",
          "text": [
            "Max val of bneck input is 9.513724327087402, Min val of bneck input is 0.0\n",
            "Max val of bottleneck_plus_emb 20.043445587158203, Min val of bneckplusemb is -8.318390846252441\n",
            "Max val before sigmoid is 112.70726776123047, Min val before sigmoid is 0.0\n",
            "Shape of prds is torch.Size([8388608]), shape of targets is torch.Size([8388608])\n"
          ]
        },
        {
          "output_type": "stream",
          "name": "stderr",
          "text": [
            "100%|██████████| 3/3 [00:01<00:00,  1.82it/s]\n"
          ]
        },
        {
          "output_type": "stream",
          "name": "stdout",
          "text": [
            "Max val of bneck input is 8.855259895324707, Min val of bneck input is 0.0\n",
            "Max val of bottleneck_plus_emb 21.625864028930664, Min val of bneckplusemb is -8.679903984069824\n",
            "Max val before sigmoid is 76.07520294189453, Min val before sigmoid is 0.0\n",
            "Shape of prds is torch.Size([7602176]), shape of targets is torch.Size([7602176])\n",
            "Finished epoch: 21 | Number Loss : 0.7689\n",
            "Improved Loss to 0.7689 .... Saving Model\n"
          ]
        },
        {
          "output_type": "stream",
          "name": "stderr",
          "text": [
            " 33%|███▎      | 1/3 [00:00<00:01,  1.33it/s]"
          ]
        },
        {
          "output_type": "stream",
          "name": "stdout",
          "text": [
            "Max val of bneck input is 7.809908866882324, Min val of bneck input is 0.0\n",
            "Max val of bottleneck_plus_emb 21.504165649414062, Min val of bneckplusemb is -7.746559143066406\n",
            "Max val before sigmoid is 94.96266174316406, Min val before sigmoid is 0.0\n",
            "Shape of prds is torch.Size([8388608]), shape of targets is torch.Size([8388608])\n"
          ]
        },
        {
          "output_type": "stream",
          "name": "stderr",
          "text": [
            "\r 67%|██████▋   | 2/3 [00:00<00:00,  2.23it/s]"
          ]
        },
        {
          "output_type": "stream",
          "name": "stdout",
          "text": [
            "Max val of bneck input is 8.528033256530762, Min val of bneck input is 0.0\n",
            "Max val of bottleneck_plus_emb 19.76201629638672, Min val of bneckplusemb is -8.313497543334961\n",
            "Max val before sigmoid is 104.9676513671875, Min val before sigmoid is 0.0\n",
            "Shape of prds is torch.Size([8388608]), shape of targets is torch.Size([8388608])\n"
          ]
        },
        {
          "output_type": "stream",
          "name": "stderr",
          "text": [
            "100%|██████████| 3/3 [00:01<00:00,  2.38it/s]\n"
          ]
        },
        {
          "output_type": "stream",
          "name": "stdout",
          "text": [
            "Max val of bneck input is 8.45201301574707, Min val of bneck input is 0.0\n",
            "Max val of bottleneck_plus_emb 19.81257438659668, Min val of bneckplusemb is -8.840693473815918\n",
            "Max val before sigmoid is 87.1111068725586, Min val before sigmoid is 0.0\n",
            "Shape of prds is torch.Size([7602176]), shape of targets is torch.Size([7602176])\n",
            "Finished epoch: 22 | Number Loss : 0.7687\n",
            "Improved Loss to 0.7687 .... Saving Model\n"
          ]
        },
        {
          "output_type": "stream",
          "name": "stderr",
          "text": [
            " 33%|███▎      | 1/3 [00:00<00:01,  1.39it/s]"
          ]
        },
        {
          "output_type": "stream",
          "name": "stdout",
          "text": [
            "Max val of bneck input is 7.647324085235596, Min val of bneck input is 0.0\n",
            "Max val of bottleneck_plus_emb 21.276479721069336, Min val of bneckplusemb is -8.673383712768555\n",
            "Max val before sigmoid is 90.85354614257812, Min val before sigmoid is 0.0\n",
            "Shape of prds is torch.Size([8388608]), shape of targets is torch.Size([8388608])\n"
          ]
        },
        {
          "output_type": "stream",
          "name": "stderr",
          "text": [
            "\r 67%|██████▋   | 2/3 [00:00<00:00,  2.31it/s]"
          ]
        },
        {
          "output_type": "stream",
          "name": "stdout",
          "text": [
            "Max val of bneck input is 7.669095516204834, Min val of bneck input is 0.0\n",
            "Max val of bottleneck_plus_emb 19.694978713989258, Min val of bneckplusemb is -8.837889671325684\n",
            "Max val before sigmoid is 102.15538024902344, Min val before sigmoid is 0.0\n",
            "Shape of prds is torch.Size([8388608]), shape of targets is torch.Size([8388608])\n"
          ]
        },
        {
          "output_type": "stream",
          "name": "stderr",
          "text": [
            "100%|██████████| 3/3 [00:01<00:00,  2.45it/s]\n"
          ]
        },
        {
          "output_type": "stream",
          "name": "stdout",
          "text": [
            "Max val of bneck input is 9.378728866577148, Min val of bneck input is 0.0\n",
            "Max val of bottleneck_plus_emb 20.810197830200195, Min val of bneckplusemb is -7.662601947784424\n",
            "Max val before sigmoid is 80.78130340576172, Min val before sigmoid is 0.0\n",
            "Shape of prds is torch.Size([7602176]), shape of targets is torch.Size([7602176])\n",
            "Finished epoch: 23 | Number Loss : 0.7687\n",
            "Improved Loss to 0.7687 .... Saving Model\n"
          ]
        },
        {
          "output_type": "stream",
          "name": "stderr",
          "text": [
            " 33%|███▎      | 1/3 [00:00<00:01,  1.38it/s]"
          ]
        },
        {
          "output_type": "stream",
          "name": "stdout",
          "text": [
            "Max val of bneck input is 9.178352355957031, Min val of bneck input is 0.0\n",
            "Max val of bottleneck_plus_emb 20.07077407836914, Min val of bneckplusemb is -8.83510971069336\n",
            "Max val before sigmoid is 94.42711639404297, Min val before sigmoid is 0.0\n",
            "Shape of prds is torch.Size([8388608]), shape of targets is torch.Size([8388608])\n"
          ]
        },
        {
          "output_type": "stream",
          "name": "stderr",
          "text": [
            "\r 67%|██████▋   | 2/3 [00:00<00:00,  2.27it/s]"
          ]
        },
        {
          "output_type": "stream",
          "name": "stdout",
          "text": [
            "Max val of bneck input is 8.401385307312012, Min val of bneck input is 0.0\n",
            "Max val of bottleneck_plus_emb 21.95241928100586, Min val of bneckplusemb is -8.30583381652832\n",
            "Max val before sigmoid is 94.21099853515625, Min val before sigmoid is 0.0\n",
            "Shape of prds is torch.Size([8388608]), shape of targets is torch.Size([8388608])\n"
          ]
        },
        {
          "output_type": "stream",
          "name": "stderr",
          "text": [
            "100%|██████████| 3/3 [00:01<00:00,  2.43it/s]\n"
          ]
        },
        {
          "output_type": "stream",
          "name": "stdout",
          "text": [
            "Max val of bneck input is 8.459881782531738, Min val of bneck input is 0.0\n",
            "Max val of bottleneck_plus_emb 18.642581939697266, Min val of bneckplusemb is -7.875702857971191\n",
            "Max val before sigmoid is 94.34317016601562, Min val before sigmoid is 0.0\n",
            "Shape of prds is torch.Size([7602176]), shape of targets is torch.Size([7602176])\n",
            "Finished epoch: 24 | Number Loss : 0.7686\n",
            "Improved Loss to 0.7686 .... Saving Model\n"
          ]
        },
        {
          "output_type": "stream",
          "name": "stderr",
          "text": [
            " 33%|███▎      | 1/3 [00:00<00:01,  1.38it/s]"
          ]
        },
        {
          "output_type": "stream",
          "name": "stdout",
          "text": [
            "Max val of bneck input is 8.254786491394043, Min val of bneck input is 0.0\n",
            "Max val of bottleneck_plus_emb 21.357666015625, Min val of bneckplusemb is -8.83077621459961\n",
            "Max val before sigmoid is 76.41726684570312, Min val before sigmoid is 0.0\n",
            "Shape of prds is torch.Size([8388608]), shape of targets is torch.Size([8388608])\n"
          ]
        },
        {
          "output_type": "stream",
          "name": "stderr",
          "text": [
            "\r 67%|██████▋   | 2/3 [00:00<00:00,  2.30it/s]"
          ]
        },
        {
          "output_type": "stream",
          "name": "stdout",
          "text": [
            "Max val of bneck input is 8.263350486755371, Min val of bneck input is 0.0\n",
            "Max val of bottleneck_plus_emb 19.32790184020996, Min val of bneckplusemb is -8.093204498291016\n",
            "Max val before sigmoid is 92.97509765625, Min val before sigmoid is 0.0\n",
            "Shape of prds is torch.Size([8388608]), shape of targets is torch.Size([8388608])\n"
          ]
        },
        {
          "output_type": "stream",
          "name": "stderr",
          "text": [
            "100%|██████████| 3/3 [00:01<00:00,  2.46it/s]\n"
          ]
        },
        {
          "output_type": "stream",
          "name": "stdout",
          "text": [
            "Max val of bneck input is 8.411779403686523, Min val of bneck input is 0.0\n",
            "Max val of bottleneck_plus_emb 20.626367568969727, Min val of bneckplusemb is -8.26196575164795\n",
            "Max val before sigmoid is 110.84635162353516, Min val before sigmoid is 0.0\n",
            "Shape of prds is torch.Size([7602176]), shape of targets is torch.Size([7602176])\n",
            "Finished epoch: 25 | Number Loss : 0.7684\n",
            "Improved Loss to 0.7684 .... Saving Model\n"
          ]
        },
        {
          "output_type": "stream",
          "name": "stderr",
          "text": [
            " 33%|███▎      | 1/3 [00:00<00:01,  1.39it/s]"
          ]
        },
        {
          "output_type": "stream",
          "name": "stdout",
          "text": [
            "Max val of bneck input is 7.696746826171875, Min val of bneck input is 0.0\n",
            "Max val of bottleneck_plus_emb 22.1077823638916, Min val of bneckplusemb is -8.82607650756836\n",
            "Max val before sigmoid is 102.67135620117188, Min val before sigmoid is 0.0\n",
            "Shape of prds is torch.Size([8388608]), shape of targets is torch.Size([8388608])\n"
          ]
        },
        {
          "output_type": "stream",
          "name": "stderr",
          "text": [
            "\r 67%|██████▋   | 2/3 [00:00<00:00,  2.33it/s]"
          ]
        },
        {
          "output_type": "stream",
          "name": "stdout",
          "text": [
            "Max val of bneck input is 7.903403282165527, Min val of bneck input is 0.0\n",
            "Max val of bottleneck_plus_emb 19.79891014099121, Min val of bneckplusemb is -8.379727363586426\n",
            "Max val before sigmoid is 89.20584869384766, Min val before sigmoid is 0.0\n",
            "Shape of prds is torch.Size([8388608]), shape of targets is torch.Size([8388608])\n"
          ]
        },
        {
          "output_type": "stream",
          "name": "stderr",
          "text": [
            "100%|██████████| 3/3 [00:01<00:00,  2.47it/s]\n"
          ]
        },
        {
          "output_type": "stream",
          "name": "stdout",
          "text": [
            "Max val of bneck input is 9.019498825073242, Min val of bneck input is 0.0\n",
            "Max val of bottleneck_plus_emb 20.357864379882812, Min val of bneckplusemb is -8.656634330749512\n",
            "Max val before sigmoid is 84.48603820800781, Min val before sigmoid is 0.0\n",
            "Shape of prds is torch.Size([7602176]), shape of targets is torch.Size([7602176])\n",
            "Finished epoch: 26 | Number Loss : 0.7684\n",
            "No Loss Improvement\n"
          ]
        },
        {
          "output_type": "stream",
          "name": "stderr",
          "text": [
            " 33%|███▎      | 1/3 [00:00<00:01,  1.42it/s]"
          ]
        },
        {
          "output_type": "stream",
          "name": "stdout",
          "text": [
            "Max val of bneck input is 9.024365425109863, Min val of bneck input is 0.0\n",
            "Max val of bottleneck_plus_emb 22.18921661376953, Min val of bneckplusemb is -8.821553230285645\n",
            "Max val before sigmoid is 89.52334594726562, Min val before sigmoid is 0.0\n",
            "Shape of prds is torch.Size([8388608]), shape of targets is torch.Size([8388608])\n"
          ]
        },
        {
          "output_type": "stream",
          "name": "stderr",
          "text": [
            "\r 67%|██████▋   | 2/3 [00:00<00:00,  2.34it/s]"
          ]
        },
        {
          "output_type": "stream",
          "name": "stdout",
          "text": [
            "Max val of bneck input is 8.908136367797852, Min val of bneck input is 0.0\n",
            "Max val of bottleneck_plus_emb 20.286334991455078, Min val of bneckplusemb is -8.65404987335205\n",
            "Max val before sigmoid is 91.52619934082031, Min val before sigmoid is 0.0\n",
            "Shape of prds is torch.Size([8388608]), shape of targets is torch.Size([8388608])\n"
          ]
        },
        {
          "output_type": "stream",
          "name": "stderr",
          "text": [
            "100%|██████████| 3/3 [00:01<00:00,  2.47it/s]\n"
          ]
        },
        {
          "output_type": "stream",
          "name": "stdout",
          "text": [
            "Max val of bneck input is 7.817584991455078, Min val of bneck input is 0.0\n",
            "Max val of bottleneck_plus_emb 20.214763641357422, Min val of bneckplusemb is -7.634562969207764\n",
            "Max val before sigmoid is 112.23949432373047, Min val before sigmoid is 0.0\n",
            "Shape of prds is torch.Size([7602176]), shape of targets is torch.Size([7602176])\n",
            "Finished epoch: 27 | Number Loss : 0.7683\n",
            "Improved Loss to 0.7683 .... Saving Model\n"
          ]
        },
        {
          "output_type": "stream",
          "name": "stderr",
          "text": [
            " 33%|███▎      | 1/3 [00:00<00:01,  1.41it/s]"
          ]
        },
        {
          "output_type": "stream",
          "name": "stdout",
          "text": [
            "Max val of bneck input is 9.380782127380371, Min val of bneck input is 0.0\n",
            "Max val of bottleneck_plus_emb 22.5606689453125, Min val of bneckplusemb is -7.862037181854248\n",
            "Max val before sigmoid is 86.83009338378906, Min val before sigmoid is 0.0\n",
            "Shape of prds is torch.Size([8388608]), shape of targets is torch.Size([8388608])\n"
          ]
        },
        {
          "output_type": "stream",
          "name": "stderr",
          "text": [
            "\r 67%|██████▋   | 2/3 [00:00<00:00,  2.33it/s]"
          ]
        },
        {
          "output_type": "stream",
          "name": "stdout",
          "text": [
            "Max val of bneck input is 8.316266059875488, Min val of bneck input is 0.0\n",
            "Max val of bottleneck_plus_emb 20.201879501342773, Min val of bneckplusemb is -8.81584644317627\n",
            "Max val before sigmoid is 75.78977966308594, Min val before sigmoid is 0.0\n",
            "Shape of prds is torch.Size([8388608]), shape of targets is torch.Size([8388608])\n"
          ]
        },
        {
          "output_type": "stream",
          "name": "stderr",
          "text": [
            "100%|██████████| 3/3 [00:01<00:00,  2.47it/s]\n"
          ]
        },
        {
          "output_type": "stream",
          "name": "stdout",
          "text": [
            "Max val of bneck input is 8.418140411376953, Min val of bneck input is 0.0\n",
            "Max val of bottleneck_plus_emb 19.89997673034668, Min val of bneckplusemb is -7.6304731369018555\n",
            "Max val before sigmoid is 102.61477661132812, Min val before sigmoid is 0.0\n",
            "Shape of prds is torch.Size([7602176]), shape of targets is torch.Size([7602176])\n",
            "Finished epoch: 28 | Number Loss : 0.7681\n",
            "Improved Loss to 0.7681 .... Saving Model\n"
          ]
        },
        {
          "output_type": "stream",
          "name": "stderr",
          "text": [
            " 33%|███▎      | 1/3 [00:00<00:01,  1.05it/s]"
          ]
        },
        {
          "output_type": "stream",
          "name": "stdout",
          "text": [
            "Max val of bneck input is 8.678997039794922, Min val of bneck input is 0.0\n",
            "Max val of bottleneck_plus_emb 19.932437896728516, Min val of bneckplusemb is -7.857545375823975\n",
            "Max val before sigmoid is 80.82489776611328, Min val before sigmoid is 0.0\n",
            "Shape of prds is torch.Size([8388608]), shape of targets is torch.Size([8388608])\n"
          ]
        },
        {
          "output_type": "stream",
          "name": "stderr",
          "text": [
            "\r 67%|██████▋   | 2/3 [00:01<00:00,  1.80it/s]"
          ]
        },
        {
          "output_type": "stream",
          "name": "stdout",
          "text": [
            "Max val of bneck input is 8.356616973876953, Min val of bneck input is 0.0\n",
            "Max val of bottleneck_plus_emb 22.13111686706543, Min val of bneckplusemb is -8.811211585998535\n",
            "Max val before sigmoid is 75.13539123535156, Min val before sigmoid is 0.0\n",
            "Shape of prds is torch.Size([8388608]), shape of targets is torch.Size([8388608])\n"
          ]
        },
        {
          "output_type": "stream",
          "name": "stderr",
          "text": [
            "100%|██████████| 3/3 [00:01<00:00,  1.93it/s]\n"
          ]
        },
        {
          "output_type": "stream",
          "name": "stdout",
          "text": [
            "Max val of bneck input is 9.28457260131836, Min val of bneck input is 0.0\n",
            "Max val of bottleneck_plus_emb 20.586610794067383, Min val of bneckplusemb is -8.64341926574707\n",
            "Max val before sigmoid is 115.51117706298828, Min val before sigmoid is 0.0\n",
            "Shape of prds is torch.Size([7602176]), shape of targets is torch.Size([7602176])\n",
            "Finished epoch: 29 | Number Loss : 0.7680\n",
            "Improved Loss to 0.7680 .... Saving Model\n"
          ]
        },
        {
          "output_type": "stream",
          "name": "stderr",
          "text": [
            " 33%|███▎      | 1/3 [00:01<00:02,  1.11s/it]"
          ]
        },
        {
          "output_type": "stream",
          "name": "stdout",
          "text": [
            "Max val of bneck input is 8.909608840942383, Min val of bneck input is 0.0\n",
            "Max val of bottleneck_plus_emb 20.390708923339844, Min val of bneckplusemb is -8.64223861694336\n",
            "Max val before sigmoid is 87.60203552246094, Min val before sigmoid is 0.0\n",
            "Shape of prds is torch.Size([8388608]), shape of targets is torch.Size([8388608])\n"
          ]
        },
        {
          "output_type": "stream",
          "name": "stderr",
          "text": [
            "\r 67%|██████▋   | 2/3 [00:01<00:00,  1.61it/s]"
          ]
        },
        {
          "output_type": "stream",
          "name": "stdout",
          "text": [
            "Max val of bneck input is 9.04447078704834, Min val of bneck input is 0.0\n",
            "Max val of bottleneck_plus_emb 20.770456314086914, Min val of bneckplusemb is -8.807560920715332\n",
            "Max val before sigmoid is 77.14461517333984, Min val before sigmoid is 0.0\n",
            "Shape of prds is torch.Size([8388608]), shape of targets is torch.Size([8388608])\n"
          ]
        },
        {
          "output_type": "stream",
          "name": "stderr",
          "text": [
            "100%|██████████| 3/3 [00:01<00:00,  1.76it/s]\n"
          ]
        },
        {
          "output_type": "stream",
          "name": "stdout",
          "text": [
            "Max val of bneck input is 8.045405387878418, Min val of bneck input is 0.0\n",
            "Max val of bottleneck_plus_emb 22.249792098999023, Min val of bneckplusemb is -8.388810157775879\n",
            "Max val before sigmoid is 105.00460052490234, Min val before sigmoid is 0.0\n",
            "Shape of prds is torch.Size([7602176]), shape of targets is torch.Size([7602176])\n",
            "Finished epoch: 30 | Number Loss : 0.7679\n",
            "Improved Loss to 0.7679 .... Saving Model\n"
          ]
        },
        {
          "output_type": "stream",
          "name": "stderr",
          "text": [
            " 33%|███▎      | 1/3 [00:00<00:01,  1.24it/s]"
          ]
        },
        {
          "output_type": "stream",
          "name": "stdout",
          "text": [
            "Max val of bneck input is 8.35519027709961, Min val of bneck input is 0.0\n",
            "Max val of bottleneck_plus_emb 20.213285446166992, Min val of bneckplusemb is -8.070829391479492\n",
            "Max val before sigmoid is 111.90193176269531, Min val before sigmoid is 0.0\n",
            "Shape of prds is torch.Size([8388608]), shape of targets is torch.Size([8388608])\n"
          ]
        },
        {
          "output_type": "stream",
          "name": "stderr",
          "text": [
            "\r 67%|██████▋   | 2/3 [00:01<00:00,  2.13it/s]"
          ]
        },
        {
          "output_type": "stream",
          "name": "stdout",
          "text": [
            "Max val of bneck input is 9.23915958404541, Min val of bneck input is 0.0\n",
            "Max val of bottleneck_plus_emb 22.878963470458984, Min val of bneckplusemb is -8.802824020385742\n",
            "Max val before sigmoid is 79.62645721435547, Min val before sigmoid is 0.0\n",
            "Shape of prds is torch.Size([8388608]), shape of targets is torch.Size([8388608])\n"
          ]
        },
        {
          "output_type": "stream",
          "name": "stderr",
          "text": [
            "100%|██████████| 3/3 [00:01<00:00,  2.29it/s]\n"
          ]
        },
        {
          "output_type": "stream",
          "name": "stdout",
          "text": [
            "Max val of bneck input is 9.639054298400879, Min val of bneck input is 0.0\n",
            "Max val of bottleneck_plus_emb 20.176591873168945, Min val of bneckplusemb is -8.634806632995605\n",
            "Max val before sigmoid is 77.12763977050781, Min val before sigmoid is 0.0\n",
            "Shape of prds is torch.Size([7602176]), shape of targets is torch.Size([7602176])\n",
            "Finished epoch: 31 | Number Loss : 0.7679\n",
            "No Loss Improvement\n"
          ]
        },
        {
          "output_type": "stream",
          "name": "stderr",
          "text": [
            " 33%|███▎      | 1/3 [00:00<00:01,  1.37it/s]"
          ]
        },
        {
          "output_type": "stream",
          "name": "stdout",
          "text": [
            "Max val of bneck input is 9.077910423278809, Min val of bneck input is 0.0\n",
            "Max val of bottleneck_plus_emb 22.89787483215332, Min val of bneckplusemb is -8.633337020874023\n",
            "Max val before sigmoid is 83.03384399414062, Min val before sigmoid is 0.0\n",
            "Shape of prds is torch.Size([8388608]), shape of targets is torch.Size([8388608])\n"
          ]
        },
        {
          "output_type": "stream",
          "name": "stderr",
          "text": [
            "\r 67%|██████▋   | 2/3 [00:00<00:00,  2.29it/s]"
          ]
        },
        {
          "output_type": "stream",
          "name": "stdout",
          "text": [
            "Max val of bneck input is 8.922036170959473, Min val of bneck input is 0.0\n",
            "Max val of bottleneck_plus_emb 19.781402587890625, Min val of bneckplusemb is -8.423436164855957\n",
            "Max val before sigmoid is 109.99302673339844, Min val before sigmoid is 0.0\n",
            "Shape of prds is torch.Size([8388608]), shape of targets is torch.Size([8388608])\n"
          ]
        },
        {
          "output_type": "stream",
          "name": "stderr",
          "text": [
            "100%|██████████| 3/3 [00:01<00:00,  2.41it/s]\n"
          ]
        },
        {
          "output_type": "stream",
          "name": "stdout",
          "text": [
            "Max val of bneck input is 8.41385555267334, Min val of bneck input is 0.0\n",
            "Max val of bottleneck_plus_emb 19.682809829711914, Min val of bneckplusemb is -8.797433853149414\n",
            "Max val before sigmoid is 82.94805145263672, Min val before sigmoid is 0.0\n",
            "Shape of prds is torch.Size([7602176]), shape of targets is torch.Size([7602176])\n",
            "Finished epoch: 32 | Number Loss : 0.7679\n",
            "Improved Loss to 0.7679 .... Saving Model\n"
          ]
        },
        {
          "output_type": "stream",
          "name": "stderr",
          "text": [
            " 33%|███▎      | 1/3 [00:00<00:01,  1.38it/s]"
          ]
        },
        {
          "output_type": "stream",
          "name": "stdout",
          "text": [
            "Max val of bneck input is 8.60427474975586, Min val of bneck input is 0.0\n",
            "Max val of bottleneck_plus_emb 20.656326293945312, Min val of bneckplusemb is -8.465266227722168\n",
            "Max val before sigmoid is 106.43899536132812, Min val before sigmoid is 0.0\n",
            "Shape of prds is torch.Size([8388608]), shape of targets is torch.Size([8388608])\n"
          ]
        },
        {
          "output_type": "stream",
          "name": "stderr",
          "text": [
            "\r 67%|██████▋   | 2/3 [00:00<00:00,  2.22it/s]"
          ]
        },
        {
          "output_type": "stream",
          "name": "stdout",
          "text": [
            "Max val of bneck input is 8.737192153930664, Min val of bneck input is 0.0\n",
            "Max val of bottleneck_plus_emb 22.447105407714844, Min val of bneckplusemb is -8.627457618713379\n",
            "Max val before sigmoid is 92.90770721435547, Min val before sigmoid is 0.0\n",
            "Shape of prds is torch.Size([8388608]), shape of targets is torch.Size([8388608])\n"
          ]
        },
        {
          "output_type": "stream",
          "name": "stderr",
          "text": [
            "100%|██████████| 3/3 [00:01<00:00,  2.41it/s]\n"
          ]
        },
        {
          "output_type": "stream",
          "name": "stdout",
          "text": [
            "Max val of bneck input is 10.039180755615234, Min val of bneck input is 0.0\n",
            "Max val of bottleneck_plus_emb 20.366622924804688, Min val of bneckplusemb is -8.792701721191406\n",
            "Max val before sigmoid is 75.3917007446289, Min val before sigmoid is 0.0\n",
            "Shape of prds is torch.Size([7602176]), shape of targets is torch.Size([7602176])\n",
            "Finished epoch: 33 | Number Loss : 0.7678\n",
            "Improved Loss to 0.7678 .... Saving Model\n"
          ]
        },
        {
          "output_type": "stream",
          "name": "stderr",
          "text": [
            " 33%|███▎      | 1/3 [00:00<00:01,  1.33it/s]"
          ]
        },
        {
          "output_type": "stream",
          "name": "stdout",
          "text": [
            "Max val of bneck input is 9.223563194274902, Min val of bneck input is 0.0\n",
            "Max val of bottleneck_plus_emb 18.46565055847168, Min val of bneckplusemb is -8.267647743225098\n",
            "Max val before sigmoid is 88.78125, Min val before sigmoid is 0.0\n",
            "Shape of prds is torch.Size([8388608]), shape of targets is torch.Size([8388608])\n"
          ]
        },
        {
          "output_type": "stream",
          "name": "stderr",
          "text": [
            "\r 67%|██████▋   | 2/3 [00:00<00:00,  2.25it/s]"
          ]
        },
        {
          "output_type": "stream",
          "name": "stdout",
          "text": [
            "Max val of bneck input is 8.567557334899902, Min val of bneck input is 0.0\n",
            "Max val of bottleneck_plus_emb 22.416654586791992, Min val of bneckplusemb is -8.790444374084473\n",
            "Max val before sigmoid is 123.30782318115234, Min val before sigmoid is 0.0\n",
            "Shape of prds is torch.Size([8388608]), shape of targets is torch.Size([8388608])\n"
          ]
        },
        {
          "output_type": "stream",
          "name": "stderr",
          "text": [
            "100%|██████████| 3/3 [00:01<00:00,  2.41it/s]\n"
          ]
        },
        {
          "output_type": "stream",
          "name": "stdout",
          "text": [
            "Max val of bneck input is 9.6904296875, Min val of bneck input is 0.0\n",
            "Max val of bottleneck_plus_emb 20.326641082763672, Min val of bneckplusemb is -8.622599601745605\n",
            "Max val before sigmoid is 81.28313446044922, Min val before sigmoid is 0.0\n",
            "Shape of prds is torch.Size([7602176]), shape of targets is torch.Size([7602176])\n",
            "Finished epoch: 34 | Number Loss : 0.7677\n",
            "Improved Loss to 0.7677 .... Saving Model\n"
          ]
        },
        {
          "output_type": "stream",
          "name": "stderr",
          "text": [
            " 33%|███▎      | 1/3 [00:00<00:01,  1.34it/s]"
          ]
        },
        {
          "output_type": "stream",
          "name": "stdout",
          "text": [
            "Max val of bneck input is 9.415571212768555, Min val of bneck input is 0.0\n",
            "Max val of bottleneck_plus_emb 20.432472229003906, Min val of bneckplusemb is -8.62144660949707\n",
            "Max val before sigmoid is 87.0387191772461, Min val before sigmoid is 0.0\n",
            "Shape of prds is torch.Size([8388608]), shape of targets is torch.Size([8388608])\n"
          ]
        },
        {
          "output_type": "stream",
          "name": "stderr",
          "text": [
            "\r 67%|██████▋   | 2/3 [00:00<00:00,  2.28it/s]"
          ]
        },
        {
          "output_type": "stream",
          "name": "stdout",
          "text": [
            "Max val of bneck input is 8.48609447479248, Min val of bneck input is 0.0\n",
            "Max val of bottleneck_plus_emb 19.83841896057129, Min val of bneckplusemb is -8.786831855773926\n",
            "Max val before sigmoid is 103.69715118408203, Min val before sigmoid is 0.0\n",
            "Shape of prds is torch.Size([8388608]), shape of targets is torch.Size([8388608])\n"
          ]
        },
        {
          "output_type": "stream",
          "name": "stderr",
          "text": [
            "100%|██████████| 3/3 [00:01<00:00,  2.43it/s]\n"
          ]
        },
        {
          "output_type": "stream",
          "name": "stdout",
          "text": [
            "Max val of bneck input is 10.764291763305664, Min val of bneck input is 0.0\n",
            "Max val of bottleneck_plus_emb 23.63270378112793, Min val of bneckplusemb is -8.261934280395508\n",
            "Max val before sigmoid is 68.38397979736328, Min val before sigmoid is 0.0\n",
            "Shape of prds is torch.Size([7602176]), shape of targets is torch.Size([7602176])\n",
            "Finished epoch: 35 | Number Loss : 0.7676\n",
            "Improved Loss to 0.7676 .... Saving Model\n"
          ]
        },
        {
          "output_type": "stream",
          "name": "stderr",
          "text": [
            " 33%|███▎      | 1/3 [00:00<00:01,  1.39it/s]"
          ]
        },
        {
          "output_type": "stream",
          "name": "stdout",
          "text": [
            "Max val of bneck input is 9.482967376708984, Min val of bneck input is 0.0\n",
            "Max val of bottleneck_plus_emb 21.109607696533203, Min val of bneckplusemb is -8.783415794372559\n",
            "Max val before sigmoid is 119.17274475097656, Min val before sigmoid is 0.0\n",
            "Shape of prds is torch.Size([8388608]), shape of targets is torch.Size([8388608])\n"
          ]
        },
        {
          "output_type": "stream",
          "name": "stderr",
          "text": [
            "\r 67%|██████▋   | 2/3 [00:00<00:00,  2.32it/s]"
          ]
        },
        {
          "output_type": "stream",
          "name": "stdout",
          "text": [
            "Max val of bneck input is 9.682924270629883, Min val of bneck input is 0.0\n",
            "Max val of bottleneck_plus_emb 19.859895706176758, Min val of bneckplusemb is -8.534164428710938\n",
            "Max val before sigmoid is 91.42732238769531, Min val before sigmoid is 0.0\n",
            "Shape of prds is torch.Size([8388608]), shape of targets is torch.Size([8388608])\n"
          ]
        },
        {
          "output_type": "stream",
          "name": "stderr",
          "text": [
            "100%|██████████| 3/3 [00:01<00:00,  2.47it/s]\n"
          ]
        },
        {
          "output_type": "stream",
          "name": "stdout",
          "text": [
            "Max val of bneck input is 8.678753852844238, Min val of bneck input is 0.0\n",
            "Max val of bottleneck_plus_emb 22.58853530883789, Min val of bneckplusemb is -8.613580703735352\n",
            "Max val before sigmoid is 70.90808868408203, Min val before sigmoid is 0.0\n",
            "Shape of prds is torch.Size([7602176]), shape of targets is torch.Size([7602176])\n",
            "Finished epoch: 36 | Number Loss : 0.7675\n",
            "Improved Loss to 0.7675 .... Saving Model\n"
          ]
        },
        {
          "output_type": "stream",
          "name": "stderr",
          "text": [
            " 33%|███▎      | 1/3 [00:00<00:01,  1.27it/s]"
          ]
        },
        {
          "output_type": "stream",
          "name": "stdout",
          "text": [
            "Max val of bneck input is 8.749216079711914, Min val of bneck input is 0.0\n",
            "Max val of bottleneck_plus_emb 20.860422134399414, Min val of bneckplusemb is -8.779040336608887\n",
            "Max val before sigmoid is 81.3184814453125, Min val before sigmoid is 0.0\n",
            "Shape of prds is torch.Size([8388608]), shape of targets is torch.Size([8388608])\n"
          ]
        },
        {
          "output_type": "stream",
          "name": "stderr",
          "text": [
            "\r 67%|██████▋   | 2/3 [00:01<00:00,  2.21it/s]"
          ]
        },
        {
          "output_type": "stream",
          "name": "stdout",
          "text": [
            "Max val of bneck input is 9.021602630615234, Min val of bneck input is 0.0\n",
            "Max val of bottleneck_plus_emb 23.31610107421875, Min val of bneckplusemb is -7.693521499633789\n",
            "Max val before sigmoid is 73.05818939208984, Min val before sigmoid is 0.0\n",
            "Shape of prds is torch.Size([8388608]), shape of targets is torch.Size([8388608])\n"
          ]
        },
        {
          "output_type": "stream",
          "name": "stderr",
          "text": [
            "100%|██████████| 3/3 [00:01<00:00,  2.36it/s]\n"
          ]
        },
        {
          "output_type": "stream",
          "name": "stdout",
          "text": [
            "Max val of bneck input is 9.440350532531738, Min val of bneck input is 0.0\n",
            "Max val of bottleneck_plus_emb 20.538745880126953, Min val of bneckplusemb is -8.609898567199707\n",
            "Max val before sigmoid is 113.7500228881836, Min val before sigmoid is 0.0\n",
            "Shape of prds is torch.Size([7602176]), shape of targets is torch.Size([7602176])\n",
            "Finished epoch: 37 | Number Loss : 0.7674\n",
            "Improved Loss to 0.7674 .... Saving Model\n"
          ]
        },
        {
          "output_type": "stream",
          "name": "stderr",
          "text": [
            " 33%|███▎      | 1/3 [00:00<00:01,  1.35it/s]"
          ]
        },
        {
          "output_type": "stream",
          "name": "stdout",
          "text": [
            "Max val of bneck input is 9.110876083374023, Min val of bneck input is 0.0\n",
            "Max val of bottleneck_plus_emb 23.037826538085938, Min val of bneckplusemb is -8.391515731811523\n",
            "Max val before sigmoid is 76.25703430175781, Min val before sigmoid is 0.0\n",
            "Shape of prds is torch.Size([8388608]), shape of targets is torch.Size([8388608])\n"
          ]
        },
        {
          "output_type": "stream",
          "name": "stderr",
          "text": [
            "\r 67%|██████▋   | 2/3 [00:00<00:00,  2.27it/s]"
          ]
        },
        {
          "output_type": "stream",
          "name": "stdout",
          "text": [
            "Max val of bneck input is 9.050637245178223, Min val of bneck input is 0.0\n",
            "Max val of bottleneck_plus_emb 20.605281829833984, Min val of bneckplusemb is -8.774625778198242\n",
            "Max val before sigmoid is 92.07926177978516, Min val before sigmoid is 0.0\n",
            "Shape of prds is torch.Size([8388608]), shape of targets is torch.Size([8388608])\n"
          ]
        },
        {
          "output_type": "stream",
          "name": "stderr",
          "text": [
            "100%|██████████| 3/3 [00:01<00:00,  2.38it/s]\n"
          ]
        },
        {
          "output_type": "stream",
          "name": "stdout",
          "text": [
            "Max val of bneck input is 10.203275680541992, Min val of bneck input is 0.0\n",
            "Max val of bottleneck_plus_emb 20.58883285522461, Min val of bneckplusemb is -7.690372467041016\n",
            "Max val before sigmoid is 104.09797668457031, Min val before sigmoid is 0.0\n",
            "Shape of prds is torch.Size([7602176]), shape of targets is torch.Size([7602176])\n",
            "Finished epoch: 38 | Number Loss : 0.7674\n",
            "Improved Loss to 0.7674 .... Saving Model\n"
          ]
        },
        {
          "output_type": "stream",
          "name": "stderr",
          "text": [
            " 33%|███▎      | 1/3 [00:01<00:02,  1.18s/it]"
          ]
        },
        {
          "output_type": "stream",
          "name": "stdout",
          "text": [
            "Max val of bneck input is 10.186270713806152, Min val of bneck input is 0.0\n",
            "Max val of bottleneck_plus_emb 21.40830421447754, Min val of bneckplusemb is -8.312527656555176\n",
            "Max val before sigmoid is 88.28993225097656, Min val before sigmoid is 0.0\n",
            "Shape of prds is torch.Size([8388608]), shape of targets is torch.Size([8388608])\n"
          ]
        },
        {
          "output_type": "stream",
          "name": "stderr",
          "text": [
            "\r 67%|██████▋   | 2/3 [00:01<00:00,  1.54it/s]"
          ]
        },
        {
          "output_type": "stream",
          "name": "stdout",
          "text": [
            "Max val of bneck input is 9.400494575500488, Min val of bneck input is 0.0\n",
            "Max val of bottleneck_plus_emb 23.59490966796875, Min val of bneckplusemb is -8.040602684020996\n",
            "Max val before sigmoid is 77.72196960449219, Min val before sigmoid is 0.0\n",
            "Shape of prds is torch.Size([8388608]), shape of targets is torch.Size([8388608])\n"
          ]
        },
        {
          "output_type": "stream",
          "name": "stderr",
          "text": [
            "100%|██████████| 3/3 [00:01<00:00,  1.70it/s]\n"
          ]
        },
        {
          "output_type": "stream",
          "name": "stdout",
          "text": [
            "Max val of bneck input is 8.491814613342285, Min val of bneck input is 0.0\n",
            "Max val of bottleneck_plus_emb 20.246047973632812, Min val of bneckplusemb is -8.7689847946167\n",
            "Max val before sigmoid is 104.13263702392578, Min val before sigmoid is 0.0\n",
            "Shape of prds is torch.Size([7602176]), shape of targets is torch.Size([7602176])\n",
            "Finished epoch: 39 | Number Loss : 0.7673\n",
            "Improved Loss to 0.7673 .... Saving Model\n"
          ]
        },
        {
          "output_type": "stream",
          "name": "stderr",
          "text": [
            " 33%|███▎      | 1/3 [00:01<00:02,  1.28s/it]"
          ]
        },
        {
          "output_type": "stream",
          "name": "stdout",
          "text": [
            "Max val of bneck input is 8.835269927978516, Min val of bneck input is 0.0\n",
            "Max val of bottleneck_plus_emb 20.48188591003418, Min val of bneckplusemb is -8.76747989654541\n",
            "Max val before sigmoid is 74.0224380493164, Min val before sigmoid is 0.0\n",
            "Shape of prds is torch.Size([8388608]), shape of targets is torch.Size([8388608])\n"
          ]
        },
        {
          "output_type": "stream",
          "name": "stderr",
          "text": [
            "\r 67%|██████▋   | 2/3 [00:01<00:00,  1.44it/s]"
          ]
        },
        {
          "output_type": "stream",
          "name": "stdout",
          "text": [
            "Max val of bneck input is 10.039260864257812, Min val of bneck input is 0.0\n",
            "Max val of bottleneck_plus_emb 23.300506591796875, Min val of bneckplusemb is -8.445556640625\n",
            "Max val before sigmoid is 82.45365142822266, Min val before sigmoid is 0.0\n",
            "Shape of prds is torch.Size([8388608]), shape of targets is torch.Size([8388608])\n"
          ]
        },
        {
          "output_type": "stream",
          "name": "stderr",
          "text": [
            "100%|██████████| 3/3 [00:01<00:00,  1.60it/s]\n"
          ]
        },
        {
          "output_type": "stream",
          "name": "stdout",
          "text": [
            "Max val of bneck input is 8.529092788696289, Min val of bneck input is 0.0\n",
            "Max val of bottleneck_plus_emb 20.118741989135742, Min val of bneckplusemb is -8.598715782165527\n",
            "Max val before sigmoid is 114.46292877197266, Min val before sigmoid is 0.0\n",
            "Shape of prds is torch.Size([7602176]), shape of targets is torch.Size([7602176])\n",
            "Finished epoch: 40 | Number Loss : 0.7672\n",
            "Improved Loss to 0.7672 .... Saving Model\n"
          ]
        },
        {
          "output_type": "stream",
          "name": "stderr",
          "text": [
            " 33%|███▎      | 1/3 [00:00<00:01,  1.38it/s]"
          ]
        },
        {
          "output_type": "stream",
          "name": "stdout",
          "text": [
            "Max val of bneck input is 9.724355697631836, Min val of bneck input is 0.0\n",
            "Max val of bottleneck_plus_emb 20.606237411499023, Min val of bneckplusemb is -8.763752937316895\n",
            "Max val before sigmoid is 112.69879913330078, Min val before sigmoid is 0.0\n",
            "Shape of prds is torch.Size([8388608]), shape of targets is torch.Size([8388608])\n"
          ]
        },
        {
          "output_type": "stream",
          "name": "stderr",
          "text": [
            "\r 67%|██████▋   | 2/3 [00:00<00:00,  2.29it/s]"
          ]
        },
        {
          "output_type": "stream",
          "name": "stdout",
          "text": [
            "Max val of bneck input is 9.652643203735352, Min val of bneck input is 0.0\n",
            "Max val of bottleneck_plus_emb 23.491527557373047, Min val of bneckplusemb is -8.241828918457031\n",
            "Max val before sigmoid is 79.51683807373047, Min val before sigmoid is 0.0\n",
            "Shape of prds is torch.Size([8388608]), shape of targets is torch.Size([8388608])\n"
          ]
        },
        {
          "output_type": "stream",
          "name": "stderr",
          "text": [
            "100%|██████████| 3/3 [00:01<00:00,  2.45it/s]\n"
          ]
        },
        {
          "output_type": "stream",
          "name": "stdout",
          "text": [
            "Max val of bneck input is 9.267443656921387, Min val of bneck input is 0.0\n",
            "Max val of bottleneck_plus_emb 20.36779022216797, Min val of bneckplusemb is -8.59549331665039\n",
            "Max val before sigmoid is 77.74964904785156, Min val before sigmoid is 0.0\n",
            "Shape of prds is torch.Size([7602176]), shape of targets is torch.Size([7602176])\n",
            "Finished epoch: 41 | Number Loss : 0.7671\n",
            "Improved Loss to 0.7671 .... Saving Model\n"
          ]
        },
        {
          "output_type": "stream",
          "name": "stderr",
          "text": [
            " 33%|███▎      | 1/3 [00:00<00:01,  1.36it/s]"
          ]
        },
        {
          "output_type": "stream",
          "name": "stdout",
          "text": [
            "Max val of bneck input is 10.471467971801758, Min val of bneck input is 0.0\n",
            "Max val of bottleneck_plus_emb 21.5028076171875, Min val of bneckplusemb is -8.594585418701172\n",
            "Max val before sigmoid is 114.41923522949219, Min val before sigmoid is 0.0\n",
            "Shape of prds is torch.Size([8388608]), shape of targets is torch.Size([8388608])\n"
          ]
        },
        {
          "output_type": "stream",
          "name": "stderr",
          "text": [
            "\r 67%|██████▋   | 2/3 [00:00<00:00,  2.27it/s]"
          ]
        },
        {
          "output_type": "stream",
          "name": "stdout",
          "text": [
            "Max val of bneck input is 8.731025695800781, Min val of bneck input is 0.0\n",
            "Max val of bottleneck_plus_emb 19.927440643310547, Min val of bneckplusemb is -8.75944709777832\n",
            "Max val before sigmoid is 75.21868896484375, Min val before sigmoid is 0.0\n",
            "Shape of prds is torch.Size([8388608]), shape of targets is torch.Size([8388608])\n"
          ]
        },
        {
          "output_type": "stream",
          "name": "stderr",
          "text": [
            "100%|██████████| 3/3 [00:01<00:00,  2.43it/s]\n"
          ]
        },
        {
          "output_type": "stream",
          "name": "stdout",
          "text": [
            "Max val of bneck input is 9.452466011047363, Min val of bneck input is 0.0\n",
            "Max val of bottleneck_plus_emb 24.183929443359375, Min val of bneckplusemb is -7.678354740142822\n",
            "Max val before sigmoid is 74.04706573486328, Min val before sigmoid is 0.0\n",
            "Shape of prds is torch.Size([7602176]), shape of targets is torch.Size([7602176])\n",
            "Finished epoch: 42 | Number Loss : 0.7672\n",
            "No Loss Improvement\n"
          ]
        },
        {
          "output_type": "stream",
          "name": "stderr",
          "text": [
            " 33%|███▎      | 1/3 [00:00<00:01,  1.36it/s]"
          ]
        },
        {
          "output_type": "stream",
          "name": "stdout",
          "text": [
            "Max val of bneck input is 10.70659065246582, Min val of bneck input is 0.0\n",
            "Max val of bottleneck_plus_emb 19.704204559326172, Min val of bneckplusemb is -8.756730079650879\n",
            "Max val before sigmoid is 74.59492492675781, Min val before sigmoid is 0.0\n",
            "Shape of prds is torch.Size([8388608]), shape of targets is torch.Size([8388608])\n"
          ]
        },
        {
          "output_type": "stream",
          "name": "stderr",
          "text": [
            "\r 67%|██████▋   | 2/3 [00:00<00:00,  2.28it/s]"
          ]
        },
        {
          "output_type": "stream",
          "name": "stdout",
          "text": [
            "Max val of bneck input is 9.767682075500488, Min val of bneck input is 0.0\n",
            "Max val of bottleneck_plus_emb 24.50271987915039, Min val of bneckplusemb is -8.40064811706543\n",
            "Max val before sigmoid is 118.9033432006836, Min val before sigmoid is 0.0\n",
            "Shape of prds is torch.Size([8388608]), shape of targets is torch.Size([8388608])\n"
          ]
        },
        {
          "output_type": "stream",
          "name": "stderr",
          "text": [
            "100%|██████████| 3/3 [00:01<00:00,  2.43it/s]\n"
          ]
        },
        {
          "output_type": "stream",
          "name": "stdout",
          "text": [
            "Max val of bneck input is 9.114861488342285, Min val of bneck input is 0.0\n",
            "Max val of bottleneck_plus_emb 20.10531997680664, Min val of bneckplusemb is -8.588574409484863\n",
            "Max val before sigmoid is 72.50140380859375, Min val before sigmoid is 0.0\n",
            "Shape of prds is torch.Size([7602176]), shape of targets is torch.Size([7602176])\n",
            "Finished epoch: 43 | Number Loss : 0.7670\n",
            "Improved Loss to 0.7670 .... Saving Model\n"
          ]
        },
        {
          "output_type": "stream",
          "name": "stderr",
          "text": [
            " 33%|███▎      | 1/3 [00:00<00:01,  1.32it/s]"
          ]
        },
        {
          "output_type": "stream",
          "name": "stdout",
          "text": [
            "Max val of bneck input is 9.547327041625977, Min val of bneck input is 0.0\n",
            "Max val of bottleneck_plus_emb 23.93132972717285, Min val of bneckplusemb is -8.752533912658691\n",
            "Max val before sigmoid is 110.60884857177734, Min val before sigmoid is 0.0\n",
            "Shape of prds is torch.Size([8388608]), shape of targets is torch.Size([8388608])\n"
          ]
        },
        {
          "output_type": "stream",
          "name": "stderr",
          "text": [
            "\r 67%|██████▋   | 2/3 [00:00<00:00,  2.24it/s]"
          ]
        },
        {
          "output_type": "stream",
          "name": "stdout",
          "text": [
            "Max val of bneck input is 9.484848022460938, Min val of bneck input is 0.0\n",
            "Max val of bottleneck_plus_emb 20.01941680908203, Min val of bneckplusemb is -8.231801986694336\n",
            "Max val before sigmoid is 68.58428955078125, Min val before sigmoid is 0.0\n",
            "Shape of prds is torch.Size([8388608]), shape of targets is torch.Size([8388608])\n"
          ]
        },
        {
          "output_type": "stream",
          "name": "stderr",
          "text": [
            "100%|██████████| 3/3 [00:01<00:00,  2.40it/s]\n"
          ]
        },
        {
          "output_type": "stream",
          "name": "stdout",
          "text": [
            "Max val of bneck input is 9.96761417388916, Min val of bneck input is 0.0\n",
            "Max val of bottleneck_plus_emb 21.30051040649414, Min val of bneckplusemb is -8.585075378417969\n",
            "Max val before sigmoid is 81.6616439819336, Min val before sigmoid is 0.0\n",
            "Shape of prds is torch.Size([7602176]), shape of targets is torch.Size([7602176])\n",
            "Finished epoch: 44 | Number Loss : 0.7670\n",
            "No Loss Improvement\n"
          ]
        },
        {
          "output_type": "stream",
          "name": "stderr",
          "text": [
            " 33%|███▎      | 1/3 [00:00<00:01,  1.37it/s]"
          ]
        },
        {
          "output_type": "stream",
          "name": "stdout",
          "text": [
            "Max val of bneck input is 9.619783401489258, Min val of bneck input is 0.0\n",
            "Max val of bottleneck_plus_emb 20.0673770904541, Min val of bneckplusemb is -8.021564483642578\n",
            "Max val before sigmoid is 78.66459655761719, Min val before sigmoid is 0.0\n",
            "Shape of prds is torch.Size([8388608]), shape of targets is torch.Size([8388608])\n"
          ]
        },
        {
          "output_type": "stream",
          "name": "stderr",
          "text": [
            "\r 67%|██████▋   | 2/3 [00:00<00:00,  2.26it/s]"
          ]
        },
        {
          "output_type": "stream",
          "name": "stdout",
          "text": [
            "Max val of bneck input is 9.827898979187012, Min val of bneck input is 0.0\n",
            "Max val of bottleneck_plus_emb 23.853368759155273, Min val of bneckplusemb is -8.748132705688477\n",
            "Max val before sigmoid is 86.826416015625, Min val before sigmoid is 0.0\n",
            "Shape of prds is torch.Size([8388608]), shape of targets is torch.Size([8388608])\n"
          ]
        },
        {
          "output_type": "stream",
          "name": "stderr",
          "text": [
            "100%|██████████| 3/3 [00:01<00:00,  2.42it/s]\n"
          ]
        },
        {
          "output_type": "stream",
          "name": "stdout",
          "text": [
            "Max val of bneck input is 10.259111404418945, Min val of bneck input is 0.0\n",
            "Max val of bottleneck_plus_emb 21.014259338378906, Min val of bneckplusemb is -7.5873003005981445\n",
            "Max val before sigmoid is 101.93292236328125, Min val before sigmoid is 0.0\n",
            "Shape of prds is torch.Size([7602176]), shape of targets is torch.Size([7602176])\n",
            "Finished epoch: 45 | Number Loss : 0.7669\n",
            "Improved Loss to 0.7669 .... Saving Model\n"
          ]
        },
        {
          "output_type": "stream",
          "name": "stderr",
          "text": [
            " 33%|███▎      | 1/3 [00:00<00:01,  1.33it/s]"
          ]
        },
        {
          "output_type": "stream",
          "name": "stdout",
          "text": [
            "Max val of bneck input is 10.195072174072266, Min val of bneck input is 0.0\n",
            "Max val of bottleneck_plus_emb 19.28139305114746, Min val of bneckplusemb is -8.227008819580078\n",
            "Max val before sigmoid is 76.52108001708984, Min val before sigmoid is 0.0\n",
            "Shape of prds is torch.Size([8388608]), shape of targets is torch.Size([8388608])\n"
          ]
        },
        {
          "output_type": "stream",
          "name": "stderr",
          "text": [
            "\r 67%|██████▋   | 2/3 [00:00<00:00,  2.26it/s]"
          ]
        },
        {
          "output_type": "stream",
          "name": "stdout",
          "text": [
            "Max val of bneck input is 10.540753364562988, Min val of bneck input is 0.0\n",
            "Max val of bottleneck_plus_emb 21.297138214111328, Min val of bneckplusemb is -8.744584083557129\n",
            "Max val before sigmoid is 100.79061889648438, Min val before sigmoid is 0.0\n",
            "Shape of prds is torch.Size([8388608]), shape of targets is torch.Size([8388608])\n"
          ]
        },
        {
          "output_type": "stream",
          "name": "stderr",
          "text": [
            "100%|██████████| 3/3 [00:01<00:00,  2.40it/s]\n"
          ]
        },
        {
          "output_type": "stream",
          "name": "stdout",
          "text": [
            "Max val of bneck input is 9.690962791442871, Min val of bneck input is 0.0\n",
            "Max val of bottleneck_plus_emb 24.171646118164062, Min val of bneckplusemb is -8.579062461853027\n",
            "Max val before sigmoid is 74.56848907470703, Min val before sigmoid is 0.0\n",
            "Shape of prds is torch.Size([7602176]), shape of targets is torch.Size([7602176])\n",
            "Finished epoch: 46 | Number Loss : 0.7668\n",
            "Improved Loss to 0.7668 .... Saving Model\n"
          ]
        },
        {
          "output_type": "stream",
          "name": "stderr",
          "text": [
            " 33%|███▎      | 1/3 [00:00<00:01,  1.34it/s]"
          ]
        },
        {
          "output_type": "stream",
          "name": "stdout",
          "text": [
            "Max val of bneck input is 9.569974899291992, Min val of bneck input is 0.0\n",
            "Max val of bottleneck_plus_emb 24.323013305664062, Min val of bneckplusemb is -8.307714462280273\n",
            "Max val before sigmoid is 117.1258316040039, Min val before sigmoid is 0.0\n",
            "Shape of prds is torch.Size([8388608]), shape of targets is torch.Size([8388608])\n"
          ]
        },
        {
          "output_type": "stream",
          "name": "stderr",
          "text": [
            "\r 67%|██████▋   | 2/3 [00:00<00:00,  2.27it/s]"
          ]
        },
        {
          "output_type": "stream",
          "name": "stdout",
          "text": [
            "Max val of bneck input is 10.3397855758667, Min val of bneck input is 0.0\n",
            "Max val of bottleneck_plus_emb 20.276010513305664, Min val of bneckplusemb is -7.789710521697998\n",
            "Max val before sigmoid is 73.6916275024414, Min val before sigmoid is 0.0\n",
            "Shape of prds is torch.Size([8388608]), shape of targets is torch.Size([8388608])\n"
          ]
        },
        {
          "output_type": "stream",
          "name": "stderr",
          "text": [
            "100%|██████████| 3/3 [00:01<00:00,  2.42it/s]\n"
          ]
        },
        {
          "output_type": "stream",
          "name": "stdout",
          "text": [
            "Max val of bneck input is 10.207799911499023, Min val of bneck input is 0.0\n",
            "Max val of bottleneck_plus_emb 20.983505249023438, Min val of bneckplusemb is -8.739775657653809\n",
            "Max val before sigmoid is 86.1181640625, Min val before sigmoid is 0.0\n",
            "Shape of prds is torch.Size([7602176]), shape of targets is torch.Size([7602176])\n",
            "Finished epoch: 47 | Number Loss : 0.7667\n",
            "Improved Loss to 0.7667 .... Saving Model\n"
          ]
        },
        {
          "output_type": "stream",
          "name": "stderr",
          "text": [
            " 33%|███▎      | 1/3 [00:00<00:01,  1.34it/s]"
          ]
        },
        {
          "output_type": "stream",
          "name": "stdout",
          "text": [
            "Max val of bneck input is 9.899996757507324, Min val of bneck input is 0.0\n",
            "Max val of bottleneck_plus_emb 20.943500518798828, Min val of bneckplusemb is -8.73858642578125\n",
            "Max val before sigmoid is 78.1529769897461, Min val before sigmoid is 0.0\n",
            "Shape of prds is torch.Size([8388608]), shape of targets is torch.Size([8388608])\n"
          ]
        },
        {
          "output_type": "stream",
          "name": "stderr",
          "text": [
            "\r 67%|██████▋   | 2/3 [00:01<00:00,  2.15it/s]"
          ]
        },
        {
          "output_type": "stream",
          "name": "stdout",
          "text": [
            "Max val of bneck input is 11.1892671585083, Min val of bneck input is 0.0\n",
            "Max val of bottleneck_plus_emb 24.39055824279785, Min val of bneckplusemb is -7.786343574523926\n",
            "Max val before sigmoid is 79.21452331542969, Min val before sigmoid is 0.0\n",
            "Shape of prds is torch.Size([8388608]), shape of targets is torch.Size([8388608])\n"
          ]
        },
        {
          "output_type": "stream",
          "name": "stderr",
          "text": [
            "100%|██████████| 3/3 [00:01<00:00,  2.28it/s]\n"
          ]
        },
        {
          "output_type": "stream",
          "name": "stdout",
          "text": [
            "Max val of bneck input is 9.915372848510742, Min val of bneck input is 0.0\n",
            "Max val of bottleneck_plus_emb 20.417753219604492, Min val of bneckplusemb is -8.57291030883789\n",
            "Max val before sigmoid is 117.61677551269531, Min val before sigmoid is 0.0\n",
            "Shape of prds is torch.Size([7602176]), shape of targets is torch.Size([7602176])\n",
            "Finished epoch: 48 | Number Loss : 0.7667\n",
            "Improved Loss to 0.7667 .... Saving Model\n"
          ]
        },
        {
          "output_type": "stream",
          "name": "stderr",
          "text": [
            " 33%|███▎      | 1/3 [00:01<00:02,  1.17s/it]"
          ]
        },
        {
          "output_type": "stream",
          "name": "stdout",
          "text": [
            "Max val of bneck input is 9.444557189941406, Min val of bneck input is 0.0\n",
            "Max val of bottleneck_plus_emb 20.441326141357422, Min val of bneckplusemb is -8.73512077331543\n",
            "Max val before sigmoid is 116.0522232055664, Min val before sigmoid is 0.0\n",
            "Shape of prds is torch.Size([8388608]), shape of targets is torch.Size([8388608])\n"
          ]
        },
        {
          "output_type": "stream",
          "name": "stderr",
          "text": [
            "\r 67%|██████▋   | 2/3 [00:01<00:00,  1.55it/s]"
          ]
        },
        {
          "output_type": "stream",
          "name": "stdout",
          "text": [
            "Max val of bneck input is 10.540606498718262, Min val of bneck input is 0.0\n",
            "Max val of bottleneck_plus_emb 24.481121063232422, Min val of bneckplusemb is -8.008167266845703\n",
            "Max val before sigmoid is 82.5261459350586, Min val before sigmoid is 0.0\n",
            "Shape of prds is torch.Size([8388608]), shape of targets is torch.Size([8388608])\n"
          ]
        },
        {
          "output_type": "stream",
          "name": "stderr",
          "text": [
            "100%|██████████| 3/3 [00:01<00:00,  1.70it/s]\n"
          ]
        },
        {
          "output_type": "stream",
          "name": "stdout",
          "text": [
            "Max val of bneck input is 12.306894302368164, Min val of bneck input is 0.0\n",
            "Max val of bottleneck_plus_emb 22.027973175048828, Min val of bneckplusemb is -7.6587042808532715\n",
            "Max val before sigmoid is 78.12600708007812, Min val before sigmoid is 0.0\n",
            "Shape of prds is torch.Size([7602176]), shape of targets is torch.Size([7602176])\n",
            "Finished epoch: 49 | Number Loss : 0.7666\n",
            "Improved Loss to 0.7666 .... Saving Model\n"
          ]
        },
        {
          "output_type": "stream",
          "name": "stderr",
          "text": [
            " 33%|███▎      | 1/3 [00:01<00:02,  1.30s/it]"
          ]
        },
        {
          "output_type": "stream",
          "name": "stdout",
          "text": [
            "Max val of bneck input is 10.401798248291016, Min val of bneck input is 0.0\n",
            "Max val of bottleneck_plus_emb 24.282733917236328, Min val of bneckplusemb is -8.73207950592041\n",
            "Max val before sigmoid is 116.15874481201172, Min val before sigmoid is 0.0\n",
            "Shape of prds is torch.Size([8388608]), shape of targets is torch.Size([8388608])\n"
          ]
        },
        {
          "output_type": "stream",
          "name": "stderr",
          "text": [
            "\r 67%|██████▋   | 2/3 [00:01<00:00,  1.42it/s]"
          ]
        },
        {
          "output_type": "stream",
          "name": "stdout",
          "text": [
            "Max val of bneck input is 10.44123649597168, Min val of bneck input is 0.0\n",
            "Max val of bottleneck_plus_emb 21.275131225585938, Min val of bneckplusemb is -8.568509101867676\n",
            "Max val before sigmoid is 69.90363311767578, Min val before sigmoid is 0.0\n",
            "Shape of prds is torch.Size([8388608]), shape of targets is torch.Size([8388608])\n"
          ]
        },
        {
          "output_type": "stream",
          "name": "stderr",
          "text": [
            "100%|██████████| 3/3 [00:01<00:00,  1.55it/s]"
          ]
        },
        {
          "output_type": "stream",
          "name": "stdout",
          "text": [
            "Max val of bneck input is 9.680815696716309, Min val of bneck input is 0.0\n",
            "Max val of bottleneck_plus_emb 18.518760681152344, Min val of bneckplusemb is -7.656160831451416\n",
            "Max val before sigmoid is 83.05601501464844, Min val before sigmoid is 0.0\n",
            "Shape of prds is torch.Size([7602176]), shape of targets is torch.Size([7602176])\n",
            "Finished epoch: 50 | Number Loss : 0.7665\n",
            "Improved Loss to 0.7665 .... Saving Model\n"
          ]
        },
        {
          "output_type": "stream",
          "name": "stderr",
          "text": [
            "\n"
          ]
        }
      ]
    },
    {
      "cell_type": "code",
      "source": [
        "inference(val_loader, config)"
      ],
      "metadata": {
        "colab": {
          "base_uri": "https://localhost:8080/",
          "height": 1000
        },
        "id": "N_fRxfF6pwHR",
        "outputId": "3e98d39b-d083-4be1-e973-1094c3358d94"
      },
      "execution_count": 79,
      "outputs": [
        {
          "output_type": "stream",
          "name": "stderr",
          "text": [
            "<ipython-input-78-243d87d2a075>:36: FutureWarning: You are using `torch.load` with `weights_only=False` (the current default value), which uses the default pickle module implicitly. It is possible to construct malicious pickle data which will execute arbitrary code during unpickling (See https://github.com/pytorch/pytorch/blob/main/SECURITY.md#untrusted-models for more details). In a future release, the default value for `weights_only` will be flipped to `True`. This limits the functions that could be executed during unpickling. Arbitrary objects will no longer be allowed to be loaded via this mode unless they are explicitly allowlisted by the user via `torch.serialization.add_safe_globals`. We recommend you start setting `weights_only=True` for any use case where you don't have full control of the loaded file. Please open an issue on GitHub for any issues related to this experimental feature.\n",
            "  model.load_state_dict(torch.load(os.path.join(config['model_save_path'],\n"
          ]
        },
        {
          "output_type": "stream",
          "name": "stdout",
          "text": [
            "Loading checkpoint\n"
          ]
        },
        {
          "output_type": "stream",
          "name": "stderr",
          "text": [
            "\r  0%|          | 0/1 [00:00<?, ?it/s]"
          ]
        },
        {
          "output_type": "stream",
          "name": "stdout",
          "text": [
            "Max val of bneck input is 9.215126991271973, Min val of bneck input is 0.0\n",
            "Max val of bottleneck_plus_emb 21.025386810302734, Min val of bneckplusemb is -10.318254470825195\n",
            "Max val before sigmoid is 69.99154663085938, Min val before sigmoid is 0.0\n"
          ]
        },
        {
          "output_type": "display_data",
          "data": {
            "text/plain": [
              "<Figure size 1000x2000 with 8 Axes>"
            ],
            "image/png": "[encoded data removed]"
          },
          "metadata": {}
        },
        {
          "output_type": "stream",
          "name": "stdout",
          "text": [
            "tensor(255., device='cuda:0') tensor(0., device='cuda:0')\n"
          ]
        },
        {
          "output_type": "display_data",
          "data": {
            "text/plain": [
              "<Figure size 640x480 with 1 Axes>"
            ],
            "image/png": "[encoded data removed]"
          },
          "metadata": {}
        },
        {
          "output_type": "stream",
          "name": "stderr",
          "text": [
            "100%|██████████| 1/1 [00:02<00:00,  2.99s/it]"
          ]
        },
        {
          "output_type": "stream",
          "name": "stdout",
          "text": [
            "Accuracy in batch 0 during validation is: 0.9704\n"
          ]
        },
        {
          "output_type": "stream",
          "name": "stderr",
          "text": [
            "\n"
          ]
        }
      ]
    }
  ],
  "metadata": {
    "colab": {
      "provenance": [],
      "gpuType": "T4",
      "authorship_tag": "ABX9TyOW8j2M9UnbX6q2cCjr3Stn",
      "include_colab_link": true
    },
    "kernelspec": {
      "display_name": "Python 3",
      "name": "python3"
    },
    "language_info": {
      "name": "python"
    },
    "accelerator": "GPU"
  },
  "nbformat": 4,
  "nbformat_minor": 0
}